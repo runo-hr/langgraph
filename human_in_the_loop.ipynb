{
 "cells": [
  {
   "cell_type": "markdown",
   "id": "8ad976db-fb87-4a92-b0d2-06defc098339",
   "metadata": {},
   "source": [
    "# Lesson 5: Human in the Loop"
   ]
  },
  {
   "cell_type": "markdown",
   "id": "91d756c3-9c97-4155-9b56-8ecfed5f1876",
   "metadata": {},
   "source": [
    "Note: This notebook is running in a later version of langgraph that it was filmed with. The later version has a couple of key additions:\n",
    "- Additional state information is stored to memory and displayed when using `get_state()` or `get_state_history()`.\n",
    "- State is additionally stored every state transition while previously it was stored at an interrupt or at the end.\n",
    "These change the command output slightly, but are a useful addtion to the information available."
   ]
  },
  {
   "cell_type": "code",
   "execution_count": 1,
   "id": "f5762271-8736-4e94-9444-8c92bd0e8074",
   "metadata": {
    "height": 65
   },
   "outputs": [],
   "source": [
    "from dotenv import load_dotenv\n",
    "\n",
    "_ = load_dotenv()"
   ]
  },
  {
   "cell_type": "code",
   "execution_count": 2,
   "id": "d0168aee-bce9-4d60-b827-f86a88187e31",
   "metadata": {
    "height": 167
   },
   "outputs": [],
   "source": [
    "from langgraph.graph import StateGraph, END\n",
    "from typing import TypedDict, Annotated\n",
    "import operator\n",
    "from langchain_core.messages import AnyMessage, SystemMessage, HumanMessage, ToolMessage\n",
    "from langchain_openai import ChatOpenAI\n",
    "from langchain_community.tools.tavily_search import TavilySearchResults\n",
    "from langgraph.checkpoint.sqlite import SqliteSaver\n",
    "\n",
    "memory = SqliteSaver.from_conn_string(\":memory:\")"
   ]
  },
  {
   "cell_type": "code",
   "execution_count": 3,
   "id": "2589c5b6-6cc2-4594-9a17-dccdcf676054",
   "metadata": {
    "height": 557
   },
   "outputs": [],
   "source": [
    "from uuid import uuid4\n",
    "from langchain_core.messages import AnyMessage, SystemMessage, HumanMessage, AIMessage\n",
    "\n",
    "\"\"\"\n",
    "In previous examples we've annotated the `messages` state key\n",
    "with the default `operator.add` or `+` reducer, which always\n",
    "appends new messages to the end of the existing messages array.\n",
    "\n",
    "Now, to support replacing existing messages, we annotate the\n",
    "`messages` key with a customer reducer function, which replaces\n",
    "messages with the same `id`, and appends them otherwise.\n",
    "\"\"\"\n",
    "def reduce_messages(left: list[AnyMessage], right: list[AnyMessage]) -> list[AnyMessage]:\n",
    "    # assign ids to messages that don't have them\n",
    "    for message in right:\n",
    "        if not message.id:\n",
    "            message.id = str(uuid4())\n",
    "    # merge the new messages with the existing messages\n",
    "    merged = left.copy()\n",
    "    for message in right:\n",
    "        for i, existing in enumerate(merged):\n",
    "            # replace any existing messages with the same id\n",
    "            if existing.id == message.id:\n",
    "                merged[i] = message\n",
    "                break\n",
    "        else:\n",
    "            # append any new messages to the end\n",
    "            merged.append(message)\n",
    "    return merged\n",
    "\n",
    "class AgentState(TypedDict):\n",
    "    messages: Annotated[list[AnyMessage], reduce_messages]"
   ]
  },
  {
   "cell_type": "code",
   "execution_count": 4,
   "id": "a2ba84ec-c172-4de7-ac55-e3158a531b23",
   "metadata": {
    "height": 31
   },
   "outputs": [],
   "source": [
    "tool = TavilySearchResults(max_results=2)"
   ]
  },
  {
   "cell_type": "markdown",
   "id": "d58320dc-c542-4a3c-bcf1-088909f9b075",
   "metadata": {},
   "source": [
    "## Manual human approval"
   ]
  },
  {
   "cell_type": "code",
   "execution_count": 5,
   "id": "46a0e94e-d015-4106-b439-dbcd2fcb8bb0",
   "metadata": {
    "height": 1216
   },
   "outputs": [],
   "source": [
    "class Agent:\n",
    "    \"\"\"\n",
    "    The Agent class manages the interaction between a language model and various tools\n",
    "    within a state machine framework. It is responsible for maintaining the state of\n",
    "    messages, invoking the language model, and executing tool actions as required.\n",
    "\n",
    "    Attributes:\n",
    "        system (str): An optional system prompt to initialize the conversation.\n",
    "        graph (StateGraph): The state machine that manages the flow of messages and actions.\n",
    "        tools (dict): A dictionary of tools available to the agent, keyed by their names.\n",
    "        model (ChatOpenAI): The language model instance that the agent uses for generating responses.\n",
    "\n",
    "    Methods:\n",
    "        exists_action(state: AgentState) -> bool:\n",
    "            Checks if there are any tool calls in the latest message in the state.\n",
    "\n",
    "        call_openai(state: AgentState) -> dict:\n",
    "            Invokes the language model with the current list of messages, optionally\n",
    "            prepending a system message if provided.\n",
    "\n",
    "        take_action(state: AgentState) -> dict:\n",
    "            Executes the tool calls specified in the latest message, and returns the results\n",
    "            as new messages.\n",
    "    \"\"\"\n",
    "    def __init__(self, model, tools, system=\"\", checkpointer=None):\n",
    "        self.system = system\n",
    "        graph = StateGraph(AgentState)\n",
    "        graph.add_node(\"llm\", self.call_openai)\n",
    "        graph.add_node(\"action\", self.take_action)\n",
    "        graph.add_conditional_edges(\"llm\", self.exists_action, {True: \"action\", False: END})\n",
    "        graph.add_edge(\"action\", \"llm\")\n",
    "        graph.set_entry_point(\"llm\")\n",
    "        self.graph = graph.compile(\n",
    "            checkpointer=checkpointer,\n",
    "            interrupt_before=[\"action\"]\n",
    "        )\n",
    "        self.tools = {t.name: t for t in tools}\n",
    "        self.model = model.bind_tools(tools)\n",
    "\n",
    "    def call_openai(self, state: AgentState):\n",
    "        messages = state['messages']\n",
    "        if self.system:\n",
    "            messages = [SystemMessage(content=self.system)] + messages\n",
    "        message = self.model.invoke(messages)\n",
    "        return {'messages': [message]}\n",
    "\n",
    "    def exists_action(self, state: AgentState):\n",
    "        print(state)\n",
    "        result = state['messages'][-1]\n",
    "        return len(result.tool_calls) > 0\n",
    "\n",
    "    def take_action(self, state: AgentState):\n",
    "        tool_calls = state['messages'][-1].tool_calls\n",
    "        results = []\n",
    "        print(f\"number of tool calls: {len(tool_calls)} \\n\")\n",
    "        \n",
    "        print(f\"tool calls: {tool_calls} \\n\")\n",
    "        for t in tool_calls:\n",
    "            print(f\"Calling: {t} \\n\")\n",
    "            if not t['name'] in self.tools:      # check for bad tool name from LLM\n",
    "                print(\"\\n ....bad tool name....\")\n",
    "                result = \"bad tool name, retry\"  # instruct LLM to retry if bad\n",
    "            else:\n",
    "                result = self.tools[t['name']].invoke(t['args'])\n",
    "                print(f\"result: {result} \\n\")\n",
    "            results.append(ToolMessage(tool_call_id=t['id'], name=t['name'], content=str(result)))\n",
    "        \n",
    "        print(f\"all results: {results} \\n\")\n",
    "        print(\"Back to the model! \\n\")\n",
    "        return {'messages': results}"
   ]
  },
  {
   "cell_type": "code",
   "execution_count": 6,
   "id": "10084a02-2928-4945-9f7c-ad3f5b33caf7",
   "metadata": {
    "height": 146
   },
   "outputs": [],
   "source": [
    "prompt = \"\"\"You are a smart research assistant. Use the search engine to look up information. \\\n",
    "You are allowed to make multiple calls (either together or in sequence). \\\n",
    "Only look up information when you are sure of what you want. \\\n",
    "If you need to look up some information before asking a follow up question, you are allowed to do that!\n",
    "\"\"\"\n",
    "model = ChatOpenAI(model=\"gpt-3.5-turbo\")\n",
    "abot = Agent(model, [tool], system=prompt, checkpointer=memory)"
   ]
  },
  {
   "cell_type": "code",
   "execution_count": 7,
   "id": "714d1205-f8fc-4912-b148-2a45da99219c",
   "metadata": {
    "height": 133
   },
   "outputs": [
    {
     "name": "stdout",
     "output_type": "stream",
     "text": [
      "{'messages': [HumanMessage(content='Whats the weather in SF?', id='7d5d810e-d923-4c28-ba02-bb7c7422a667'), AIMessage(content='', additional_kwargs={'tool_calls': [{'id': 'call_M9HRDeTYis20FGHfCCZvOPdp', 'function': {'arguments': '{\"query\":\"weather in San Francisco\"}', 'name': 'tavily_search_results_json'}, 'type': 'function'}]}, response_metadata={'token_usage': {'completion_tokens': 21, 'prompt_tokens': 152, 'total_tokens': 173}, 'model_name': 'gpt-3.5-turbo', 'system_fingerprint': None, 'finish_reason': 'tool_calls', 'logprobs': None}, id='run-dec7262a-ea3e-4ce1-b36a-b5470c301321-0', tool_calls=[{'name': 'tavily_search_results_json', 'args': {'query': 'weather in San Francisco'}, 'id': 'call_M9HRDeTYis20FGHfCCZvOPdp'}])]}\n",
      "event: {'llm': {'messages': [AIMessage(content='', additional_kwargs={'tool_calls': [{'id': 'call_M9HRDeTYis20FGHfCCZvOPdp', 'function': {'arguments': '{\"query\":\"weather in San Francisco\"}', 'name': 'tavily_search_results_json'}, 'type': 'function'}]}, response_metadata={'token_usage': {'completion_tokens': 21, 'prompt_tokens': 152, 'total_tokens': 173}, 'model_name': 'gpt-3.5-turbo', 'system_fingerprint': None, 'finish_reason': 'tool_calls', 'logprobs': None}, id='run-dec7262a-ea3e-4ce1-b36a-b5470c301321-0', tool_calls=[{'name': 'tavily_search_results_json', 'args': {'query': 'weather in San Francisco'}, 'id': 'call_M9HRDeTYis20FGHfCCZvOPdp'}])]}} \n",
      "\n",
      "event value: {'messages': [AIMessage(content='', additional_kwargs={'tool_calls': [{'id': 'call_M9HRDeTYis20FGHfCCZvOPdp', 'function': {'arguments': '{\"query\":\"weather in San Francisco\"}', 'name': 'tavily_search_results_json'}, 'type': 'function'}]}, response_metadata={'token_usage': {'completion_tokens': 21, 'prompt_tokens': 152, 'total_tokens': 173}, 'model_name': 'gpt-3.5-turbo', 'system_fingerprint': None, 'finish_reason': 'tool_calls', 'logprobs': None}, id='run-dec7262a-ea3e-4ce1-b36a-b5470c301321-0', tool_calls=[{'name': 'tavily_search_results_json', 'args': {'query': 'weather in San Francisco'}, 'id': 'call_M9HRDeTYis20FGHfCCZvOPdp'}])]} \n",
      "\n",
      "event value messages: [AIMessage(content='', additional_kwargs={'tool_calls': [{'id': 'call_M9HRDeTYis20FGHfCCZvOPdp', 'function': {'arguments': '{\"query\":\"weather in San Francisco\"}', 'name': 'tavily_search_results_json'}, 'type': 'function'}]}, response_metadata={'token_usage': {'completion_tokens': 21, 'prompt_tokens': 152, 'total_tokens': 173}, 'model_name': 'gpt-3.5-turbo', 'system_fingerprint': None, 'finish_reason': 'tool_calls', 'logprobs': None}, id='run-dec7262a-ea3e-4ce1-b36a-b5470c301321-0', tool_calls=[{'name': 'tavily_search_results_json', 'args': {'query': 'weather in San Francisco'}, 'id': 'call_M9HRDeTYis20FGHfCCZvOPdp'}])] \n",
      "\n"
     ]
    }
   ],
   "source": [
    "messages = [HumanMessage(content=\"Whats the weather in SF?\")]\n",
    "thread = {\"configurable\": {\"thread_id\": \"1\"}}\n",
    "for event in abot.graph.stream({\"messages\": messages}, thread):\n",
    "    print(f\"event: {event} \\n\")\n",
    "    for v in event.values():\n",
    "        print(f\"event value: {v} \\n\")\n",
    "        print(f\"event value messages: {v['messages']} \\n\")"
   ]
  },
  {
   "cell_type": "code",
   "execution_count": 8,
   "id": "83588e70-254f-4f83-a510-c8ae81e729b0",
   "metadata": {
    "height": 31
   },
   "outputs": [
    {
     "data": {
      "text/plain": [
       "StateSnapshot(values={'messages': [HumanMessage(content='Whats the weather in SF?', id='7d5d810e-d923-4c28-ba02-bb7c7422a667'), AIMessage(content='', additional_kwargs={'tool_calls': [{'function': {'arguments': '{\"query\":\"weather in San Francisco\"}', 'name': 'tavily_search_results_json'}, 'id': 'call_M9HRDeTYis20FGHfCCZvOPdp', 'type': 'function'}]}, response_metadata={'finish_reason': 'tool_calls', 'logprobs': None, 'model_name': 'gpt-3.5-turbo', 'system_fingerprint': None, 'token_usage': {'completion_tokens': 21, 'prompt_tokens': 152, 'total_tokens': 173}}, id='run-dec7262a-ea3e-4ce1-b36a-b5470c301321-0', tool_calls=[{'name': 'tavily_search_results_json', 'args': {'query': 'weather in San Francisco'}, 'id': 'call_M9HRDeTYis20FGHfCCZvOPdp'}])]}, next=('action',), config={'configurable': {'thread_id': '1', 'thread_ts': '1ef56404-7c23-6b9b-8001-eee050b24735'}}, metadata={'source': 'loop', 'step': 1, 'writes': {'llm': {'messages': [AIMessage(content='', additional_kwargs={'tool_calls': [{'function': {'arguments': '{\"query\":\"weather in San Francisco\"}', 'name': 'tavily_search_results_json'}, 'id': 'call_M9HRDeTYis20FGHfCCZvOPdp', 'type': 'function'}]}, response_metadata={'finish_reason': 'tool_calls', 'logprobs': None, 'model_name': 'gpt-3.5-turbo', 'system_fingerprint': None, 'token_usage': {'completion_tokens': 21, 'prompt_tokens': 152, 'total_tokens': 173}}, id='run-dec7262a-ea3e-4ce1-b36a-b5470c301321-0', tool_calls=[{'name': 'tavily_search_results_json', 'args': {'query': 'weather in San Francisco'}, 'id': 'call_M9HRDeTYis20FGHfCCZvOPdp'}])]}}}, created_at='2024-08-09T11:12:35.358180+00:00', parent_config={'configurable': {'thread_id': '1', 'thread_ts': '1ef56404-765c-6cd5-8000-576fae0570ff'}})"
      ]
     },
     "execution_count": 8,
     "metadata": {},
     "output_type": "execute_result"
    }
   ],
   "source": [
    "abot.graph.get_state(thread)"
   ]
  },
  {
   "cell_type": "code",
   "execution_count": 9,
   "id": "6cb3ef4c-58b3-401b-b104-0d51e553d982",
   "metadata": {
    "height": 31
   },
   "outputs": [
    {
     "data": {
      "text/plain": [
       "('action',)"
      ]
     },
     "execution_count": 9,
     "metadata": {},
     "output_type": "execute_result"
    }
   ],
   "source": [
    "abot.graph.get_state(thread).next"
   ]
  },
  {
   "cell_type": "markdown",
   "id": "f1f404d5-a3be-42c1-9990-b1e1ee011163",
   "metadata": {},
   "source": [
    "### continue after interrupt  \n",
    "To continue after interrupt, provide none istead of the usual messages:\n",
    "\n",
    "usual way: for event in abot.graph.stream({\"messages\": messages}, thread):"
   ]
  },
  {
   "cell_type": "code",
   "execution_count": 10,
   "id": "dc3293b7-a50c-43c8-a022-8975e1e444b8",
   "metadata": {
    "height": 82
   },
   "outputs": [
    {
     "name": "stdout",
     "output_type": "stream",
     "text": [
      "number of tool calls: 1 \n",
      "\n",
      "tool calls: [{'name': 'tavily_search_results_json', 'args': {'query': 'weather in San Francisco'}, 'id': 'call_M9HRDeTYis20FGHfCCZvOPdp'}] \n",
      "\n",
      "Calling: {'name': 'tavily_search_results_json', 'args': {'query': 'weather in San Francisco'}, 'id': 'call_M9HRDeTYis20FGHfCCZvOPdp'} \n",
      "\n",
      "result: HTTPError('403 Client Error: Forbidden for url: http://jupyter-api-proxy.internal.dlai/rev-proxy/tavily_search/search') \n",
      "\n",
      "all results: [ToolMessage(content=\"HTTPError('403 Client Error: Forbidden for url: http://jupyter-api-proxy.internal.dlai/rev-proxy/tavily_search/search')\", name='tavily_search_results_json', tool_call_id='call_M9HRDeTYis20FGHfCCZvOPdp')] \n",
      "\n",
      "Back to the model! \n",
      "\n",
      "event: {'action': {'messages': [ToolMessage(content=\"HTTPError('403 Client Error: Forbidden for url: http://jupyter-api-proxy.internal.dlai/rev-proxy/tavily_search/search')\", name='tavily_search_results_json', id='acf833b5-776c-4e46-a494-ea1245ff8c88', tool_call_id='call_M9HRDeTYis20FGHfCCZvOPdp')]}} \n",
      "\n",
      "event value: {'messages': [ToolMessage(content=\"HTTPError('403 Client Error: Forbidden for url: http://jupyter-api-proxy.internal.dlai/rev-proxy/tavily_search/search')\", name='tavily_search_results_json', id='acf833b5-776c-4e46-a494-ea1245ff8c88', tool_call_id='call_M9HRDeTYis20FGHfCCZvOPdp')]} \n",
      "\n",
      "{'messages': [HumanMessage(content='Whats the weather in SF?', id='7d5d810e-d923-4c28-ba02-bb7c7422a667'), AIMessage(content='', additional_kwargs={'tool_calls': [{'function': {'arguments': '{\"query\":\"weather in San Francisco\"}', 'name': 'tavily_search_results_json'}, 'id': 'call_M9HRDeTYis20FGHfCCZvOPdp', 'type': 'function'}]}, response_metadata={'finish_reason': 'tool_calls', 'logprobs': None, 'model_name': 'gpt-3.5-turbo', 'system_fingerprint': None, 'token_usage': {'completion_tokens': 21, 'prompt_tokens': 152, 'total_tokens': 173}}, id='run-dec7262a-ea3e-4ce1-b36a-b5470c301321-0', tool_calls=[{'name': 'tavily_search_results_json', 'args': {'query': 'weather in San Francisco'}, 'id': 'call_M9HRDeTYis20FGHfCCZvOPdp'}]), ToolMessage(content=\"HTTPError('403 Client Error: Forbidden for url: http://jupyter-api-proxy.internal.dlai/rev-proxy/tavily_search/search')\", name='tavily_search_results_json', id='acf833b5-776c-4e46-a494-ea1245ff8c88', tool_call_id='call_M9HRDeTYis20FGHfCCZvOPdp'), AIMessage(content='I encountered an issue while trying to retrieve the weather information for San Francisco. Let me try again.', additional_kwargs={'tool_calls': [{'id': 'call_KqocTYrUhwuQAGKbFhLd3ABJ', 'function': {'arguments': '{\"query\":\"current weather in San Francisco\"}', 'name': 'tavily_search_results_json'}, 'type': 'function'}]}, response_metadata={'token_usage': {'completion_tokens': 43, 'prompt_tokens': 215, 'total_tokens': 258}, 'model_name': 'gpt-3.5-turbo', 'system_fingerprint': None, 'finish_reason': 'tool_calls', 'logprobs': None}, id='run-db041788-53a0-4344-b9ea-57a31953da84-0', tool_calls=[{'name': 'tavily_search_results_json', 'args': {'query': 'current weather in San Francisco'}, 'id': 'call_KqocTYrUhwuQAGKbFhLd3ABJ'}])]}\n",
      "event: {'llm': {'messages': [AIMessage(content='I encountered an issue while trying to retrieve the weather information for San Francisco. Let me try again.', additional_kwargs={'tool_calls': [{'id': 'call_KqocTYrUhwuQAGKbFhLd3ABJ', 'function': {'arguments': '{\"query\":\"current weather in San Francisco\"}', 'name': 'tavily_search_results_json'}, 'type': 'function'}]}, response_metadata={'token_usage': {'completion_tokens': 43, 'prompt_tokens': 215, 'total_tokens': 258}, 'model_name': 'gpt-3.5-turbo', 'system_fingerprint': None, 'finish_reason': 'tool_calls', 'logprobs': None}, id='run-db041788-53a0-4344-b9ea-57a31953da84-0', tool_calls=[{'name': 'tavily_search_results_json', 'args': {'query': 'current weather in San Francisco'}, 'id': 'call_KqocTYrUhwuQAGKbFhLd3ABJ'}])]}} \n",
      "\n",
      "event value: {'messages': [AIMessage(content='I encountered an issue while trying to retrieve the weather information for San Francisco. Let me try again.', additional_kwargs={'tool_calls': [{'id': 'call_KqocTYrUhwuQAGKbFhLd3ABJ', 'function': {'arguments': '{\"query\":\"current weather in San Francisco\"}', 'name': 'tavily_search_results_json'}, 'type': 'function'}]}, response_metadata={'token_usage': {'completion_tokens': 43, 'prompt_tokens': 215, 'total_tokens': 258}, 'model_name': 'gpt-3.5-turbo', 'system_fingerprint': None, 'finish_reason': 'tool_calls', 'logprobs': None}, id='run-db041788-53a0-4344-b9ea-57a31953da84-0', tool_calls=[{'name': 'tavily_search_results_json', 'args': {'query': 'current weather in San Francisco'}, 'id': 'call_KqocTYrUhwuQAGKbFhLd3ABJ'}])]} \n",
      "\n"
     ]
    }
   ],
   "source": [
    "for event in abot.graph.stream(None, thread):\n",
    "    print(f\"event: {event} \\n\")\n",
    "    for v in event.values():\n",
    "        print(f\"event value: {v} \\n\")"
   ]
  },
  {
   "cell_type": "code",
   "execution_count": 11,
   "id": "0722c3d4-4cbf-43bf-81b0-50f634c4ce61",
   "metadata": {
    "height": 31
   },
   "outputs": [
    {
     "data": {
      "text/plain": [
       "StateSnapshot(values={'messages': [HumanMessage(content='Whats the weather in SF?', id='7d5d810e-d923-4c28-ba02-bb7c7422a667'), AIMessage(content='', additional_kwargs={'tool_calls': [{'function': {'arguments': '{\"query\":\"weather in San Francisco\"}', 'name': 'tavily_search_results_json'}, 'id': 'call_M9HRDeTYis20FGHfCCZvOPdp', 'type': 'function'}]}, response_metadata={'finish_reason': 'tool_calls', 'logprobs': None, 'model_name': 'gpt-3.5-turbo', 'system_fingerprint': None, 'token_usage': {'completion_tokens': 21, 'prompt_tokens': 152, 'total_tokens': 173}}, id='run-dec7262a-ea3e-4ce1-b36a-b5470c301321-0', tool_calls=[{'name': 'tavily_search_results_json', 'args': {'query': 'weather in San Francisco'}, 'id': 'call_M9HRDeTYis20FGHfCCZvOPdp'}]), ToolMessage(content=\"HTTPError('403 Client Error: Forbidden for url: http://jupyter-api-proxy.internal.dlai/rev-proxy/tavily_search/search')\", name='tavily_search_results_json', id='acf833b5-776c-4e46-a494-ea1245ff8c88', tool_call_id='call_M9HRDeTYis20FGHfCCZvOPdp'), AIMessage(content='I encountered an issue while trying to retrieve the weather information for San Francisco. Let me try again.', additional_kwargs={'tool_calls': [{'function': {'arguments': '{\"query\":\"current weather in San Francisco\"}', 'name': 'tavily_search_results_json'}, 'id': 'call_KqocTYrUhwuQAGKbFhLd3ABJ', 'type': 'function'}]}, response_metadata={'finish_reason': 'tool_calls', 'logprobs': None, 'model_name': 'gpt-3.5-turbo', 'system_fingerprint': None, 'token_usage': {'completion_tokens': 43, 'prompt_tokens': 215, 'total_tokens': 258}}, id='run-db041788-53a0-4344-b9ea-57a31953da84-0', tool_calls=[{'name': 'tavily_search_results_json', 'args': {'query': 'current weather in San Francisco'}, 'id': 'call_KqocTYrUhwuQAGKbFhLd3ABJ'}])]}, next=('action',), config={'configurable': {'thread_id': '1', 'thread_ts': '1ef56404-8421-6020-8003-c6bc4c208cbd'}}, metadata={'source': 'loop', 'step': 3, 'writes': {'llm': {'messages': [AIMessage(content='I encountered an issue while trying to retrieve the weather information for San Francisco. Let me try again.', additional_kwargs={'tool_calls': [{'function': {'arguments': '{\"query\":\"current weather in San Francisco\"}', 'name': 'tavily_search_results_json'}, 'id': 'call_KqocTYrUhwuQAGKbFhLd3ABJ', 'type': 'function'}]}, response_metadata={'finish_reason': 'tool_calls', 'logprobs': None, 'model_name': 'gpt-3.5-turbo', 'system_fingerprint': None, 'token_usage': {'completion_tokens': 43, 'prompt_tokens': 215, 'total_tokens': 258}}, id='run-db041788-53a0-4344-b9ea-57a31953da84-0', tool_calls=[{'name': 'tavily_search_results_json', 'args': {'query': 'current weather in San Francisco'}, 'id': 'call_KqocTYrUhwuQAGKbFhLd3ABJ'}])]}}}, created_at='2024-08-09T11:12:36.195925+00:00', parent_config={'configurable': {'thread_id': '1', 'thread_ts': '1ef56404-7c7e-6f55-8002-793cd77ae6b3'}})"
      ]
     },
     "execution_count": 11,
     "metadata": {},
     "output_type": "execute_result"
    }
   ],
   "source": [
    "abot.graph.get_state(thread)"
   ]
  },
  {
   "cell_type": "code",
   "execution_count": 12,
   "id": "6b2f82fe-3ec4-4917-be51-9fb10d1317fa",
   "metadata": {
    "height": 31
   },
   "outputs": [
    {
     "data": {
      "text/plain": [
       "('action',)"
      ]
     },
     "execution_count": 12,
     "metadata": {},
     "output_type": "execute_result"
    }
   ],
   "source": [
    "abot.graph.get_state(thread).next"
   ]
  },
  {
   "cell_type": "markdown",
   "id": "c28f9a85",
   "metadata": {
    "height": 31
   },
   "source": [
    "Prompt for manual confirmation to continue"
   ]
  },
  {
   "cell_type": "code",
   "execution_count": 13,
   "id": "ee0fe1c7-77e2-499c-a2f9-1f739bb6ddf0",
   "metadata": {
    "height": 319
   },
   "outputs": [
    {
     "name": "stdout",
     "output_type": "stream",
     "text": [
      "{'messages': [HumanMessage(content='Whats the weather in LA?', id='54051c16-ce7d-4e8a-94c0-f584b5cdd136'), AIMessage(content='', additional_kwargs={'tool_calls': [{'id': 'call_ZKRXyqi1t8BaHn2UIUXDq2Q0', 'function': {'arguments': '{\"query\":\"weather in Los Angeles\"}', 'name': 'tavily_search_results_json'}, 'type': 'function'}]}, response_metadata={'token_usage': {'completion_tokens': 21, 'prompt_tokens': 152, 'total_tokens': 173}, 'model_name': 'gpt-3.5-turbo', 'system_fingerprint': None, 'finish_reason': 'tool_calls', 'logprobs': None}, id='run-4a951f45-4fe2-4d25-b509-8134520a2345-0', tool_calls=[{'name': 'tavily_search_results_json', 'args': {'query': 'weather in Los Angeles'}, 'id': 'call_ZKRXyqi1t8BaHn2UIUXDq2Q0'}])]}\n",
      "event: {'llm': {'messages': [AIMessage(content='', additional_kwargs={'tool_calls': [{'id': 'call_ZKRXyqi1t8BaHn2UIUXDq2Q0', 'function': {'arguments': '{\"query\":\"weather in Los Angeles\"}', 'name': 'tavily_search_results_json'}, 'type': 'function'}]}, response_metadata={'token_usage': {'completion_tokens': 21, 'prompt_tokens': 152, 'total_tokens': 173}, 'model_name': 'gpt-3.5-turbo', 'system_fingerprint': None, 'finish_reason': 'tool_calls', 'logprobs': None}, id='run-4a951f45-4fe2-4d25-b509-8134520a2345-0', tool_calls=[{'name': 'tavily_search_results_json', 'args': {'query': 'weather in Los Angeles'}, 'id': 'call_ZKRXyqi1t8BaHn2UIUXDq2Q0'}])]}} \n",
      "\n",
      "event value: {'messages': [AIMessage(content='', additional_kwargs={'tool_calls': [{'id': 'call_ZKRXyqi1t8BaHn2UIUXDq2Q0', 'function': {'arguments': '{\"query\":\"weather in Los Angeles\"}', 'name': 'tavily_search_results_json'}, 'type': 'function'}]}, response_metadata={'token_usage': {'completion_tokens': 21, 'prompt_tokens': 152, 'total_tokens': 173}, 'model_name': 'gpt-3.5-turbo', 'system_fingerprint': None, 'finish_reason': 'tool_calls', 'logprobs': None}, id='run-4a951f45-4fe2-4d25-b509-8134520a2345-0', tool_calls=[{'name': 'tavily_search_results_json', 'args': {'query': 'weather in Los Angeles'}, 'id': 'call_ZKRXyqi1t8BaHn2UIUXDq2Q0'}])]} \n",
      "\n",
      "\n",
      " StateSnapshot(values={'messages': [HumanMessage(content='Whats the weather in LA?', id='54051c16-ce7d-4e8a-94c0-f584b5cdd136'), AIMessage(content='', additional_kwargs={'tool_calls': [{'function': {'arguments': '{\"query\":\"weather in Los Angeles\"}', 'name': 'tavily_search_results_json'}, 'id': 'call_ZKRXyqi1t8BaHn2UIUXDq2Q0', 'type': 'function'}]}, response_metadata={'finish_reason': 'tool_calls', 'logprobs': None, 'model_name': 'gpt-3.5-turbo', 'system_fingerprint': None, 'token_usage': {'completion_tokens': 21, 'prompt_tokens': 152, 'total_tokens': 173}}, id='run-4a951f45-4fe2-4d25-b509-8134520a2345-0', tool_calls=[{'name': 'tavily_search_results_json', 'args': {'query': 'weather in Los Angeles'}, 'id': 'call_ZKRXyqi1t8BaHn2UIUXDq2Q0'}])]}, next=('action',), config={'configurable': {'thread_id': '2', 'thread_ts': '1ef56404-89a8-6876-8001-4746b860304b'}}, metadata={'source': 'loop', 'step': 1, 'writes': {'llm': {'messages': [AIMessage(content='', additional_kwargs={'tool_calls': [{'function': {'arguments': '{\"query\":\"weather in Los Angeles\"}', 'name': 'tavily_search_results_json'}, 'id': 'call_ZKRXyqi1t8BaHn2UIUXDq2Q0', 'type': 'function'}]}, response_metadata={'finish_reason': 'tool_calls', 'logprobs': None, 'model_name': 'gpt-3.5-turbo', 'system_fingerprint': None, 'token_usage': {'completion_tokens': 21, 'prompt_tokens': 152, 'total_tokens': 173}}, id='run-4a951f45-4fe2-4d25-b509-8134520a2345-0', tool_calls=[{'name': 'tavily_search_results_json', 'args': {'query': 'weather in Los Angeles'}, 'id': 'call_ZKRXyqi1t8BaHn2UIUXDq2Q0'}])]}}}, created_at='2024-08-09T11:12:36.775724+00:00', parent_config={'configurable': {'thread_id': '2', 'thread_ts': '1ef56404-8449-6f31-8000-868e1573b952'}}) \n",
      "\n",
      "proceed?y\n",
      "number of tool calls: 1 \n",
      "\n",
      "tool calls: [{'name': 'tavily_search_results_json', 'args': {'query': 'weather in Los Angeles'}, 'id': 'call_ZKRXyqi1t8BaHn2UIUXDq2Q0'}] \n",
      "\n",
      "Calling: {'name': 'tavily_search_results_json', 'args': {'query': 'weather in Los Angeles'}, 'id': 'call_ZKRXyqi1t8BaHn2UIUXDq2Q0'} \n",
      "\n",
      "result: HTTPError('403 Client Error: Forbidden for url: http://jupyter-api-proxy.internal.dlai/rev-proxy/tavily_search/search') \n",
      "\n",
      "all results: [ToolMessage(content=\"HTTPError('403 Client Error: Forbidden for url: http://jupyter-api-proxy.internal.dlai/rev-proxy/tavily_search/search')\", name='tavily_search_results_json', tool_call_id='call_ZKRXyqi1t8BaHn2UIUXDq2Q0')] \n",
      "\n",
      "Back to the model! \n",
      "\n",
      "event: {'action': {'messages': [ToolMessage(content=\"HTTPError('403 Client Error: Forbidden for url: http://jupyter-api-proxy.internal.dlai/rev-proxy/tavily_search/search')\", name='tavily_search_results_json', id='bbba9529-fa12-4638-871f-977c5b48ec64', tool_call_id='call_ZKRXyqi1t8BaHn2UIUXDq2Q0')]}} \n",
      "\n",
      "event value: {'messages': [ToolMessage(content=\"HTTPError('403 Client Error: Forbidden for url: http://jupyter-api-proxy.internal.dlai/rev-proxy/tavily_search/search')\", name='tavily_search_results_json', id='bbba9529-fa12-4638-871f-977c5b48ec64', tool_call_id='call_ZKRXyqi1t8BaHn2UIUXDq2Q0')]} \n",
      "\n",
      "{'messages': [HumanMessage(content='Whats the weather in LA?', id='54051c16-ce7d-4e8a-94c0-f584b5cdd136'), AIMessage(content='', additional_kwargs={'tool_calls': [{'function': {'arguments': '{\"query\":\"weather in Los Angeles\"}', 'name': 'tavily_search_results_json'}, 'id': 'call_ZKRXyqi1t8BaHn2UIUXDq2Q0', 'type': 'function'}]}, response_metadata={'finish_reason': 'tool_calls', 'logprobs': None, 'model_name': 'gpt-3.5-turbo', 'system_fingerprint': None, 'token_usage': {'completion_tokens': 21, 'prompt_tokens': 152, 'total_tokens': 173}}, id='run-4a951f45-4fe2-4d25-b509-8134520a2345-0', tool_calls=[{'name': 'tavily_search_results_json', 'args': {'query': 'weather in Los Angeles'}, 'id': 'call_ZKRXyqi1t8BaHn2UIUXDq2Q0'}]), ToolMessage(content=\"HTTPError('403 Client Error: Forbidden for url: http://jupyter-api-proxy.internal.dlai/rev-proxy/tavily_search/search')\", name='tavily_search_results_json', id='bbba9529-fa12-4638-871f-977c5b48ec64', tool_call_id='call_ZKRXyqi1t8BaHn2UIUXDq2Q0'), AIMessage(content='I encountered an issue while trying to fetch the weather information for Los Angeles. Let me try again.', additional_kwargs={'tool_calls': [{'id': 'call_fc7VcxUUXk3grwv8WSSTPusV', 'function': {'arguments': '{\"query\":\"Los Angeles weather\"}', 'name': 'tavily_search_results_json'}, 'type': 'function'}]}, response_metadata={'token_usage': {'completion_tokens': 41, 'prompt_tokens': 215, 'total_tokens': 256}, 'model_name': 'gpt-3.5-turbo', 'system_fingerprint': None, 'finish_reason': 'tool_calls', 'logprobs': None}, id='run-a64a37dd-6af7-4636-b762-3a7fdbeaa68a-0', tool_calls=[{'name': 'tavily_search_results_json', 'args': {'query': 'Los Angeles weather'}, 'id': 'call_fc7VcxUUXk3grwv8WSSTPusV'}])]}\n",
      "event: {'llm': {'messages': [AIMessage(content='I encountered an issue while trying to fetch the weather information for Los Angeles. Let me try again.', additional_kwargs={'tool_calls': [{'id': 'call_fc7VcxUUXk3grwv8WSSTPusV', 'function': {'arguments': '{\"query\":\"Los Angeles weather\"}', 'name': 'tavily_search_results_json'}, 'type': 'function'}]}, response_metadata={'token_usage': {'completion_tokens': 41, 'prompt_tokens': 215, 'total_tokens': 256}, 'model_name': 'gpt-3.5-turbo', 'system_fingerprint': None, 'finish_reason': 'tool_calls', 'logprobs': None}, id='run-a64a37dd-6af7-4636-b762-3a7fdbeaa68a-0', tool_calls=[{'name': 'tavily_search_results_json', 'args': {'query': 'Los Angeles weather'}, 'id': 'call_fc7VcxUUXk3grwv8WSSTPusV'}])]}} \n",
      "\n",
      "event value: {'messages': [AIMessage(content='I encountered an issue while trying to fetch the weather information for Los Angeles. Let me try again.', additional_kwargs={'tool_calls': [{'id': 'call_fc7VcxUUXk3grwv8WSSTPusV', 'function': {'arguments': '{\"query\":\"Los Angeles weather\"}', 'name': 'tavily_search_results_json'}, 'type': 'function'}]}, response_metadata={'token_usage': {'completion_tokens': 41, 'prompt_tokens': 215, 'total_tokens': 256}, 'model_name': 'gpt-3.5-turbo', 'system_fingerprint': None, 'finish_reason': 'tool_calls', 'logprobs': None}, id='run-a64a37dd-6af7-4636-b762-3a7fdbeaa68a-0', tool_calls=[{'name': 'tavily_search_results_json', 'args': {'query': 'Los Angeles weather'}, 'id': 'call_fc7VcxUUXk3grwv8WSSTPusV'}])]} \n",
      "\n",
      "\n",
      " StateSnapshot(values={'messages': [HumanMessage(content='Whats the weather in LA?', id='54051c16-ce7d-4e8a-94c0-f584b5cdd136'), AIMessage(content='', additional_kwargs={'tool_calls': [{'function': {'arguments': '{\"query\":\"weather in Los Angeles\"}', 'name': 'tavily_search_results_json'}, 'id': 'call_ZKRXyqi1t8BaHn2UIUXDq2Q0', 'type': 'function'}]}, response_metadata={'finish_reason': 'tool_calls', 'logprobs': None, 'model_name': 'gpt-3.5-turbo', 'system_fingerprint': None, 'token_usage': {'completion_tokens': 21, 'prompt_tokens': 152, 'total_tokens': 173}}, id='run-4a951f45-4fe2-4d25-b509-8134520a2345-0', tool_calls=[{'name': 'tavily_search_results_json', 'args': {'query': 'weather in Los Angeles'}, 'id': 'call_ZKRXyqi1t8BaHn2UIUXDq2Q0'}]), ToolMessage(content=\"HTTPError('403 Client Error: Forbidden for url: http://jupyter-api-proxy.internal.dlai/rev-proxy/tavily_search/search')\", name='tavily_search_results_json', id='bbba9529-fa12-4638-871f-977c5b48ec64', tool_call_id='call_ZKRXyqi1t8BaHn2UIUXDq2Q0'), AIMessage(content='I encountered an issue while trying to fetch the weather information for Los Angeles. Let me try again.', additional_kwargs={'tool_calls': [{'function': {'arguments': '{\"query\":\"Los Angeles weather\"}', 'name': 'tavily_search_results_json'}, 'id': 'call_fc7VcxUUXk3grwv8WSSTPusV', 'type': 'function'}]}, response_metadata={'finish_reason': 'tool_calls', 'logprobs': None, 'model_name': 'gpt-3.5-turbo', 'system_fingerprint': None, 'token_usage': {'completion_tokens': 41, 'prompt_tokens': 215, 'total_tokens': 256}}, id='run-a64a37dd-6af7-4636-b762-3a7fdbeaa68a-0', tool_calls=[{'name': 'tavily_search_results_json', 'args': {'query': 'Los Angeles weather'}, 'id': 'call_fc7VcxUUXk3grwv8WSSTPusV'}])]}, next=('action',), config={'configurable': {'thread_id': '2', 'thread_ts': '1ef56404-b882-6c3d-8003-985beecf0b02'}}, metadata={'source': 'loop', 'step': 3, 'writes': {'llm': {'messages': [AIMessage(content='I encountered an issue while trying to fetch the weather information for Los Angeles. Let me try again.', additional_kwargs={'tool_calls': [{'function': {'arguments': '{\"query\":\"Los Angeles weather\"}', 'name': 'tavily_search_results_json'}, 'id': 'call_fc7VcxUUXk3grwv8WSSTPusV', 'type': 'function'}]}, response_metadata={'finish_reason': 'tool_calls', 'logprobs': None, 'model_name': 'gpt-3.5-turbo', 'system_fingerprint': None, 'token_usage': {'completion_tokens': 41, 'prompt_tokens': 215, 'total_tokens': 256}}, id='run-a64a37dd-6af7-4636-b762-3a7fdbeaa68a-0', tool_calls=[{'name': 'tavily_search_results_json', 'args': {'query': 'Los Angeles weather'}, 'id': 'call_fc7VcxUUXk3grwv8WSSTPusV'}])]}}}, created_at='2024-08-09T11:12:41.688565+00:00', parent_config={'configurable': {'thread_id': '2', 'thread_ts': '1ef56404-b06b-6057-8002-bcd23af03e62'}}) \n",
      "\n"
     ]
    },
    {
     "name": "stdout",
     "output_type": "stream",
     "text": [
      "proceed?y\n",
      "number of tool calls: 1 \n",
      "\n",
      "tool calls: [{'name': 'tavily_search_results_json', 'args': {'query': 'Los Angeles weather'}, 'id': 'call_fc7VcxUUXk3grwv8WSSTPusV'}] \n",
      "\n",
      "Calling: {'name': 'tavily_search_results_json', 'args': {'query': 'Los Angeles weather'}, 'id': 'call_fc7VcxUUXk3grwv8WSSTPusV'} \n",
      "\n",
      "result: HTTPError('403 Client Error: Forbidden for url: http://jupyter-api-proxy.internal.dlai/rev-proxy/tavily_search/search') \n",
      "\n",
      "all results: [ToolMessage(content=\"HTTPError('403 Client Error: Forbidden for url: http://jupyter-api-proxy.internal.dlai/rev-proxy/tavily_search/search')\", name='tavily_search_results_json', tool_call_id='call_fc7VcxUUXk3grwv8WSSTPusV')] \n",
      "\n",
      "Back to the model! \n",
      "\n",
      "event: {'action': {'messages': [ToolMessage(content=\"HTTPError('403 Client Error: Forbidden for url: http://jupyter-api-proxy.internal.dlai/rev-proxy/tavily_search/search')\", name='tavily_search_results_json', id='6cb1f84f-0143-46fb-ba40-baeafe077c3b', tool_call_id='call_fc7VcxUUXk3grwv8WSSTPusV')]}} \n",
      "\n",
      "event value: {'messages': [ToolMessage(content=\"HTTPError('403 Client Error: Forbidden for url: http://jupyter-api-proxy.internal.dlai/rev-proxy/tavily_search/search')\", name='tavily_search_results_json', id='6cb1f84f-0143-46fb-ba40-baeafe077c3b', tool_call_id='call_fc7VcxUUXk3grwv8WSSTPusV')]} \n",
      "\n",
      "{'messages': [HumanMessage(content='Whats the weather in LA?', id='54051c16-ce7d-4e8a-94c0-f584b5cdd136'), AIMessage(content='', additional_kwargs={'tool_calls': [{'function': {'arguments': '{\"query\":\"weather in Los Angeles\"}', 'name': 'tavily_search_results_json'}, 'id': 'call_ZKRXyqi1t8BaHn2UIUXDq2Q0', 'type': 'function'}]}, response_metadata={'finish_reason': 'tool_calls', 'logprobs': None, 'model_name': 'gpt-3.5-turbo', 'system_fingerprint': None, 'token_usage': {'completion_tokens': 21, 'prompt_tokens': 152, 'total_tokens': 173}}, id='run-4a951f45-4fe2-4d25-b509-8134520a2345-0', tool_calls=[{'name': 'tavily_search_results_json', 'args': {'query': 'weather in Los Angeles'}, 'id': 'call_ZKRXyqi1t8BaHn2UIUXDq2Q0'}]), ToolMessage(content=\"HTTPError('403 Client Error: Forbidden for url: http://jupyter-api-proxy.internal.dlai/rev-proxy/tavily_search/search')\", name='tavily_search_results_json', id='bbba9529-fa12-4638-871f-977c5b48ec64', tool_call_id='call_ZKRXyqi1t8BaHn2UIUXDq2Q0'), AIMessage(content='I encountered an issue while trying to fetch the weather information for Los Angeles. Let me try again.', additional_kwargs={'tool_calls': [{'function': {'arguments': '{\"query\":\"Los Angeles weather\"}', 'name': 'tavily_search_results_json'}, 'id': 'call_fc7VcxUUXk3grwv8WSSTPusV', 'type': 'function'}]}, response_metadata={'finish_reason': 'tool_calls', 'logprobs': None, 'model_name': 'gpt-3.5-turbo', 'system_fingerprint': None, 'token_usage': {'completion_tokens': 41, 'prompt_tokens': 215, 'total_tokens': 256}}, id='run-a64a37dd-6af7-4636-b762-3a7fdbeaa68a-0', tool_calls=[{'name': 'tavily_search_results_json', 'args': {'query': 'Los Angeles weather'}, 'id': 'call_fc7VcxUUXk3grwv8WSSTPusV'}]), ToolMessage(content=\"HTTPError('403 Client Error: Forbidden for url: http://jupyter-api-proxy.internal.dlai/rev-proxy/tavily_search/search')\", name='tavily_search_results_json', id='6cb1f84f-0143-46fb-ba40-baeafe077c3b', tool_call_id='call_fc7VcxUUXk3grwv8WSSTPusV'), AIMessage(content='It seems there is a restriction in accessing the weather information directly. Let me try another approach to get the weather information for Los Angeles.', additional_kwargs={'tool_calls': [{'id': 'call_YgCxzC6E9p4FcRZRUTIuz85a', 'function': {'arguments': '{\"query\": \"Los Angeles current weather\"}', 'name': 'tavily_search_results_json'}, 'type': 'function'}, {'id': 'call_YwJu4TJ6MVQqNgSIyIUC5MYO', 'function': {'arguments': '{\"query\": \"Los Angeles weather forecast\"}', 'name': 'tavily_search_results_json'}, 'type': 'function'}]}, response_metadata={'token_usage': {'completion_tokens': 85, 'prompt_tokens': 301, 'total_tokens': 386}, 'model_name': 'gpt-3.5-turbo', 'system_fingerprint': None, 'finish_reason': 'tool_calls', 'logprobs': None}, id='run-caffa632-5d91-4a14-b7e9-6beee34ce1a1-0', tool_calls=[{'name': 'tavily_search_results_json', 'args': {'query': 'Los Angeles current weather'}, 'id': 'call_YgCxzC6E9p4FcRZRUTIuz85a'}, {'name': 'tavily_search_results_json', 'args': {'query': 'Los Angeles weather forecast'}, 'id': 'call_YwJu4TJ6MVQqNgSIyIUC5MYO'}])]}\n",
      "event: {'llm': {'messages': [AIMessage(content='It seems there is a restriction in accessing the weather information directly. Let me try another approach to get the weather information for Los Angeles.', additional_kwargs={'tool_calls': [{'id': 'call_YgCxzC6E9p4FcRZRUTIuz85a', 'function': {'arguments': '{\"query\": \"Los Angeles current weather\"}', 'name': 'tavily_search_results_json'}, 'type': 'function'}, {'id': 'call_YwJu4TJ6MVQqNgSIyIUC5MYO', 'function': {'arguments': '{\"query\": \"Los Angeles weather forecast\"}', 'name': 'tavily_search_results_json'}, 'type': 'function'}]}, response_metadata={'token_usage': {'completion_tokens': 85, 'prompt_tokens': 301, 'total_tokens': 386}, 'model_name': 'gpt-3.5-turbo', 'system_fingerprint': None, 'finish_reason': 'tool_calls', 'logprobs': None}, id='run-caffa632-5d91-4a14-b7e9-6beee34ce1a1-0', tool_calls=[{'name': 'tavily_search_results_json', 'args': {'query': 'Los Angeles current weather'}, 'id': 'call_YgCxzC6E9p4FcRZRUTIuz85a'}, {'name': 'tavily_search_results_json', 'args': {'query': 'Los Angeles weather forecast'}, 'id': 'call_YwJu4TJ6MVQqNgSIyIUC5MYO'}])]}} \n",
      "\n",
      "event value: {'messages': [AIMessage(content='It seems there is a restriction in accessing the weather information directly. Let me try another approach to get the weather information for Los Angeles.', additional_kwargs={'tool_calls': [{'id': 'call_YgCxzC6E9p4FcRZRUTIuz85a', 'function': {'arguments': '{\"query\": \"Los Angeles current weather\"}', 'name': 'tavily_search_results_json'}, 'type': 'function'}, {'id': 'call_YwJu4TJ6MVQqNgSIyIUC5MYO', 'function': {'arguments': '{\"query\": \"Los Angeles weather forecast\"}', 'name': 'tavily_search_results_json'}, 'type': 'function'}]}, response_metadata={'token_usage': {'completion_tokens': 85, 'prompt_tokens': 301, 'total_tokens': 386}, 'model_name': 'gpt-3.5-turbo', 'system_fingerprint': None, 'finish_reason': 'tool_calls', 'logprobs': None}, id='run-caffa632-5d91-4a14-b7e9-6beee34ce1a1-0', tool_calls=[{'name': 'tavily_search_results_json', 'args': {'query': 'Los Angeles current weather'}, 'id': 'call_YgCxzC6E9p4FcRZRUTIuz85a'}, {'name': 'tavily_search_results_json', 'args': {'query': 'Los Angeles weather forecast'}, 'id': 'call_YwJu4TJ6MVQqNgSIyIUC5MYO'}])]} \n",
      "\n",
      "\n",
      " StateSnapshot(values={'messages': [HumanMessage(content='Whats the weather in LA?', id='54051c16-ce7d-4e8a-94c0-f584b5cdd136'), AIMessage(content='', additional_kwargs={'tool_calls': [{'function': {'arguments': '{\"query\":\"weather in Los Angeles\"}', 'name': 'tavily_search_results_json'}, 'id': 'call_ZKRXyqi1t8BaHn2UIUXDq2Q0', 'type': 'function'}]}, response_metadata={'finish_reason': 'tool_calls', 'logprobs': None, 'model_name': 'gpt-3.5-turbo', 'system_fingerprint': None, 'token_usage': {'completion_tokens': 21, 'prompt_tokens': 152, 'total_tokens': 173}}, id='run-4a951f45-4fe2-4d25-b509-8134520a2345-0', tool_calls=[{'name': 'tavily_search_results_json', 'args': {'query': 'weather in Los Angeles'}, 'id': 'call_ZKRXyqi1t8BaHn2UIUXDq2Q0'}]), ToolMessage(content=\"HTTPError('403 Client Error: Forbidden for url: http://jupyter-api-proxy.internal.dlai/rev-proxy/tavily_search/search')\", name='tavily_search_results_json', id='bbba9529-fa12-4638-871f-977c5b48ec64', tool_call_id='call_ZKRXyqi1t8BaHn2UIUXDq2Q0'), AIMessage(content='I encountered an issue while trying to fetch the weather information for Los Angeles. Let me try again.', additional_kwargs={'tool_calls': [{'function': {'arguments': '{\"query\":\"Los Angeles weather\"}', 'name': 'tavily_search_results_json'}, 'id': 'call_fc7VcxUUXk3grwv8WSSTPusV', 'type': 'function'}]}, response_metadata={'finish_reason': 'tool_calls', 'logprobs': None, 'model_name': 'gpt-3.5-turbo', 'system_fingerprint': None, 'token_usage': {'completion_tokens': 41, 'prompt_tokens': 215, 'total_tokens': 256}}, id='run-a64a37dd-6af7-4636-b762-3a7fdbeaa68a-0', tool_calls=[{'name': 'tavily_search_results_json', 'args': {'query': 'Los Angeles weather'}, 'id': 'call_fc7VcxUUXk3grwv8WSSTPusV'}]), ToolMessage(content=\"HTTPError('403 Client Error: Forbidden for url: http://jupyter-api-proxy.internal.dlai/rev-proxy/tavily_search/search')\", name='tavily_search_results_json', id='6cb1f84f-0143-46fb-ba40-baeafe077c3b', tool_call_id='call_fc7VcxUUXk3grwv8WSSTPusV'), AIMessage(content='It seems there is a restriction in accessing the weather information directly. Let me try another approach to get the weather information for Los Angeles.', additional_kwargs={'tool_calls': [{'function': {'arguments': '{\"query\": \"Los Angeles current weather\"}', 'name': 'tavily_search_results_json'}, 'id': 'call_YgCxzC6E9p4FcRZRUTIuz85a', 'type': 'function'}, {'function': {'arguments': '{\"query\": \"Los Angeles weather forecast\"}', 'name': 'tavily_search_results_json'}, 'id': 'call_YwJu4TJ6MVQqNgSIyIUC5MYO', 'type': 'function'}]}, response_metadata={'finish_reason': 'tool_calls', 'logprobs': None, 'model_name': 'gpt-3.5-turbo', 'system_fingerprint': None, 'token_usage': {'completion_tokens': 85, 'prompt_tokens': 301, 'total_tokens': 386}}, id='run-caffa632-5d91-4a14-b7e9-6beee34ce1a1-0', tool_calls=[{'name': 'tavily_search_results_json', 'args': {'query': 'Los Angeles current weather'}, 'id': 'call_YgCxzC6E9p4FcRZRUTIuz85a'}, {'name': 'tavily_search_results_json', 'args': {'query': 'Los Angeles weather forecast'}, 'id': 'call_YwJu4TJ6MVQqNgSIyIUC5MYO'}])]}, next=('action',), config={'configurable': {'thread_id': '2', 'thread_ts': '1ef56405-988d-6b74-8005-43e00a774b06'}}, metadata={'source': 'loop', 'step': 5, 'writes': {'llm': {'messages': [AIMessage(content='It seems there is a restriction in accessing the weather information directly. Let me try another approach to get the weather information for Los Angeles.', additional_kwargs={'tool_calls': [{'function': {'arguments': '{\"query\": \"Los Angeles current weather\"}', 'name': 'tavily_search_results_json'}, 'id': 'call_YgCxzC6E9p4FcRZRUTIuz85a', 'type': 'function'}, {'function': {'arguments': '{\"query\": \"Los Angeles weather forecast\"}', 'name': 'tavily_search_results_json'}, 'id': 'call_YwJu4TJ6MVQqNgSIyIUC5MYO', 'type': 'function'}]}, response_metadata={'finish_reason': 'tool_calls', 'logprobs': None, 'model_name': 'gpt-3.5-turbo', 'system_fingerprint': None, 'token_usage': {'completion_tokens': 85, 'prompt_tokens': 301, 'total_tokens': 386}}, id='run-caffa632-5d91-4a14-b7e9-6beee34ce1a1-0', tool_calls=[{'name': 'tavily_search_results_json', 'args': {'query': 'Los Angeles current weather'}, 'id': 'call_YgCxzC6E9p4FcRZRUTIuz85a'}, {'name': 'tavily_search_results_json', 'args': {'query': 'Los Angeles weather forecast'}, 'id': 'call_YwJu4TJ6MVQqNgSIyIUC5MYO'}])]}}}, created_at='2024-08-09T11:13:05.181153+00:00', parent_config={'configurable': {'thread_id': '2', 'thread_ts': '1ef56405-8aec-64ab-8004-817d28f40312'}}) \n",
      "\n"
     ]
    },
    {
     "name": "stdout",
     "output_type": "stream",
     "text": [
      "proceed?y\n",
      "number of tool calls: 2 \n",
      "\n",
      "tool calls: [{'name': 'tavily_search_results_json', 'args': {'query': 'Los Angeles current weather'}, 'id': 'call_YgCxzC6E9p4FcRZRUTIuz85a'}, {'name': 'tavily_search_results_json', 'args': {'query': 'Los Angeles weather forecast'}, 'id': 'call_YwJu4TJ6MVQqNgSIyIUC5MYO'}] \n",
      "\n",
      "Calling: {'name': 'tavily_search_results_json', 'args': {'query': 'Los Angeles current weather'}, 'id': 'call_YgCxzC6E9p4FcRZRUTIuz85a'} \n",
      "\n",
      "result: HTTPError('403 Client Error: Forbidden for url: http://jupyter-api-proxy.internal.dlai/rev-proxy/tavily_search/search') \n",
      "\n",
      "Calling: {'name': 'tavily_search_results_json', 'args': {'query': 'Los Angeles weather forecast'}, 'id': 'call_YwJu4TJ6MVQqNgSIyIUC5MYO'} \n",
      "\n",
      "result: HTTPError('403 Client Error: Forbidden for url: http://jupyter-api-proxy.internal.dlai/rev-proxy/tavily_search/search') \n",
      "\n",
      "all results: [ToolMessage(content=\"HTTPError('403 Client Error: Forbidden for url: http://jupyter-api-proxy.internal.dlai/rev-proxy/tavily_search/search')\", name='tavily_search_results_json', tool_call_id='call_YgCxzC6E9p4FcRZRUTIuz85a'), ToolMessage(content=\"HTTPError('403 Client Error: Forbidden for url: http://jupyter-api-proxy.internal.dlai/rev-proxy/tavily_search/search')\", name='tavily_search_results_json', tool_call_id='call_YwJu4TJ6MVQqNgSIyIUC5MYO')] \n",
      "\n",
      "Back to the model! \n",
      "\n",
      "event: {'action': {'messages': [ToolMessage(content=\"HTTPError('403 Client Error: Forbidden for url: http://jupyter-api-proxy.internal.dlai/rev-proxy/tavily_search/search')\", name='tavily_search_results_json', id='c7b76a6a-411b-4ea1-8130-68184b38f27a', tool_call_id='call_YgCxzC6E9p4FcRZRUTIuz85a'), ToolMessage(content=\"HTTPError('403 Client Error: Forbidden for url: http://jupyter-api-proxy.internal.dlai/rev-proxy/tavily_search/search')\", name='tavily_search_results_json', id='541c5bb9-98f2-4d17-9b17-8fa9fd274050', tool_call_id='call_YwJu4TJ6MVQqNgSIyIUC5MYO')]}} \n",
      "\n",
      "event value: {'messages': [ToolMessage(content=\"HTTPError('403 Client Error: Forbidden for url: http://jupyter-api-proxy.internal.dlai/rev-proxy/tavily_search/search')\", name='tavily_search_results_json', id='c7b76a6a-411b-4ea1-8130-68184b38f27a', tool_call_id='call_YgCxzC6E9p4FcRZRUTIuz85a'), ToolMessage(content=\"HTTPError('403 Client Error: Forbidden for url: http://jupyter-api-proxy.internal.dlai/rev-proxy/tavily_search/search')\", name='tavily_search_results_json', id='541c5bb9-98f2-4d17-9b17-8fa9fd274050', tool_call_id='call_YwJu4TJ6MVQqNgSIyIUC5MYO')]} \n",
      "\n",
      "{'messages': [HumanMessage(content='Whats the weather in LA?', id='54051c16-ce7d-4e8a-94c0-f584b5cdd136'), AIMessage(content='', additional_kwargs={'tool_calls': [{'function': {'arguments': '{\"query\":\"weather in Los Angeles\"}', 'name': 'tavily_search_results_json'}, 'id': 'call_ZKRXyqi1t8BaHn2UIUXDq2Q0', 'type': 'function'}]}, response_metadata={'finish_reason': 'tool_calls', 'logprobs': None, 'model_name': 'gpt-3.5-turbo', 'system_fingerprint': None, 'token_usage': {'completion_tokens': 21, 'prompt_tokens': 152, 'total_tokens': 173}}, id='run-4a951f45-4fe2-4d25-b509-8134520a2345-0', tool_calls=[{'name': 'tavily_search_results_json', 'args': {'query': 'weather in Los Angeles'}, 'id': 'call_ZKRXyqi1t8BaHn2UIUXDq2Q0'}]), ToolMessage(content=\"HTTPError('403 Client Error: Forbidden for url: http://jupyter-api-proxy.internal.dlai/rev-proxy/tavily_search/search')\", name='tavily_search_results_json', id='bbba9529-fa12-4638-871f-977c5b48ec64', tool_call_id='call_ZKRXyqi1t8BaHn2UIUXDq2Q0'), AIMessage(content='I encountered an issue while trying to fetch the weather information for Los Angeles. Let me try again.', additional_kwargs={'tool_calls': [{'function': {'arguments': '{\"query\":\"Los Angeles weather\"}', 'name': 'tavily_search_results_json'}, 'id': 'call_fc7VcxUUXk3grwv8WSSTPusV', 'type': 'function'}]}, response_metadata={'finish_reason': 'tool_calls', 'logprobs': None, 'model_name': 'gpt-3.5-turbo', 'system_fingerprint': None, 'token_usage': {'completion_tokens': 41, 'prompt_tokens': 215, 'total_tokens': 256}}, id='run-a64a37dd-6af7-4636-b762-3a7fdbeaa68a-0', tool_calls=[{'name': 'tavily_search_results_json', 'args': {'query': 'Los Angeles weather'}, 'id': 'call_fc7VcxUUXk3grwv8WSSTPusV'}]), ToolMessage(content=\"HTTPError('403 Client Error: Forbidden for url: http://jupyter-api-proxy.internal.dlai/rev-proxy/tavily_search/search')\", name='tavily_search_results_json', id='6cb1f84f-0143-46fb-ba40-baeafe077c3b', tool_call_id='call_fc7VcxUUXk3grwv8WSSTPusV'), AIMessage(content='It seems there is a restriction in accessing the weather information directly. Let me try another approach to get the weather information for Los Angeles.', additional_kwargs={'tool_calls': [{'function': {'arguments': '{\"query\": \"Los Angeles current weather\"}', 'name': 'tavily_search_results_json'}, 'id': 'call_YgCxzC6E9p4FcRZRUTIuz85a', 'type': 'function'}, {'function': {'arguments': '{\"query\": \"Los Angeles weather forecast\"}', 'name': 'tavily_search_results_json'}, 'id': 'call_YwJu4TJ6MVQqNgSIyIUC5MYO', 'type': 'function'}]}, response_metadata={'finish_reason': 'tool_calls', 'logprobs': None, 'model_name': 'gpt-3.5-turbo', 'system_fingerprint': None, 'token_usage': {'completion_tokens': 85, 'prompt_tokens': 301, 'total_tokens': 386}}, id='run-caffa632-5d91-4a14-b7e9-6beee34ce1a1-0', tool_calls=[{'name': 'tavily_search_results_json', 'args': {'query': 'Los Angeles current weather'}, 'id': 'call_YgCxzC6E9p4FcRZRUTIuz85a'}, {'name': 'tavily_search_results_json', 'args': {'query': 'Los Angeles weather forecast'}, 'id': 'call_YwJu4TJ6MVQqNgSIyIUC5MYO'}]), ToolMessage(content=\"HTTPError('403 Client Error: Forbidden for url: http://jupyter-api-proxy.internal.dlai/rev-proxy/tavily_search/search')\", name='tavily_search_results_json', id='c7b76a6a-411b-4ea1-8130-68184b38f27a', tool_call_id='call_YgCxzC6E9p4FcRZRUTIuz85a'), ToolMessage(content=\"HTTPError('403 Client Error: Forbidden for url: http://jupyter-api-proxy.internal.dlai/rev-proxy/tavily_search/search')\", name='tavily_search_results_json', id='541c5bb9-98f2-4d17-9b17-8fa9fd274050', tool_call_id='call_YwJu4TJ6MVQqNgSIyIUC5MYO'), AIMessage(content=\"I apologize for the inconvenience, but it seems I'm unable to retrieve the weather information for Los Angeles at the moment due to restrictions. If you have any other questions or need assistance with something else, feel free to let me know.\", response_metadata={'token_usage': {'completion_tokens': 48, 'prompt_tokens': 463, 'total_tokens': 511}, 'model_name': 'gpt-3.5-turbo', 'system_fingerprint': None, 'finish_reason': 'stop', 'logprobs': None}, id='run-853970a1-d1e3-4afa-b156-e6653233f800-0')]}\n",
      "event: {'llm': {'messages': [AIMessage(content=\"I apologize for the inconvenience, but it seems I'm unable to retrieve the weather information for Los Angeles at the moment due to restrictions. If you have any other questions or need assistance with something else, feel free to let me know.\", response_metadata={'token_usage': {'completion_tokens': 48, 'prompt_tokens': 463, 'total_tokens': 511}, 'model_name': 'gpt-3.5-turbo', 'system_fingerprint': None, 'finish_reason': 'stop', 'logprobs': None}, id='run-853970a1-d1e3-4afa-b156-e6653233f800-0')]}} \n",
      "\n",
      "event value: {'messages': [AIMessage(content=\"I apologize for the inconvenience, but it seems I'm unable to retrieve the weather information for Los Angeles at the moment due to restrictions. If you have any other questions or need assistance with something else, feel free to let me know.\", response_metadata={'token_usage': {'completion_tokens': 48, 'prompt_tokens': 463, 'total_tokens': 511}, 'model_name': 'gpt-3.5-turbo', 'system_fingerprint': None, 'finish_reason': 'stop', 'logprobs': None}, id='run-853970a1-d1e3-4afa-b156-e6653233f800-0')]} \n",
      "\n"
     ]
    }
   ],
   "source": [
    "messages = [HumanMessage(\"Whats the weather in LA?\")]\n",
    "thread = {\"configurable\": {\"thread_id\": \"2\"}}\n",
    "\n",
    "for event in abot.graph.stream({\"messages\": messages}, thread):\n",
    "    print(f\"event: {event} \\n\")\n",
    "    for v in event.values():\n",
    "        print(f\"event value: {v} \\n\")\n",
    "        \n",
    "while abot.graph.get_state(thread).next:\n",
    "    print(\"\\n\", abot.graph.get_state(thread),\"\\n\")\n",
    "    _input = input(\"proceed?\")\n",
    "    if _input != \"y\":\n",
    "        print(\"aborting\")\n",
    "        break\n",
    "    for event in abot.graph.stream(None, thread):\n",
    "        print(f\"event: {event} \\n\")\n",
    "        for v in event.values():\n",
    "            print(f\"event value: {v} \\n\")"
   ]
  },
  {
   "cell_type": "markdown",
   "id": "7bbe5689-54ab-49ca-9055-6e5216abd523",
   "metadata": {},
   "source": [
    "## Modify State\n",
    "Run until the interrupt and then modify the state."
   ]
  },
  {
   "cell_type": "code",
   "execution_count": 14,
   "id": "98f303b1-a4d0-408c-8cc0-515ff980717f",
   "metadata": {
    "height": 116
   },
   "outputs": [
    {
     "name": "stdout",
     "output_type": "stream",
     "text": [
      "{'messages': [HumanMessage(content='Whats the weather in LA?', id='6d333fb3-d29f-4292-a015-35d444f0446f'), AIMessage(content='', additional_kwargs={'tool_calls': [{'id': 'call_BF26HpIwINcI4y5Dl5WANrPw', 'function': {'arguments': '{\"query\":\"weather in Los Angeles\"}', 'name': 'tavily_search_results_json'}, 'type': 'function'}]}, response_metadata={'token_usage': {'completion_tokens': 21, 'prompt_tokens': 152, 'total_tokens': 173}, 'model_name': 'gpt-3.5-turbo', 'system_fingerprint': None, 'finish_reason': 'tool_calls', 'logprobs': None}, id='run-0b31482b-86df-4fc5-8db7-6a747136fa41-0', tool_calls=[{'name': 'tavily_search_results_json', 'args': {'query': 'weather in Los Angeles'}, 'id': 'call_BF26HpIwINcI4y5Dl5WANrPw'}])]}\n",
      "event: {'llm': {'messages': [AIMessage(content='', additional_kwargs={'tool_calls': [{'id': 'call_BF26HpIwINcI4y5Dl5WANrPw', 'function': {'arguments': '{\"query\":\"weather in Los Angeles\"}', 'name': 'tavily_search_results_json'}, 'type': 'function'}]}, response_metadata={'token_usage': {'completion_tokens': 21, 'prompt_tokens': 152, 'total_tokens': 173}, 'model_name': 'gpt-3.5-turbo', 'system_fingerprint': None, 'finish_reason': 'tool_calls', 'logprobs': None}, id='run-0b31482b-86df-4fc5-8db7-6a747136fa41-0', tool_calls=[{'name': 'tavily_search_results_json', 'args': {'query': 'weather in Los Angeles'}, 'id': 'call_BF26HpIwINcI4y5Dl5WANrPw'}])]}} \n",
      "\n",
      "event value: {'messages': [AIMessage(content='', additional_kwargs={'tool_calls': [{'id': 'call_BF26HpIwINcI4y5Dl5WANrPw', 'function': {'arguments': '{\"query\":\"weather in Los Angeles\"}', 'name': 'tavily_search_results_json'}, 'type': 'function'}]}, response_metadata={'token_usage': {'completion_tokens': 21, 'prompt_tokens': 152, 'total_tokens': 173}, 'model_name': 'gpt-3.5-turbo', 'system_fingerprint': None, 'finish_reason': 'tool_calls', 'logprobs': None}, id='run-0b31482b-86df-4fc5-8db7-6a747136fa41-0', tool_calls=[{'name': 'tavily_search_results_json', 'args': {'query': 'weather in Los Angeles'}, 'id': 'call_BF26HpIwINcI4y5Dl5WANrPw'}])]} \n",
      "\n"
     ]
    }
   ],
   "source": [
    "messages = [HumanMessage(\"Whats the weather in LA?\")]\n",
    "thread = {\"configurable\": {\"thread_id\": \"3\"}}\n",
    "for event in abot.graph.stream({\"messages\": messages}, thread):\n",
    "    print(f\"event: {event} \\n\")\n",
    "    for v in event.values():\n",
    "        print(f\"event value: {v} \\n\")"
   ]
  },
  {
   "cell_type": "code",
   "execution_count": 15,
   "id": "bf4dcb93-6298-4cfd-b3ce-61dfac7fb35f",
   "metadata": {
    "height": 31
   },
   "outputs": [
    {
     "data": {
      "text/plain": [
       "StateSnapshot(values={'messages': [HumanMessage(content='Whats the weather in LA?', id='6d333fb3-d29f-4292-a015-35d444f0446f'), AIMessage(content='', additional_kwargs={'tool_calls': [{'function': {'arguments': '{\"query\":\"weather in Los Angeles\"}', 'name': 'tavily_search_results_json'}, 'id': 'call_BF26HpIwINcI4y5Dl5WANrPw', 'type': 'function'}]}, response_metadata={'finish_reason': 'tool_calls', 'logprobs': None, 'model_name': 'gpt-3.5-turbo', 'system_fingerprint': None, 'token_usage': {'completion_tokens': 21, 'prompt_tokens': 152, 'total_tokens': 173}}, id='run-0b31482b-86df-4fc5-8db7-6a747136fa41-0', tool_calls=[{'name': 'tavily_search_results_json', 'args': {'query': 'weather in Los Angeles'}, 'id': 'call_BF26HpIwINcI4y5Dl5WANrPw'}])]}, next=('action',), config={'configurable': {'thread_id': '3', 'thread_ts': '1ef56406-5696-686b-8001-d90240e4e3e8'}}, metadata={'source': 'loop', 'step': 1, 'writes': {'llm': {'messages': [AIMessage(content='', additional_kwargs={'tool_calls': [{'function': {'arguments': '{\"query\":\"weather in Los Angeles\"}', 'name': 'tavily_search_results_json'}, 'id': 'call_BF26HpIwINcI4y5Dl5WANrPw', 'type': 'function'}]}, response_metadata={'finish_reason': 'tool_calls', 'logprobs': None, 'model_name': 'gpt-3.5-turbo', 'system_fingerprint': None, 'token_usage': {'completion_tokens': 21, 'prompt_tokens': 152, 'total_tokens': 173}}, id='run-0b31482b-86df-4fc5-8db7-6a747136fa41-0', tool_calls=[{'name': 'tavily_search_results_json', 'args': {'query': 'weather in Los Angeles'}, 'id': 'call_BF26HpIwINcI4y5Dl5WANrPw'}])]}}}, created_at='2024-08-09T11:13:25.107704+00:00', parent_config={'configurable': {'thread_id': '3', 'thread_ts': '1ef56406-50bd-6b1d-8000-6224fc5d3439'}})"
      ]
     },
     "execution_count": 15,
     "metadata": {},
     "output_type": "execute_result"
    }
   ],
   "source": [
    "abot.graph.get_state(thread)"
   ]
  },
  {
   "cell_type": "code",
   "execution_count": 16,
   "id": "932883a4-c722-42bb-aec0-b4f41c5c81a4",
   "metadata": {
    "height": 31
   },
   "outputs": [],
   "source": [
    "current_values = abot.graph.get_state(thread)"
   ]
  },
  {
   "cell_type": "code",
   "execution_count": 17,
   "id": "ff362f49-dcf1-4ea1-a86c-e516e9ab897d",
   "metadata": {
    "height": 31
   },
   "outputs": [
    {
     "data": {
      "text/plain": [
       "AIMessage(content='', additional_kwargs={'tool_calls': [{'function': {'arguments': '{\"query\":\"weather in Los Angeles\"}', 'name': 'tavily_search_results_json'}, 'id': 'call_BF26HpIwINcI4y5Dl5WANrPw', 'type': 'function'}]}, response_metadata={'finish_reason': 'tool_calls', 'logprobs': None, 'model_name': 'gpt-3.5-turbo', 'system_fingerprint': None, 'token_usage': {'completion_tokens': 21, 'prompt_tokens': 152, 'total_tokens': 173}}, id='run-0b31482b-86df-4fc5-8db7-6a747136fa41-0', tool_calls=[{'name': 'tavily_search_results_json', 'args': {'query': 'weather in Los Angeles'}, 'id': 'call_BF26HpIwINcI4y5Dl5WANrPw'}])"
      ]
     },
     "execution_count": 17,
     "metadata": {},
     "output_type": "execute_result"
    }
   ],
   "source": [
    "current_values.values['messages'][-1]"
   ]
  },
  {
   "cell_type": "code",
   "execution_count": 18,
   "id": "a7e15a20-83d7-434c-8551-bce8dcc32be0",
   "metadata": {
    "height": 31
   },
   "outputs": [
    {
     "data": {
      "text/plain": [
       "[{'name': 'tavily_search_results_json',\n",
       "  'args': {'query': 'weather in Los Angeles'},\n",
       "  'id': 'call_BF26HpIwINcI4y5Dl5WANrPw'}]"
      ]
     },
     "execution_count": 18,
     "metadata": {},
     "output_type": "execute_result"
    }
   ],
   "source": [
    "current_values.values['messages'][-1].tool_calls"
   ]
  },
  {
   "cell_type": "code",
   "execution_count": 19,
   "id": "54ab2c74-f32e-490c-a85d-932d11444210",
   "metadata": {
    "height": 116
   },
   "outputs": [],
   "source": [
    "_id = current_values.values['messages'][-1].tool_calls[0]['id']\n",
    "current_values.values['messages'][-1].tool_calls = [\n",
    "    {'name': 'tavily_search_results_json',\n",
    "  'args': {'query': 'current weather in Louisiana'},\n",
    "  'id': _id}\n",
    "]"
   ]
  },
  {
   "cell_type": "markdown",
   "id": "b2950507",
   "metadata": {
    "height": 31
   },
   "source": [
    "You have to run update_state to see changes. "
   ]
  },
  {
   "cell_type": "code",
   "execution_count": 20,
   "id": "a833d3ce-bd31-4319-811d-decff226b970",
   "metadata": {
    "height": 31
   },
   "outputs": [
    {
     "name": "stdout",
     "output_type": "stream",
     "text": [
      "{'messages': [HumanMessage(content='Whats the weather in LA?', id='6d333fb3-d29f-4292-a015-35d444f0446f'), AIMessage(content='', additional_kwargs={'tool_calls': [{'function': {'arguments': '{\"query\":\"weather in Los Angeles\"}', 'name': 'tavily_search_results_json'}, 'id': 'call_BF26HpIwINcI4y5Dl5WANrPw', 'type': 'function'}]}, response_metadata={'finish_reason': 'tool_calls', 'logprobs': None, 'model_name': 'gpt-3.5-turbo', 'system_fingerprint': None, 'token_usage': {'completion_tokens': 21, 'prompt_tokens': 152, 'total_tokens': 173}}, id='run-0b31482b-86df-4fc5-8db7-6a747136fa41-0', tool_calls=[{'name': 'tavily_search_results_json', 'args': {'query': 'current weather in Louisiana'}, 'id': 'call_BF26HpIwINcI4y5Dl5WANrPw'}])]}\n"
     ]
    },
    {
     "data": {
      "text/plain": [
       "{'configurable': {'thread_id': '3',\n",
       "  'thread_ts': '1ef56406-56d4-64f7-8002-0943e94701fd'}}"
      ]
     },
     "execution_count": 20,
     "metadata": {},
     "output_type": "execute_result"
    }
   ],
   "source": [
    "abot.graph.update_state(thread, current_values.values)"
   ]
  },
  {
   "cell_type": "code",
   "execution_count": 21,
   "id": "76e93cce-6eab-4c7c-ac64-e9993fdb30d6",
   "metadata": {
    "height": 31
   },
   "outputs": [
    {
     "data": {
      "text/plain": [
       "StateSnapshot(values={'messages': [HumanMessage(content='Whats the weather in LA?', id='6d333fb3-d29f-4292-a015-35d444f0446f'), AIMessage(content='', additional_kwargs={'tool_calls': [{'function': {'arguments': '{\"query\":\"weather in Los Angeles\"}', 'name': 'tavily_search_results_json'}, 'id': 'call_BF26HpIwINcI4y5Dl5WANrPw', 'type': 'function'}]}, response_metadata={'finish_reason': 'tool_calls', 'logprobs': None, 'model_name': 'gpt-3.5-turbo', 'system_fingerprint': None, 'token_usage': {'completion_tokens': 21, 'prompt_tokens': 152, 'total_tokens': 173}}, id='run-0b31482b-86df-4fc5-8db7-6a747136fa41-0', tool_calls=[{'name': 'tavily_search_results_json', 'args': {'query': 'current weather in Louisiana'}, 'id': 'call_BF26HpIwINcI4y5Dl5WANrPw'}])]}, next=('action',), config={'configurable': {'thread_id': '3', 'thread_ts': '1ef56406-56d4-64f7-8002-0943e94701fd'}}, metadata={'source': 'update', 'step': 2, 'writes': {'llm': {'messages': [HumanMessage(content='Whats the weather in LA?', id='6d333fb3-d29f-4292-a015-35d444f0446f'), AIMessage(content='', additional_kwargs={'tool_calls': [{'function': {'arguments': '{\"query\":\"weather in Los Angeles\"}', 'name': 'tavily_search_results_json'}, 'id': 'call_BF26HpIwINcI4y5Dl5WANrPw', 'type': 'function'}]}, response_metadata={'finish_reason': 'tool_calls', 'logprobs': None, 'model_name': 'gpt-3.5-turbo', 'system_fingerprint': None, 'token_usage': {'completion_tokens': 21, 'prompt_tokens': 152, 'total_tokens': 173}}, id='run-0b31482b-86df-4fc5-8db7-6a747136fa41-0', tool_calls=[{'name': 'tavily_search_results_json', 'args': {'query': 'current weather in Louisiana'}, 'id': 'call_BF26HpIwINcI4y5Dl5WANrPw'}])]}}}, created_at='2024-08-09T11:13:25.133018+00:00', parent_config={'configurable': {'thread_id': '3', 'thread_ts': '1ef56406-5696-686b-8001-d90240e4e3e8'}})"
      ]
     },
     "execution_count": 21,
     "metadata": {},
     "output_type": "execute_result"
    }
   ],
   "source": [
    "abot.graph.get_state(thread)"
   ]
  },
  {
   "cell_type": "code",
   "execution_count": 22,
   "id": "fd2d0990-a932-423f-9ff3-5cada58c5f32",
   "metadata": {
    "height": 82
   },
   "outputs": [
    {
     "name": "stdout",
     "output_type": "stream",
     "text": [
      "number of tool calls: 1 \n",
      "\n",
      "tool calls: [{'name': 'tavily_search_results_json', 'args': {'query': 'current weather in Louisiana'}, 'id': 'call_BF26HpIwINcI4y5Dl5WANrPw'}] \n",
      "\n",
      "Calling: {'name': 'tavily_search_results_json', 'args': {'query': 'current weather in Louisiana'}, 'id': 'call_BF26HpIwINcI4y5Dl5WANrPw'} \n",
      "\n",
      "result: HTTPError('403 Client Error: Forbidden for url: http://jupyter-api-proxy.internal.dlai/rev-proxy/tavily_search/search') \n",
      "\n",
      "all results: [ToolMessage(content=\"HTTPError('403 Client Error: Forbidden for url: http://jupyter-api-proxy.internal.dlai/rev-proxy/tavily_search/search')\", name='tavily_search_results_json', tool_call_id='call_BF26HpIwINcI4y5Dl5WANrPw')] \n",
      "\n",
      "Back to the model! \n",
      "\n",
      "event: {'action': {'messages': [ToolMessage(content=\"HTTPError('403 Client Error: Forbidden for url: http://jupyter-api-proxy.internal.dlai/rev-proxy/tavily_search/search')\", name='tavily_search_results_json', id='8e1f6c54-6a22-44ec-8d13-bc8b92246077', tool_call_id='call_BF26HpIwINcI4y5Dl5WANrPw')]}} \n",
      "\n",
      "event value: {'messages': [ToolMessage(content=\"HTTPError('403 Client Error: Forbidden for url: http://jupyter-api-proxy.internal.dlai/rev-proxy/tavily_search/search')\", name='tavily_search_results_json', id='8e1f6c54-6a22-44ec-8d13-bc8b92246077', tool_call_id='call_BF26HpIwINcI4y5Dl5WANrPw')]} \n",
      "\n",
      "{'messages': [HumanMessage(content='Whats the weather in LA?', id='6d333fb3-d29f-4292-a015-35d444f0446f'), AIMessage(content='', additional_kwargs={'tool_calls': [{'function': {'arguments': '{\"query\":\"weather in Los Angeles\"}', 'name': 'tavily_search_results_json'}, 'id': 'call_BF26HpIwINcI4y5Dl5WANrPw', 'type': 'function'}]}, response_metadata={'finish_reason': 'tool_calls', 'logprobs': None, 'model_name': 'gpt-3.5-turbo', 'system_fingerprint': None, 'token_usage': {'completion_tokens': 21, 'prompt_tokens': 152, 'total_tokens': 173}}, id='run-0b31482b-86df-4fc5-8db7-6a747136fa41-0', tool_calls=[{'name': 'tavily_search_results_json', 'args': {'query': 'current weather in Louisiana'}, 'id': 'call_BF26HpIwINcI4y5Dl5WANrPw'}]), ToolMessage(content=\"HTTPError('403 Client Error: Forbidden for url: http://jupyter-api-proxy.internal.dlai/rev-proxy/tavily_search/search')\", name='tavily_search_results_json', id='8e1f6c54-6a22-44ec-8d13-bc8b92246077', tool_call_id='call_BF26HpIwINcI4y5Dl5WANrPw'), AIMessage(content='I encountered an issue while trying to retrieve the weather information for Louisiana. Let me try again with a different search query to get the weather for Los Angeles specifically.', additional_kwargs={'tool_calls': [{'id': 'call_8MUfbOFrLsB8VfCp49c1Y7jD', 'function': {'arguments': '{\"query\":\"current weather in Los Angeles\"}', 'name': 'tavily_search_results_json'}, 'type': 'function'}]}, response_metadata={'token_usage': {'completion_tokens': 55, 'prompt_tokens': 215, 'total_tokens': 270}, 'model_name': 'gpt-3.5-turbo', 'system_fingerprint': None, 'finish_reason': 'tool_calls', 'logprobs': None}, id='run-bd79cc53-f7df-40aa-b5c8-16b7586a1b52-0', tool_calls=[{'name': 'tavily_search_results_json', 'args': {'query': 'current weather in Los Angeles'}, 'id': 'call_8MUfbOFrLsB8VfCp49c1Y7jD'}])]}\n",
      "event: {'llm': {'messages': [AIMessage(content='I encountered an issue while trying to retrieve the weather information for Louisiana. Let me try again with a different search query to get the weather for Los Angeles specifically.', additional_kwargs={'tool_calls': [{'id': 'call_8MUfbOFrLsB8VfCp49c1Y7jD', 'function': {'arguments': '{\"query\":\"current weather in Los Angeles\"}', 'name': 'tavily_search_results_json'}, 'type': 'function'}]}, response_metadata={'token_usage': {'completion_tokens': 55, 'prompt_tokens': 215, 'total_tokens': 270}, 'model_name': 'gpt-3.5-turbo', 'system_fingerprint': None, 'finish_reason': 'tool_calls', 'logprobs': None}, id='run-bd79cc53-f7df-40aa-b5c8-16b7586a1b52-0', tool_calls=[{'name': 'tavily_search_results_json', 'args': {'query': 'current weather in Los Angeles'}, 'id': 'call_8MUfbOFrLsB8VfCp49c1Y7jD'}])]}} \n",
      "\n",
      "event value: {'messages': [AIMessage(content='I encountered an issue while trying to retrieve the weather information for Louisiana. Let me try again with a different search query to get the weather for Los Angeles specifically.', additional_kwargs={'tool_calls': [{'id': 'call_8MUfbOFrLsB8VfCp49c1Y7jD', 'function': {'arguments': '{\"query\":\"current weather in Los Angeles\"}', 'name': 'tavily_search_results_json'}, 'type': 'function'}]}, response_metadata={'token_usage': {'completion_tokens': 55, 'prompt_tokens': 215, 'total_tokens': 270}, 'model_name': 'gpt-3.5-turbo', 'system_fingerprint': None, 'finish_reason': 'tool_calls', 'logprobs': None}, id='run-bd79cc53-f7df-40aa-b5c8-16b7586a1b52-0', tool_calls=[{'name': 'tavily_search_results_json', 'args': {'query': 'current weather in Los Angeles'}, 'id': 'call_8MUfbOFrLsB8VfCp49c1Y7jD'}])]} \n",
      "\n"
     ]
    }
   ],
   "source": [
    "for event in abot.graph.stream(None, thread):\n",
    "    print(f\"event: {event} \\n\")\n",
    "    for v in event.values():\n",
    "        print(f\"event value: {v} \\n\")"
   ]
  },
  {
   "cell_type": "markdown",
   "id": "e75b870b-e0df-46f1-b29b-fb151ebcbcc3",
   "metadata": {},
   "source": [
    "## Time Travel"
   ]
  },
  {
   "cell_type": "code",
   "execution_count": 23,
   "id": "27cde654-64e2-48bc-80a9-0ed668ccb7dc",
   "metadata": {
    "height": 99
   },
   "outputs": [
    {
     "name": "stdout",
     "output_type": "stream",
     "text": [
      "StateSnapshot(values={'messages': [HumanMessage(content='Whats the weather in LA?', id='6d333fb3-d29f-4292-a015-35d444f0446f'), AIMessage(content='', additional_kwargs={'tool_calls': [{'function': {'arguments': '{\"query\":\"weather in Los Angeles\"}', 'name': 'tavily_search_results_json'}, 'id': 'call_BF26HpIwINcI4y5Dl5WANrPw', 'type': 'function'}]}, response_metadata={'finish_reason': 'tool_calls', 'logprobs': None, 'model_name': 'gpt-3.5-turbo', 'system_fingerprint': None, 'token_usage': {'completion_tokens': 21, 'prompt_tokens': 152, 'total_tokens': 173}}, id='run-0b31482b-86df-4fc5-8db7-6a747136fa41-0', tool_calls=[{'name': 'tavily_search_results_json', 'args': {'query': 'current weather in Louisiana'}, 'id': 'call_BF26HpIwINcI4y5Dl5WANrPw'}]), ToolMessage(content=\"HTTPError('403 Client Error: Forbidden for url: http://jupyter-api-proxy.internal.dlai/rev-proxy/tavily_search/search')\", name='tavily_search_results_json', id='8e1f6c54-6a22-44ec-8d13-bc8b92246077', tool_call_id='call_BF26HpIwINcI4y5Dl5WANrPw'), AIMessage(content='I encountered an issue while trying to retrieve the weather information for Louisiana. Let me try again with a different search query to get the weather for Los Angeles specifically.', additional_kwargs={'tool_calls': [{'function': {'arguments': '{\"query\":\"current weather in Los Angeles\"}', 'name': 'tavily_search_results_json'}, 'id': 'call_8MUfbOFrLsB8VfCp49c1Y7jD', 'type': 'function'}]}, response_metadata={'finish_reason': 'tool_calls', 'logprobs': None, 'model_name': 'gpt-3.5-turbo', 'system_fingerprint': None, 'token_usage': {'completion_tokens': 55, 'prompt_tokens': 215, 'total_tokens': 270}}, id='run-bd79cc53-f7df-40aa-b5c8-16b7586a1b52-0', tool_calls=[{'name': 'tavily_search_results_json', 'args': {'query': 'current weather in Los Angeles'}, 'id': 'call_8MUfbOFrLsB8VfCp49c1Y7jD'}])]}, next=('action',), config={'configurable': {'thread_id': '3', 'thread_ts': '1ef56406-604a-6e6b-8004-f2764ea72a4b'}}, metadata={'source': 'loop', 'step': 4, 'writes': {'llm': {'messages': [AIMessage(content='I encountered an issue while trying to retrieve the weather information for Louisiana. Let me try again with a different search query to get the weather for Los Angeles specifically.', additional_kwargs={'tool_calls': [{'function': {'arguments': '{\"query\":\"current weather in Los Angeles\"}', 'name': 'tavily_search_results_json'}, 'id': 'call_8MUfbOFrLsB8VfCp49c1Y7jD', 'type': 'function'}]}, response_metadata={'finish_reason': 'tool_calls', 'logprobs': None, 'model_name': 'gpt-3.5-turbo', 'system_fingerprint': None, 'token_usage': {'completion_tokens': 55, 'prompt_tokens': 215, 'total_tokens': 270}}, id='run-bd79cc53-f7df-40aa-b5c8-16b7586a1b52-0', tool_calls=[{'name': 'tavily_search_results_json', 'args': {'query': 'current weather in Los Angeles'}, 'id': 'call_8MUfbOFrLsB8VfCp49c1Y7jD'}])]}}}, created_at='2024-08-09T11:13:26.125303+00:00', parent_config={'configurable': {'thread_id': '3', 'thread_ts': '1ef56406-571b-684b-8003-7705a1065ea1'}})\n",
      "--\n",
      "StateSnapshot(values={'messages': [HumanMessage(content='Whats the weather in LA?', id='6d333fb3-d29f-4292-a015-35d444f0446f'), AIMessage(content='', additional_kwargs={'tool_calls': [{'function': {'arguments': '{\"query\":\"weather in Los Angeles\"}', 'name': 'tavily_search_results_json'}, 'id': 'call_BF26HpIwINcI4y5Dl5WANrPw', 'type': 'function'}]}, response_metadata={'finish_reason': 'tool_calls', 'logprobs': None, 'model_name': 'gpt-3.5-turbo', 'system_fingerprint': None, 'token_usage': {'completion_tokens': 21, 'prompt_tokens': 152, 'total_tokens': 173}}, id='run-0b31482b-86df-4fc5-8db7-6a747136fa41-0', tool_calls=[{'name': 'tavily_search_results_json', 'args': {'query': 'current weather in Louisiana'}, 'id': 'call_BF26HpIwINcI4y5Dl5WANrPw'}]), ToolMessage(content=\"HTTPError('403 Client Error: Forbidden for url: http://jupyter-api-proxy.internal.dlai/rev-proxy/tavily_search/search')\", name='tavily_search_results_json', id='8e1f6c54-6a22-44ec-8d13-bc8b92246077', tool_call_id='call_BF26HpIwINcI4y5Dl5WANrPw')]}, next=('llm',), config={'configurable': {'thread_id': '3', 'thread_ts': '1ef56406-571b-684b-8003-7705a1065ea1'}}, metadata={'source': 'loop', 'step': 3, 'writes': {'action': {'messages': [ToolMessage(content=\"HTTPError('403 Client Error: Forbidden for url: http://jupyter-api-proxy.internal.dlai/rev-proxy/tavily_search/search')\", name='tavily_search_results_json', id='8e1f6c54-6a22-44ec-8d13-bc8b92246077', tool_call_id='call_BF26HpIwINcI4y5Dl5WANrPw')]}}}, created_at='2024-08-09T11:13:25.162179+00:00', parent_config={'configurable': {'thread_id': '3', 'thread_ts': '1ef56406-56d4-64f7-8002-0943e94701fd'}})\n",
      "--\n",
      "StateSnapshot(values={'messages': [HumanMessage(content='Whats the weather in LA?', id='6d333fb3-d29f-4292-a015-35d444f0446f'), AIMessage(content='', additional_kwargs={'tool_calls': [{'function': {'arguments': '{\"query\":\"weather in Los Angeles\"}', 'name': 'tavily_search_results_json'}, 'id': 'call_BF26HpIwINcI4y5Dl5WANrPw', 'type': 'function'}]}, response_metadata={'finish_reason': 'tool_calls', 'logprobs': None, 'model_name': 'gpt-3.5-turbo', 'system_fingerprint': None, 'token_usage': {'completion_tokens': 21, 'prompt_tokens': 152, 'total_tokens': 173}}, id='run-0b31482b-86df-4fc5-8db7-6a747136fa41-0', tool_calls=[{'name': 'tavily_search_results_json', 'args': {'query': 'current weather in Louisiana'}, 'id': 'call_BF26HpIwINcI4y5Dl5WANrPw'}])]}, next=('action',), config={'configurable': {'thread_id': '3', 'thread_ts': '1ef56406-56d4-64f7-8002-0943e94701fd'}}, metadata={'source': 'update', 'step': 2, 'writes': {'llm': {'messages': [HumanMessage(content='Whats the weather in LA?', id='6d333fb3-d29f-4292-a015-35d444f0446f'), AIMessage(content='', additional_kwargs={'tool_calls': [{'function': {'arguments': '{\"query\":\"weather in Los Angeles\"}', 'name': 'tavily_search_results_json'}, 'id': 'call_BF26HpIwINcI4y5Dl5WANrPw', 'type': 'function'}]}, response_metadata={'finish_reason': 'tool_calls', 'logprobs': None, 'model_name': 'gpt-3.5-turbo', 'system_fingerprint': None, 'token_usage': {'completion_tokens': 21, 'prompt_tokens': 152, 'total_tokens': 173}}, id='run-0b31482b-86df-4fc5-8db7-6a747136fa41-0', tool_calls=[{'name': 'tavily_search_results_json', 'args': {'query': 'current weather in Louisiana'}, 'id': 'call_BF26HpIwINcI4y5Dl5WANrPw'}])]}}}, created_at='2024-08-09T11:13:25.133018+00:00', parent_config={'configurable': {'thread_id': '3', 'thread_ts': '1ef56406-5696-686b-8001-d90240e4e3e8'}})\n",
      "--\n",
      "StateSnapshot(values={'messages': [HumanMessage(content='Whats the weather in LA?', id='6d333fb3-d29f-4292-a015-35d444f0446f'), AIMessage(content='', additional_kwargs={'tool_calls': [{'function': {'arguments': '{\"query\":\"weather in Los Angeles\"}', 'name': 'tavily_search_results_json'}, 'id': 'call_BF26HpIwINcI4y5Dl5WANrPw', 'type': 'function'}]}, response_metadata={'finish_reason': 'tool_calls', 'logprobs': None, 'model_name': 'gpt-3.5-turbo', 'system_fingerprint': None, 'token_usage': {'completion_tokens': 21, 'prompt_tokens': 152, 'total_tokens': 173}}, id='run-0b31482b-86df-4fc5-8db7-6a747136fa41-0', tool_calls=[{'name': 'tavily_search_results_json', 'args': {'query': 'weather in Los Angeles'}, 'id': 'call_BF26HpIwINcI4y5Dl5WANrPw'}])]}, next=('action',), config={'configurable': {'thread_id': '3', 'thread_ts': '1ef56406-5696-686b-8001-d90240e4e3e8'}}, metadata={'source': 'loop', 'step': 1, 'writes': {'llm': {'messages': [AIMessage(content='', additional_kwargs={'tool_calls': [{'function': {'arguments': '{\"query\":\"weather in Los Angeles\"}', 'name': 'tavily_search_results_json'}, 'id': 'call_BF26HpIwINcI4y5Dl5WANrPw', 'type': 'function'}]}, response_metadata={'finish_reason': 'tool_calls', 'logprobs': None, 'model_name': 'gpt-3.5-turbo', 'system_fingerprint': None, 'token_usage': {'completion_tokens': 21, 'prompt_tokens': 152, 'total_tokens': 173}}, id='run-0b31482b-86df-4fc5-8db7-6a747136fa41-0', tool_calls=[{'name': 'tavily_search_results_json', 'args': {'query': 'weather in Los Angeles'}, 'id': 'call_BF26HpIwINcI4y5Dl5WANrPw'}])]}}}, created_at='2024-08-09T11:13:25.107704+00:00', parent_config={'configurable': {'thread_id': '3', 'thread_ts': '1ef56406-50bd-6b1d-8000-6224fc5d3439'}})\n",
      "--\n",
      "StateSnapshot(values={'messages': [HumanMessage(content='Whats the weather in LA?', id='6d333fb3-d29f-4292-a015-35d444f0446f')]}, next=('llm',), config={'configurable': {'thread_id': '3', 'thread_ts': '1ef56406-50bd-6b1d-8000-6224fc5d3439'}}, metadata={'source': 'loop', 'step': 0, 'writes': None}, created_at='2024-08-09T11:13:24.494601+00:00', parent_config={'configurable': {'thread_id': '3', 'thread_ts': '1ef56406-50bb-6567-bfff-e745a78e7cf7'}})\n",
      "--\n",
      "StateSnapshot(values={'messages': []}, next=('__start__',), config={'configurable': {'thread_id': '3', 'thread_ts': '1ef56406-50bb-6567-bfff-e745a78e7cf7'}}, metadata={'source': 'input', 'step': -1, 'writes': {'messages': [HumanMessage(content='Whats the weather in LA?')]}}, created_at='2024-08-09T11:13:24.493639+00:00', parent_config=None)\n",
      "--\n"
     ]
    }
   ],
   "source": [
    "states = []\n",
    "for state in abot.graph.get_state_history(thread):\n",
    "    print(state)\n",
    "    print('--')\n",
    "    states.append(state)"
   ]
  },
  {
   "cell_type": "markdown",
   "id": "449896c8-6ec6-4166-b640-9cd1530336a0",
   "metadata": {},
   "source": [
    "To fetch the same state as was filmed, the offset below is changed to `-3` from `-1`. This accounts for the initial state `__start__` and the first state that are now stored to state memory with the latest version of software."
   ]
  },
  {
   "cell_type": "code",
   "execution_count": 24,
   "id": "4871f644-b131-4065-b7ce-b82c20a41f11",
   "metadata": {
    "height": 31
   },
   "outputs": [],
   "source": [
    "to_replay = states[-3]"
   ]
  },
  {
   "cell_type": "code",
   "execution_count": 25,
   "id": "8c3d8070-3f36-4cf0-a677-508e54359c8f",
   "metadata": {
    "height": 31
   },
   "outputs": [
    {
     "data": {
      "text/plain": [
       "StateSnapshot(values={'messages': [HumanMessage(content='Whats the weather in LA?', id='6d333fb3-d29f-4292-a015-35d444f0446f'), AIMessage(content='', additional_kwargs={'tool_calls': [{'function': {'arguments': '{\"query\":\"weather in Los Angeles\"}', 'name': 'tavily_search_results_json'}, 'id': 'call_BF26HpIwINcI4y5Dl5WANrPw', 'type': 'function'}]}, response_metadata={'finish_reason': 'tool_calls', 'logprobs': None, 'model_name': 'gpt-3.5-turbo', 'system_fingerprint': None, 'token_usage': {'completion_tokens': 21, 'prompt_tokens': 152, 'total_tokens': 173}}, id='run-0b31482b-86df-4fc5-8db7-6a747136fa41-0', tool_calls=[{'name': 'tavily_search_results_json', 'args': {'query': 'weather in Los Angeles'}, 'id': 'call_BF26HpIwINcI4y5Dl5WANrPw'}])]}, next=('action',), config={'configurable': {'thread_id': '3', 'thread_ts': '1ef56406-5696-686b-8001-d90240e4e3e8'}}, metadata={'source': 'loop', 'step': 1, 'writes': {'llm': {'messages': [AIMessage(content='', additional_kwargs={'tool_calls': [{'function': {'arguments': '{\"query\":\"weather in Los Angeles\"}', 'name': 'tavily_search_results_json'}, 'id': 'call_BF26HpIwINcI4y5Dl5WANrPw', 'type': 'function'}]}, response_metadata={'finish_reason': 'tool_calls', 'logprobs': None, 'model_name': 'gpt-3.5-turbo', 'system_fingerprint': None, 'token_usage': {'completion_tokens': 21, 'prompt_tokens': 152, 'total_tokens': 173}}, id='run-0b31482b-86df-4fc5-8db7-6a747136fa41-0', tool_calls=[{'name': 'tavily_search_results_json', 'args': {'query': 'weather in Los Angeles'}, 'id': 'call_BF26HpIwINcI4y5Dl5WANrPw'}])]}}}, created_at='2024-08-09T11:13:25.107704+00:00', parent_config={'configurable': {'thread_id': '3', 'thread_ts': '1ef56406-50bd-6b1d-8000-6224fc5d3439'}})"
      ]
     },
     "execution_count": 25,
     "metadata": {},
     "output_type": "execute_result"
    }
   ],
   "source": [
    "to_replay"
   ]
  },
  {
   "cell_type": "code",
   "execution_count": 26,
   "id": "98f3be1d-cc4c-41fa-9863-3e386e88e305",
   "metadata": {
    "height": 82
   },
   "outputs": [
    {
     "name": "stdout",
     "output_type": "stream",
     "text": [
      "number of tool calls: 1 \n",
      "\n",
      "tool calls: [{'name': 'tavily_search_results_json', 'args': {'query': 'weather in Los Angeles'}, 'id': 'call_BF26HpIwINcI4y5Dl5WANrPw'}] \n",
      "\n",
      "Calling: {'name': 'tavily_search_results_json', 'args': {'query': 'weather in Los Angeles'}, 'id': 'call_BF26HpIwINcI4y5Dl5WANrPw'} \n",
      "\n",
      "result: HTTPError('403 Client Error: Forbidden for url: http://jupyter-api-proxy.internal.dlai/rev-proxy/tavily_search/search') \n",
      "\n",
      "all results: [ToolMessage(content=\"HTTPError('403 Client Error: Forbidden for url: http://jupyter-api-proxy.internal.dlai/rev-proxy/tavily_search/search')\", name='tavily_search_results_json', tool_call_id='call_BF26HpIwINcI4y5Dl5WANrPw')] \n",
      "\n",
      "Back to the model! \n",
      "\n",
      "event: {'action': {'messages': [ToolMessage(content=\"HTTPError('403 Client Error: Forbidden for url: http://jupyter-api-proxy.internal.dlai/rev-proxy/tavily_search/search')\", name='tavily_search_results_json', id='d59baa79-eadd-41a4-a3b1-aabd99959462', tool_call_id='call_BF26HpIwINcI4y5Dl5WANrPw')]}} \n",
      "\n",
      "event value: {'messages': [ToolMessage(content=\"HTTPError('403 Client Error: Forbidden for url: http://jupyter-api-proxy.internal.dlai/rev-proxy/tavily_search/search')\", name='tavily_search_results_json', id='d59baa79-eadd-41a4-a3b1-aabd99959462', tool_call_id='call_BF26HpIwINcI4y5Dl5WANrPw')]} \n",
      "\n",
      "{'messages': [HumanMessage(content='Whats the weather in LA?', id='6d333fb3-d29f-4292-a015-35d444f0446f'), AIMessage(content='', additional_kwargs={'tool_calls': [{'function': {'arguments': '{\"query\":\"weather in Los Angeles\"}', 'name': 'tavily_search_results_json'}, 'id': 'call_BF26HpIwINcI4y5Dl5WANrPw', 'type': 'function'}]}, response_metadata={'finish_reason': 'tool_calls', 'logprobs': None, 'model_name': 'gpt-3.5-turbo', 'system_fingerprint': None, 'token_usage': {'completion_tokens': 21, 'prompt_tokens': 152, 'total_tokens': 173}}, id='run-0b31482b-86df-4fc5-8db7-6a747136fa41-0', tool_calls=[{'name': 'tavily_search_results_json', 'args': {'query': 'weather in Los Angeles'}, 'id': 'call_BF26HpIwINcI4y5Dl5WANrPw'}]), ToolMessage(content=\"HTTPError('403 Client Error: Forbidden for url: http://jupyter-api-proxy.internal.dlai/rev-proxy/tavily_search/search')\", name='tavily_search_results_json', id='d59baa79-eadd-41a4-a3b1-aabd99959462', tool_call_id='call_BF26HpIwINcI4y5Dl5WANrPw'), AIMessage(content='I encountered an issue while trying to fetch the weather information for Los Angeles. Let me try again.', additional_kwargs={'tool_calls': [{'id': 'call_eoqWiIcvsVB52Yrw0IuWjBST', 'function': {'arguments': '{\"query\":\"Los Angeles current weather\"}', 'name': 'tavily_search_results_json'}, 'type': 'function'}]}, response_metadata={'token_usage': {'completion_tokens': 42, 'prompt_tokens': 215, 'total_tokens': 257}, 'model_name': 'gpt-3.5-turbo', 'system_fingerprint': None, 'finish_reason': 'tool_calls', 'logprobs': None}, id='run-b7849d87-b2f9-4c72-8f66-c7f15533a094-0', tool_calls=[{'name': 'tavily_search_results_json', 'args': {'query': 'Los Angeles current weather'}, 'id': 'call_eoqWiIcvsVB52Yrw0IuWjBST'}])]}\n",
      "event: {'llm': {'messages': [AIMessage(content='I encountered an issue while trying to fetch the weather information for Los Angeles. Let me try again.', additional_kwargs={'tool_calls': [{'id': 'call_eoqWiIcvsVB52Yrw0IuWjBST', 'function': {'arguments': '{\"query\":\"Los Angeles current weather\"}', 'name': 'tavily_search_results_json'}, 'type': 'function'}]}, response_metadata={'token_usage': {'completion_tokens': 42, 'prompt_tokens': 215, 'total_tokens': 257}, 'model_name': 'gpt-3.5-turbo', 'system_fingerprint': None, 'finish_reason': 'tool_calls', 'logprobs': None}, id='run-b7849d87-b2f9-4c72-8f66-c7f15533a094-0', tool_calls=[{'name': 'tavily_search_results_json', 'args': {'query': 'Los Angeles current weather'}, 'id': 'call_eoqWiIcvsVB52Yrw0IuWjBST'}])]}} \n",
      "\n",
      "event value: {'messages': [AIMessage(content='I encountered an issue while trying to fetch the weather information for Los Angeles. Let me try again.', additional_kwargs={'tool_calls': [{'id': 'call_eoqWiIcvsVB52Yrw0IuWjBST', 'function': {'arguments': '{\"query\":\"Los Angeles current weather\"}', 'name': 'tavily_search_results_json'}, 'type': 'function'}]}, response_metadata={'token_usage': {'completion_tokens': 42, 'prompt_tokens': 215, 'total_tokens': 257}, 'model_name': 'gpt-3.5-turbo', 'system_fingerprint': None, 'finish_reason': 'tool_calls', 'logprobs': None}, id='run-b7849d87-b2f9-4c72-8f66-c7f15533a094-0', tool_calls=[{'name': 'tavily_search_results_json', 'args': {'query': 'Los Angeles current weather'}, 'id': 'call_eoqWiIcvsVB52Yrw0IuWjBST'}])]} \n",
      "\n"
     ]
    }
   ],
   "source": [
    "for event in abot.graph.stream(None, to_replay.config):\n",
    "    print(f\"event: {event} \\n\")\n",
    "    for k, v in event.items():\n",
    "        print(f\"event value: {v} \\n\")"
   ]
  },
  {
   "cell_type": "markdown",
   "id": "005353dc-630b-4b40-ab19-56c57ac06611",
   "metadata": {},
   "source": [
    "## Go back in time and edit"
   ]
  },
  {
   "cell_type": "code",
   "execution_count": 27,
   "id": "0ad8a6cc-65d4-4ce7-87aa-4e67d7c23d7b",
   "metadata": {
    "height": 31
   },
   "outputs": [
    {
     "data": {
      "text/plain": [
       "StateSnapshot(values={'messages': [HumanMessage(content='Whats the weather in LA?', id='6d333fb3-d29f-4292-a015-35d444f0446f'), AIMessage(content='', additional_kwargs={'tool_calls': [{'function': {'arguments': '{\"query\":\"weather in Los Angeles\"}', 'name': 'tavily_search_results_json'}, 'id': 'call_BF26HpIwINcI4y5Dl5WANrPw', 'type': 'function'}]}, response_metadata={'finish_reason': 'tool_calls', 'logprobs': None, 'model_name': 'gpt-3.5-turbo', 'system_fingerprint': None, 'token_usage': {'completion_tokens': 21, 'prompt_tokens': 152, 'total_tokens': 173}}, id='run-0b31482b-86df-4fc5-8db7-6a747136fa41-0', tool_calls=[{'name': 'tavily_search_results_json', 'args': {'query': 'weather in Los Angeles'}, 'id': 'call_BF26HpIwINcI4y5Dl5WANrPw'}])]}, next=('action',), config={'configurable': {'thread_id': '3', 'thread_ts': '1ef56406-5696-686b-8001-d90240e4e3e8'}}, metadata={'source': 'loop', 'step': 1, 'writes': {'llm': {'messages': [AIMessage(content='', additional_kwargs={'tool_calls': [{'function': {'arguments': '{\"query\":\"weather in Los Angeles\"}', 'name': 'tavily_search_results_json'}, 'id': 'call_BF26HpIwINcI4y5Dl5WANrPw', 'type': 'function'}]}, response_metadata={'finish_reason': 'tool_calls', 'logprobs': None, 'model_name': 'gpt-3.5-turbo', 'system_fingerprint': None, 'token_usage': {'completion_tokens': 21, 'prompt_tokens': 152, 'total_tokens': 173}}, id='run-0b31482b-86df-4fc5-8db7-6a747136fa41-0', tool_calls=[{'name': 'tavily_search_results_json', 'args': {'query': 'weather in Los Angeles'}, 'id': 'call_BF26HpIwINcI4y5Dl5WANrPw'}])]}}}, created_at='2024-08-09T11:13:25.107704+00:00', parent_config={'configurable': {'thread_id': '3', 'thread_ts': '1ef56406-50bd-6b1d-8000-6224fc5d3439'}})"
      ]
     },
     "execution_count": 27,
     "metadata": {},
     "output_type": "execute_result"
    }
   ],
   "source": [
    "to_replay"
   ]
  },
  {
   "cell_type": "code",
   "execution_count": 28,
   "id": "592b5e62-a203-433c-92a0-3783f490cde1",
   "metadata": {
    "height": 82
   },
   "outputs": [],
   "source": [
    "_id = to_replay.values['messages'][-1].tool_calls[0]['id']\n",
    "to_replay.values['messages'][-1].tool_calls = [{'name': 'tavily_search_results_json',\n",
    "  'args': {'query': 'current weather in LA, accuweather'},\n",
    "  'id': _id}]"
   ]
  },
  {
   "cell_type": "code",
   "execution_count": 29,
   "id": "14fa923c-7e4f-42d1-965f-0f8ccd50fbd7",
   "metadata": {
    "height": 31
   },
   "outputs": [
    {
     "name": "stdout",
     "output_type": "stream",
     "text": [
      "{'messages': [HumanMessage(content='Whats the weather in LA?', id='6d333fb3-d29f-4292-a015-35d444f0446f'), AIMessage(content='', additional_kwargs={'tool_calls': [{'function': {'arguments': '{\"query\":\"weather in Los Angeles\"}', 'name': 'tavily_search_results_json'}, 'id': 'call_BF26HpIwINcI4y5Dl5WANrPw', 'type': 'function'}]}, response_metadata={'finish_reason': 'tool_calls', 'logprobs': None, 'model_name': 'gpt-3.5-turbo', 'system_fingerprint': None, 'token_usage': {'completion_tokens': 21, 'prompt_tokens': 152, 'total_tokens': 173}}, id='run-0b31482b-86df-4fc5-8db7-6a747136fa41-0', tool_calls=[{'name': 'tavily_search_results_json', 'args': {'query': 'current weather in LA, accuweather'}, 'id': 'call_BF26HpIwINcI4y5Dl5WANrPw'}])]}\n"
     ]
    }
   ],
   "source": [
    "branch_state = abot.graph.update_state(to_replay.config, to_replay.values)"
   ]
  },
  {
   "cell_type": "code",
   "execution_count": 30,
   "id": "570c6245-2837-4ac5-983b-95f61f3ac10d",
   "metadata": {
    "height": 99
   },
   "outputs": [
    {
     "name": "stdout",
     "output_type": "stream",
     "text": [
      "number of tool calls: 1 \n",
      "\n",
      "tool calls: [{'name': 'tavily_search_results_json', 'args': {'query': 'current weather in LA, accuweather'}, 'id': 'call_BF26HpIwINcI4y5Dl5WANrPw'}] \n",
      "\n",
      "Calling: {'name': 'tavily_search_results_json', 'args': {'query': 'current weather in LA, accuweather'}, 'id': 'call_BF26HpIwINcI4y5Dl5WANrPw'} \n",
      "\n",
      "result: HTTPError('403 Client Error: Forbidden for url: http://jupyter-api-proxy.internal.dlai/rev-proxy/tavily_search/search') \n",
      "\n",
      "all results: [ToolMessage(content=\"HTTPError('403 Client Error: Forbidden for url: http://jupyter-api-proxy.internal.dlai/rev-proxy/tavily_search/search')\", name='tavily_search_results_json', tool_call_id='call_BF26HpIwINcI4y5Dl5WANrPw')] \n",
      "\n",
      "Back to the model! \n",
      "\n",
      "event: {'action': {'messages': [ToolMessage(content=\"HTTPError('403 Client Error: Forbidden for url: http://jupyter-api-proxy.internal.dlai/rev-proxy/tavily_search/search')\", name='tavily_search_results_json', id='fd94ac90-e538-404f-99e6-db9f8c528dc7', tool_call_id='call_BF26HpIwINcI4y5Dl5WANrPw')]}} \n",
      "\n",
      "event value: {'messages': [ToolMessage(content=\"HTTPError('403 Client Error: Forbidden for url: http://jupyter-api-proxy.internal.dlai/rev-proxy/tavily_search/search')\", name='tavily_search_results_json', id='fd94ac90-e538-404f-99e6-db9f8c528dc7', tool_call_id='call_BF26HpIwINcI4y5Dl5WANrPw')]} \n",
      "\n",
      "{'messages': [HumanMessage(content='Whats the weather in LA?', id='6d333fb3-d29f-4292-a015-35d444f0446f'), AIMessage(content='', additional_kwargs={'tool_calls': [{'function': {'arguments': '{\"query\":\"weather in Los Angeles\"}', 'name': 'tavily_search_results_json'}, 'id': 'call_BF26HpIwINcI4y5Dl5WANrPw', 'type': 'function'}]}, response_metadata={'finish_reason': 'tool_calls', 'logprobs': None, 'model_name': 'gpt-3.5-turbo', 'system_fingerprint': None, 'token_usage': {'completion_tokens': 21, 'prompt_tokens': 152, 'total_tokens': 173}}, id='run-0b31482b-86df-4fc5-8db7-6a747136fa41-0', tool_calls=[{'name': 'tavily_search_results_json', 'args': {'query': 'current weather in LA, accuweather'}, 'id': 'call_BF26HpIwINcI4y5Dl5WANrPw'}]), ToolMessage(content=\"HTTPError('403 Client Error: Forbidden for url: http://jupyter-api-proxy.internal.dlai/rev-proxy/tavily_search/search')\", name='tavily_search_results_json', id='fd94ac90-e538-404f-99e6-db9f8c528dc7', tool_call_id='call_BF26HpIwINcI4y5Dl5WANrPw'), AIMessage(content='It seems I encountered an issue while trying to fetch the current weather in LA. Let me try again.', additional_kwargs={'tool_calls': [{'id': 'call_uzvCeLh5PfE950hT6csMC9nX', 'function': {'arguments': '{\"query\":\"current weather in Los Angeles\"}', 'name': 'tavily_search_results_json'}, 'type': 'function'}]}, response_metadata={'token_usage': {'completion_tokens': 44, 'prompt_tokens': 219, 'total_tokens': 263}, 'model_name': 'gpt-3.5-turbo', 'system_fingerprint': None, 'finish_reason': 'tool_calls', 'logprobs': None}, id='run-a99b606d-12eb-4ae4-93cb-3be6a2f7d8d9-0', tool_calls=[{'name': 'tavily_search_results_json', 'args': {'query': 'current weather in Los Angeles'}, 'id': 'call_uzvCeLh5PfE950hT6csMC9nX'}])]}\n",
      "event: {'llm': {'messages': [AIMessage(content='It seems I encountered an issue while trying to fetch the current weather in LA. Let me try again.', additional_kwargs={'tool_calls': [{'id': 'call_uzvCeLh5PfE950hT6csMC9nX', 'function': {'arguments': '{\"query\":\"current weather in Los Angeles\"}', 'name': 'tavily_search_results_json'}, 'type': 'function'}]}, response_metadata={'token_usage': {'completion_tokens': 44, 'prompt_tokens': 219, 'total_tokens': 263}, 'model_name': 'gpt-3.5-turbo', 'system_fingerprint': None, 'finish_reason': 'tool_calls', 'logprobs': None}, id='run-a99b606d-12eb-4ae4-93cb-3be6a2f7d8d9-0', tool_calls=[{'name': 'tavily_search_results_json', 'args': {'query': 'current weather in Los Angeles'}, 'id': 'call_uzvCeLh5PfE950hT6csMC9nX'}])]}} \n",
      "\n",
      "event value: {'messages': [AIMessage(content='It seems I encountered an issue while trying to fetch the current weather in LA. Let me try again.', additional_kwargs={'tool_calls': [{'id': 'call_uzvCeLh5PfE950hT6csMC9nX', 'function': {'arguments': '{\"query\":\"current weather in Los Angeles\"}', 'name': 'tavily_search_results_json'}, 'type': 'function'}]}, response_metadata={'token_usage': {'completion_tokens': 44, 'prompt_tokens': 219, 'total_tokens': 263}, 'model_name': 'gpt-3.5-turbo', 'system_fingerprint': None, 'finish_reason': 'tool_calls', 'logprobs': None}, id='run-a99b606d-12eb-4ae4-93cb-3be6a2f7d8d9-0', tool_calls=[{'name': 'tavily_search_results_json', 'args': {'query': 'current weather in Los Angeles'}, 'id': 'call_uzvCeLh5PfE950hT6csMC9nX'}])]} \n",
      "\n"
     ]
    }
   ],
   "source": [
    "for event in abot.graph.stream(None, branch_state):\n",
    "    print(f\"event: {event} \\n\")\n",
    "    for k, v in event.items():\n",
    "        if k != \"__end__\":\n",
    "            print(f\"event value: {v} \\n\")"
   ]
  },
  {
   "cell_type": "markdown",
   "id": "f1016ce7-368d-4922-9044-fcdfd47c273b",
   "metadata": {},
   "source": [
    "## Add message to a state at a given time"
   ]
  },
  {
   "cell_type": "code",
   "execution_count": 31,
   "id": "6b910915-b087-4d35-afff-0ec30a5852f1",
   "metadata": {
    "height": 31
   },
   "outputs": [
    {
     "data": {
      "text/plain": [
       "StateSnapshot(values={'messages': [HumanMessage(content='Whats the weather in LA?', id='6d333fb3-d29f-4292-a015-35d444f0446f'), AIMessage(content='', additional_kwargs={'tool_calls': [{'function': {'arguments': '{\"query\":\"weather in Los Angeles\"}', 'name': 'tavily_search_results_json'}, 'id': 'call_BF26HpIwINcI4y5Dl5WANrPw', 'type': 'function'}]}, response_metadata={'finish_reason': 'tool_calls', 'logprobs': None, 'model_name': 'gpt-3.5-turbo', 'system_fingerprint': None, 'token_usage': {'completion_tokens': 21, 'prompt_tokens': 152, 'total_tokens': 173}}, id='run-0b31482b-86df-4fc5-8db7-6a747136fa41-0', tool_calls=[{'name': 'tavily_search_results_json', 'args': {'query': 'current weather in LA, accuweather'}, 'id': 'call_BF26HpIwINcI4y5Dl5WANrPw'}])]}, next=('action',), config={'configurable': {'thread_id': '3', 'thread_ts': '1ef56406-5696-686b-8001-d90240e4e3e8'}}, metadata={'source': 'loop', 'step': 1, 'writes': {'llm': {'messages': [AIMessage(content='', additional_kwargs={'tool_calls': [{'function': {'arguments': '{\"query\":\"weather in Los Angeles\"}', 'name': 'tavily_search_results_json'}, 'id': 'call_BF26HpIwINcI4y5Dl5WANrPw', 'type': 'function'}]}, response_metadata={'finish_reason': 'tool_calls', 'logprobs': None, 'model_name': 'gpt-3.5-turbo', 'system_fingerprint': None, 'token_usage': {'completion_tokens': 21, 'prompt_tokens': 152, 'total_tokens': 173}}, id='run-0b31482b-86df-4fc5-8db7-6a747136fa41-0', tool_calls=[{'name': 'tavily_search_results_json', 'args': {'query': 'weather in Los Angeles'}, 'id': 'call_BF26HpIwINcI4y5Dl5WANrPw'}])]}}}, created_at='2024-08-09T11:13:25.107704+00:00', parent_config={'configurable': {'thread_id': '3', 'thread_ts': '1ef56406-50bd-6b1d-8000-6224fc5d3439'}})"
      ]
     },
     "execution_count": 31,
     "metadata": {},
     "output_type": "execute_result"
    }
   ],
   "source": [
    "to_replay"
   ]
  },
  {
   "cell_type": "code",
   "execution_count": 32,
   "id": "c4feb6cc-5129-4a99-bb45-851bc07b5709",
   "metadata": {
    "height": 31
   },
   "outputs": [],
   "source": [
    "_id = to_replay.values['messages'][-1].tool_calls[0]['id']"
   ]
  },
  {
   "cell_type": "code",
   "execution_count": 33,
   "id": "e85a02b4-96cc-4b01-8792-397a774eb499",
   "metadata": {
    "height": 99
   },
   "outputs": [],
   "source": [
    "state_update = {\"messages\": [ToolMessage(\n",
    "    tool_call_id=_id,\n",
    "    name=\"tavily_search_results_json\",\n",
    "    content=\"54 degree celcius\",\n",
    ")]}"
   ]
  },
  {
   "cell_type": "code",
   "execution_count": 34,
   "id": "ae8b86a6-5e20-4252-b1d8-009b8318345a",
   "metadata": {
    "height": 82
   },
   "outputs": [],
   "source": [
    "branch_and_add = abot.graph.update_state(\n",
    "    to_replay.config, \n",
    "    state_update, \n",
    "    as_node=\"action\")"
   ]
  },
  {
   "cell_type": "code",
   "execution_count": 35,
   "id": "af925917-b746-48c9-ac74-62fefbe5246c",
   "metadata": {
    "height": 82
   },
   "outputs": [
    {
     "name": "stdout",
     "output_type": "stream",
     "text": [
      "{'messages': [HumanMessage(content='Whats the weather in LA?', id='6d333fb3-d29f-4292-a015-35d444f0446f'), AIMessage(content='', additional_kwargs={'tool_calls': [{'function': {'arguments': '{\"query\":\"weather in Los Angeles\"}', 'name': 'tavily_search_results_json'}, 'id': 'call_BF26HpIwINcI4y5Dl5WANrPw', 'type': 'function'}]}, response_metadata={'finish_reason': 'tool_calls', 'logprobs': None, 'model_name': 'gpt-3.5-turbo', 'system_fingerprint': None, 'token_usage': {'completion_tokens': 21, 'prompt_tokens': 152, 'total_tokens': 173}}, id='run-0b31482b-86df-4fc5-8db7-6a747136fa41-0', tool_calls=[{'name': 'tavily_search_results_json', 'args': {'query': 'weather in Los Angeles'}, 'id': 'call_BF26HpIwINcI4y5Dl5WANrPw'}]), ToolMessage(content='54 degree celcius', name='tavily_search_results_json', id='b6b2f7fb-986f-4c76-aaa2-0954b72cc5f2', tool_call_id='call_BF26HpIwINcI4y5Dl5WANrPw'), AIMessage(content='The weather in Los Angeles is 54 degrees Fahrenheit.', response_metadata={'token_usage': {'completion_tokens': 12, 'prompt_tokens': 190, 'total_tokens': 202}, 'model_name': 'gpt-3.5-turbo', 'system_fingerprint': None, 'finish_reason': 'stop', 'logprobs': None}, id='run-b2459dba-3c76-4718-9a01-fb341cf9db14-0')]}\n",
      "event: {'llm': {'messages': [AIMessage(content='The weather in Los Angeles is 54 degrees Fahrenheit.', response_metadata={'token_usage': {'completion_tokens': 12, 'prompt_tokens': 190, 'total_tokens': 202}, 'model_name': 'gpt-3.5-turbo', 'system_fingerprint': None, 'finish_reason': 'stop', 'logprobs': None}, id='run-b2459dba-3c76-4718-9a01-fb341cf9db14-0')]}} \n",
      "\n",
      "event value: {'messages': [AIMessage(content='The weather in Los Angeles is 54 degrees Fahrenheit.', response_metadata={'token_usage': {'completion_tokens': 12, 'prompt_tokens': 190, 'total_tokens': 202}, 'model_name': 'gpt-3.5-turbo', 'system_fingerprint': None, 'finish_reason': 'stop', 'logprobs': None}, id='run-b2459dba-3c76-4718-9a01-fb341cf9db14-0')]} \n",
      "\n"
     ]
    }
   ],
   "source": [
    "for event in abot.graph.stream(None, branch_and_add):\n",
    "    print(f\"event: {event} \\n\")\n",
    "    for k, v in event.items():\n",
    "        print(f\"event value: {v} \\n\")"
   ]
  },
  {
   "cell_type": "markdown",
   "id": "a6b1de51-f1dd-4719-89e6-01c21d2b304e",
   "metadata": {},
   "source": [
    "# Extra Practice"
   ]
  },
  {
   "cell_type": "markdown",
   "id": "31e06033-59fd-4d6b-8891-fb8bc2d7a037",
   "metadata": {},
   "source": [
    "## Build a small graph\n",
    "This is a small simple graph you can tinker with if you want more insight into controlling state memory."
   ]
  },
  {
   "cell_type": "code",
   "execution_count": 36,
   "id": "7614683e-1c13-4518-b464-263fb91be761",
   "metadata": {
    "height": 65
   },
   "outputs": [],
   "source": [
    "from dotenv import load_dotenv\n",
    "\n",
    "_ = load_dotenv()"
   ]
  },
  {
   "cell_type": "code",
   "execution_count": 1,
   "id": "efbef86a-75fe-416f-99ab-70b181d934dc",
   "metadata": {
    "height": 82
   },
   "outputs": [],
   "source": [
    "from langgraph.graph import StateGraph, END\n",
    "from typing import TypedDict, Annotated\n",
    "import operator\n",
    "\n",
    "from langgraph.checkpoint.memory import MemorySaver\n",
    "\n",
    "#from langgraph.checkpoint.sqlite import SqliteSaver"
   ]
  },
  {
   "cell_type": "markdown",
   "id": "67c972f7-5a14-49da-9d82-37105a6637ed",
   "metadata": {},
   "source": [
    "Define a simple 2 node graph with the following state:\n",
    "-`lnode`: last node\n",
    "-`scratch`: a scratchpad location\n",
    "-`count` : a counter that is incremented each step"
   ]
  },
  {
   "cell_type": "markdown",
   "id": "ccc81782",
   "metadata": {},
   "source": [
    "### Simple Game Explained with Code\n",
    "\n",
    "Let's imagine this code as a game where a character moves between two rooms and keeps track of how many times they've moved.\n",
    "\n",
    "**Code Breakdown:**\n",
    "\n",
    "1. **Define the Game:**\n",
    "   - We have two rooms: `Node1` and `Node2`.\n",
    "   - We keep track of:\n",
    "     - The last room visited (`lnode`).\n",
    "     - A scratchpad for extra notes (`scratch`).\n",
    "     - A counter that increases every time the character moves (`count`).\n",
    "\n",
    "2. **Set Up the Rooms:**\n",
    "   - **Room 1 (`node1`):**\n",
    "     - Prints the current count.\n",
    "     - Moves to Room 2 and sets the counter to 1.\n",
    "\n",
    "   - **Room 2 (`node2`):**\n",
    "     - Prints the current count.\n",
    "     - Moves back to Room 1 and sets the counter to 1.\n",
    "\n",
    "3. **Rules for Moving:**\n",
    "   - **`should_continue(state)`:** Checks if the count is less than 3. If yes, the game continues; otherwise, it stops.\n",
    "\n",
    "4. **Build the Game:**\n",
    "   - We create a `StateGraph` to build the game.\n",
    "   - Add `Node1` and `Node2` with their respective functions (`node1` and `node2`).\n",
    "   - Connect the rooms:\n",
    "     - `Node2` goes back to `Node1`.\n",
    "     - `Node1` decides whether to move to `Node2` or stop based on the counter.\n",
    "   - Set `Node1` as the starting point.\n",
    "\n",
    "5. **Show and Run the Game:**\n",
    "   - Create a visual representation of the game graph.\n",
    "   - Start the game with the counter at 0 and the scratchpad with a note.\n"
   ]
  },
  {
   "cell_type": "code",
   "execution_count": 2,
   "id": "b846f637-5e98-4a7d-9ca0-5144302b7cef",
   "metadata": {
    "height": 82
   },
   "outputs": [],
   "source": [
    "class AgentState(TypedDict):\n",
    "    lnode: str\n",
    "    scratch: str\n",
    "    count: Annotated[int, operator.add]"
   ]
  },
  {
   "cell_type": "code",
   "execution_count": 20,
   "id": "b8bb1c6d-41b7-4f5b-807b-ecbdec82d8d6",
   "metadata": {
    "height": 184
   },
   "outputs": [],
   "source": [
    "def node1(state: AgentState):\n",
    "    print(f\"node1, count:{state['count']}\")\n",
    "    return {\"lnode\": \"node_1\",\n",
    "            \"count\": 1,\n",
    "           }\n",
    "def node2(state: AgentState):\n",
    "    print(f\"node2, count:{state['count']}\")\n",
    "    return {\"lnode\": \"node_2\",\n",
    "            \"count\": 1,\n",
    "           }"
   ]
  },
  {
   "cell_type": "markdown",
   "id": "6adc403b-10d2-4a6c-bd21-c84bb8e0c8fc",
   "metadata": {},
   "source": [
    "The graph goes N1->N2->N1... but breaks after count reaches 3."
   ]
  },
  {
   "cell_type": "code",
   "execution_count": 21,
   "id": "b2c6d249-4793-41c5-8e80-40f1eedc4baf",
   "metadata": {
    "height": 48
   },
   "outputs": [],
   "source": [
    "def should_continue(state):\n",
    "    return state[\"count\"] < 3"
   ]
  },
  {
   "cell_type": "code",
   "execution_count": 22,
   "id": "4e3721d9-4508-48fa-9be0-93af20144072",
   "metadata": {
    "height": 167
   },
   "outputs": [],
   "source": [
    "builder = StateGraph(AgentState)\n",
    "builder.add_node(\"Node1\", node1)\n",
    "builder.add_node(\"Node2\", node2)\n",
    "\n",
    "builder.add_edge(\"Node2\", \"Node1\")\n",
    "builder.add_conditional_edges(\"Node1\", \n",
    "                              should_continue, \n",
    "                              {True: \"Node2\", False: END})\n",
    "builder.set_entry_point(\"Node1\")\n",
    "\n",
    "memory = MemorySaver()\n",
    "graph = builder.compile(checkpointer=memory)"
   ]
  },
  {
   "cell_type": "code",
   "execution_count": 23,
   "id": "65bf9126",
   "metadata": {},
   "outputs": [
    {
     "data": {
      "image/png": "[encoded data removed]",
      "text/plain": [
       "<IPython.core.display.Image object>"
      ]
     },
     "execution_count": 23,
     "metadata": {},
     "output_type": "execute_result"
    }
   ],
   "source": [
    "from IPython.display import Image\n",
    "\n",
    "Image(graph.get_graph().draw_png())"
   ]
  },
  {
   "cell_type": "markdown",
   "id": "c57051f5-f7fb-4be5-a2f5-21cb1aa4fecb",
   "metadata": {},
   "source": [
    "### Run it!\n",
    "Now, set the thread and run!"
   ]
  },
  {
   "cell_type": "code",
   "execution_count": 24,
   "id": "edba3a1a-84a7-45eb-a6ee-74a612b68d54",
   "metadata": {
    "height": 48
   },
   "outputs": [
    {
     "name": "stdout",
     "output_type": "stream",
     "text": [
      "node1, count:0\n",
      "node2, count:1\n",
      "node1, count:2\n"
     ]
    },
    {
     "data": {
      "text/plain": [
       "{'lnode': 'node_1', 'scratch': 'hi', 'count': 3}"
      ]
     },
     "execution_count": 24,
     "metadata": {},
     "output_type": "execute_result"
    }
   ],
   "source": [
    "thread = {\"configurable\": {\"thread_id\": str(1)}}\n",
    "graph.invoke({\"count\":0, \"scratch\":\"hi\"},thread)"
   ]
  },
  {
   "cell_type": "markdown",
   "id": "2ce7b035-bfdb-4642-8750-47d188277423",
   "metadata": {},
   "source": [
    "### Look at current state"
   ]
  },
  {
   "cell_type": "markdown",
   "id": "43324904-a6f4-4299-86de-e0218e4cb225",
   "metadata": {},
   "source": [
    "Get the current state. Note the `values` which are the AgentState. Note the `config` and the `thread_ts`. You will be using those to refer to snapshots below."
   ]
  },
  {
   "cell_type": "code",
   "execution_count": 26,
   "id": "f2513b41-31b2-46e6-84f6-0c519f697973",
   "metadata": {
    "height": 31
   },
   "outputs": [
    {
     "data": {
      "text/plain": [
       "StateSnapshot(values={'lnode': 'node_1', 'scratch': 'hi', 'count': 3}, next=(), config={'configurable': {'thread_id': '1', 'checkpoint_ns': '', 'checkpoint_id': '1ef567f5-1b0f-6130-8003-5df4bab33a3f'}}, metadata={'source': 'loop', 'writes': {'Node1': {'lnode': 'node_1', 'count': 1}}, 'step': 3}, created_at='2024-08-09T18:43:50.316062+00:00', parent_config={'configurable': {'thread_id': '1', 'checkpoint_ns': '', 'checkpoint_id': '1ef567f5-1afb-6991-8002-0e8c8717499f'}})"
      ]
     },
     "execution_count": 26,
     "metadata": {},
     "output_type": "execute_result"
    }
   ],
   "source": [
    "graph.get_state(thread)"
   ]
  },
  {
   "cell_type": "markdown",
   "id": "7f7be4ae-24f0-4362-bd99-55ad38fe0112",
   "metadata": {},
   "source": [
    "View all the statesnapshots in memory. You can use the displayed `count` agentstate variable to help track what you see. Notice the most recent snapshots are returned by the iterator first. Also note that there is a handy `step` variable in the metadata that counts the number of steps in the graph execution. This is a bit detailed - but you can also notice that the *parent_config* is the *config* of the previous node. At initial startup, additional states are inserted into memory to create a parent. This is something to check when you branch or *time travel* below."
   ]
  },
  {
   "cell_type": "markdown",
   "id": "18647be0-c7c6-4ec5-9454-54a034fcd053",
   "metadata": {},
   "source": [
    "### Look at state history"
   ]
  },
  {
   "cell_type": "code",
   "execution_count": 27,
   "id": "686fa197-c97f-4ae6-82d2-938bbe5542c1",
   "metadata": {
    "height": 48
   },
   "outputs": [
    {
     "name": "stdout",
     "output_type": "stream",
     "text": [
      "StateSnapshot(values={'lnode': 'node_1', 'scratch': 'hi', 'count': 3}, next=(), config={'configurable': {'thread_id': '1', 'checkpoint_ns': '', 'checkpoint_id': '1ef567f5-1b0f-6130-8003-5df4bab33a3f'}}, metadata={'source': 'loop', 'writes': {'Node1': {'lnode': 'node_1', 'count': 1}}, 'step': 3}, created_at='2024-08-09T18:43:50.316062+00:00', parent_config={'configurable': {'thread_id': '1', 'checkpoint_ns': '', 'checkpoint_id': '1ef567f5-1afb-6991-8002-0e8c8717499f'}}) \n",
      "\n",
      "StateSnapshot(values={'lnode': 'node_2', 'scratch': 'hi', 'count': 2}, next=('Node1',), config={'configurable': {'thread_id': '1', 'checkpoint_ns': '', 'checkpoint_id': '1ef567f5-1afb-6991-8002-0e8c8717499f'}}, metadata={'source': 'loop', 'writes': {'Node2': {'lnode': 'node_2', 'count': 1}}, 'step': 2}, created_at='2024-08-09T18:43:50.308084+00:00', parent_config={'configurable': {'thread_id': '1', 'checkpoint_ns': '', 'checkpoint_id': '1ef567f5-1aef-6120-8001-b5cef574c7ed'}}) \n",
      "\n",
      "StateSnapshot(values={'lnode': 'node_1', 'scratch': 'hi', 'count': 1}, next=('Node2',), config={'configurable': {'thread_id': '1', 'checkpoint_ns': '', 'checkpoint_id': '1ef567f5-1aef-6120-8001-b5cef574c7ed'}}, metadata={'source': 'loop', 'writes': {'Node1': {'lnode': 'node_1', 'count': 1}}, 'step': 1}, created_at='2024-08-09T18:43:50.302953+00:00', parent_config={'configurable': {'thread_id': '1', 'checkpoint_ns': '', 'checkpoint_id': '1ef567f5-1aad-6660-8000-ad5e9b091704'}}) \n",
      "\n",
      "StateSnapshot(values={'scratch': 'hi', 'count': 0}, next=('Node1',), config={'configurable': {'thread_id': '1', 'checkpoint_ns': '', 'checkpoint_id': '1ef567f5-1aad-6660-8000-ad5e9b091704'}}, metadata={'source': 'loop', 'writes': None, 'step': 0}, created_at='2024-08-09T18:43:50.276054+00:00', parent_config={'configurable': {'thread_id': '1', 'checkpoint_ns': '', 'checkpoint_id': '1ef567f5-1a7c-6bef-bfff-259abab33c20'}}) \n",
      "\n",
      "StateSnapshot(values={'count': 0}, next=('__start__',), config={'configurable': {'thread_id': '1', 'checkpoint_ns': '', 'checkpoint_id': '1ef567f5-1a7c-6bef-bfff-259abab33c20'}}, metadata={'source': 'input', 'writes': {'count': 0, 'scratch': 'hi'}, 'step': -1}, created_at='2024-08-09T18:43:50.256126+00:00', parent_config=None) \n",
      "\n"
     ]
    }
   ],
   "source": [
    "for state in graph.get_state_history(thread):\n",
    "    print(state, \"\\n\")"
   ]
  },
  {
   "cell_type": "markdown",
   "id": "dd7850ff-0748-43d7-8956-074fa9fd819f",
   "metadata": {},
   "source": [
    "Store just the `config` into an list. Note the sequence of counts on the right. `get_state_history` returns the most recent snapshots first."
   ]
  },
  {
   "cell_type": "code",
   "execution_count": 29,
   "id": "9f68e604-4f53-46c0-8f06-e7726ec9dcf6",
   "metadata": {
    "height": 82
   },
   "outputs": [
    {
     "name": "stdout",
     "output_type": "stream",
     "text": [
      "state config: {'configurable': {'thread_id': '1', 'checkpoint_ns': '', 'checkpoint_id': '1ef567f5-1b0f-6130-8003-5df4bab33a3f'}}, state count: 3\n",
      "state config: {'configurable': {'thread_id': '1', 'checkpoint_ns': '', 'checkpoint_id': '1ef567f5-1afb-6991-8002-0e8c8717499f'}}, state count: 2\n",
      "state config: {'configurable': {'thread_id': '1', 'checkpoint_ns': '', 'checkpoint_id': '1ef567f5-1aef-6120-8001-b5cef574c7ed'}}, state count: 1\n",
      "state config: {'configurable': {'thread_id': '1', 'checkpoint_ns': '', 'checkpoint_id': '1ef567f5-1aad-6660-8000-ad5e9b091704'}}, state count: 0\n",
      "state config: {'configurable': {'thread_id': '1', 'checkpoint_ns': '', 'checkpoint_id': '1ef567f5-1a7c-6bef-bfff-259abab33c20'}}, state count: 0\n"
     ]
    }
   ],
   "source": [
    "states = []\n",
    "for state in graph.get_state_history(thread):\n",
    "    states.append(state.config)\n",
    "    print(f\"state config: {state.config}, state count: {state.values['count']}\")"
   ]
  },
  {
   "cell_type": "markdown",
   "id": "90790095-4080-4e76-b538-47caac7d9699",
   "metadata": {},
   "source": [
    "Grab an early state."
   ]
  },
  {
   "cell_type": "code",
   "execution_count": 31,
   "id": "e1db574e-f158-44cf-b921-f1f4466c314d",
   "metadata": {
    "height": 31
   },
   "outputs": [
    {
     "data": {
      "text/plain": [
       "{'configurable': {'thread_id': '1',\n",
       "  'checkpoint_ns': '',\n",
       "  'checkpoint_id': '1ef567f5-1aef-6120-8001-b5cef574c7ed'}}"
      ]
     },
     "execution_count": 31,
     "metadata": {},
     "output_type": "execute_result"
    }
   ],
   "source": [
    "states[-3]"
   ]
  },
  {
   "cell_type": "markdown",
   "id": "2cc233eb-f388-4ecd-bfb5-dac3568d37ce",
   "metadata": {},
   "source": [
    "This is the state after Node1 completed for the first time. Note `next` is `Node2`and `count` is 1."
   ]
  },
  {
   "cell_type": "code",
   "execution_count": 32,
   "id": "240f5039-7916-4c2a-88d5-d363b2898e70",
   "metadata": {
    "height": 31
   },
   "outputs": [
    {
     "data": {
      "text/plain": [
       "StateSnapshot(values={'lnode': 'node_1', 'scratch': 'hi', 'count': 1}, next=('Node2',), config={'configurable': {'thread_id': '1', 'checkpoint_ns': '', 'checkpoint_id': '1ef567f5-1aef-6120-8001-b5cef574c7ed'}}, metadata={'source': 'loop', 'writes': {'Node1': {'lnode': 'node_1', 'count': 1}}, 'step': 1}, created_at='2024-08-09T18:43:50.302953+00:00', parent_config={'configurable': {'thread_id': '1', 'checkpoint_ns': '', 'checkpoint_id': '1ef567f5-1aad-6660-8000-ad5e9b091704'}})"
      ]
     },
     "execution_count": 32,
     "metadata": {},
     "output_type": "execute_result"
    }
   ],
   "source": [
    "graph.get_state(states[-3])"
   ]
  },
  {
   "cell_type": "markdown",
   "id": "4872468e-4d23-4840-ae14-c06c1ab4f161",
   "metadata": {},
   "source": [
    "### Go Back in Time\n",
    "Use that state in `invoke` to go back in time. Notice it uses states[-3] as *current_state* and continues to node2,"
   ]
  },
  {
   "cell_type": "code",
   "execution_count": 33,
   "id": "e3049179-b901-4557-a9c4-78afb3d53d27",
   "metadata": {
    "height": 31
   },
   "outputs": [
    {
     "name": "stdout",
     "output_type": "stream",
     "text": [
      "node1, count:2\n"
     ]
    },
    {
     "data": {
      "text/plain": [
       "{'lnode': 'node_1', 'scratch': 'hi', 'count': 3}"
      ]
     },
     "execution_count": 33,
     "metadata": {},
     "output_type": "execute_result"
    }
   ],
   "source": [
    "graph.invoke(None, states[-3])"
   ]
  },
  {
   "cell_type": "markdown",
   "id": "5bf7789a-df3d-4c7e-8899-d96a99d45717",
   "metadata": {},
   "source": [
    "Notice the new states are now in state history. Notice the counts on the far right."
   ]
  },
  {
   "cell_type": "code",
   "execution_count": 34,
   "id": "37fa44ec-9bd1-484b-a415-cc5f50b6e799",
   "metadata": {
    "height": 65
   },
   "outputs": [
    {
     "name": "stdout",
     "output_type": "stream",
     "text": [
      "state config: {'configurable': {'thread_id': '1', 'checkpoint_ns': '', 'checkpoint_id': '1ef5685b-391a-6d5b-8003-faeff035c4a8'}}, state count: 3\n",
      "state config: {'configurable': {'thread_id': '1', 'checkpoint_ns': '', 'checkpoint_id': '1ef5685b-38f3-6b3f-8002-4b67296cab09'}}, state count: 2\n",
      "state config: {'configurable': {'thread_id': '1', 'checkpoint_ns': '', 'checkpoint_id': '1ef567f5-1b0f-6130-8003-5df4bab33a3f'}}, state count: 3\n",
      "state config: {'configurable': {'thread_id': '1', 'checkpoint_ns': '', 'checkpoint_id': '1ef567f5-1afb-6991-8002-0e8c8717499f'}}, state count: 2\n",
      "state config: {'configurable': {'thread_id': '1', 'checkpoint_ns': '', 'checkpoint_id': '1ef567f5-1aef-6120-8001-b5cef574c7ed'}}, state count: 1\n",
      "state config: {'configurable': {'thread_id': '1', 'checkpoint_ns': '', 'checkpoint_id': '1ef567f5-1aad-6660-8000-ad5e9b091704'}}, state count: 0\n",
      "state config: {'configurable': {'thread_id': '1', 'checkpoint_ns': '', 'checkpoint_id': '1ef567f5-1a7c-6bef-bfff-259abab33c20'}}, state count: 0\n"
     ]
    }
   ],
   "source": [
    "thread = {\"configurable\": {\"thread_id\": str(1)}}\n",
    "for state in graph.get_state_history(thread):\n",
    "    print(f\"state config: {state.config}, state count: {state.values['count']}\")"
   ]
  },
  {
   "cell_type": "markdown",
   "id": "d3c8d305-6752-4cf6-a8cb-7babf3bbd643",
   "metadata": {},
   "source": [
    "You can see the details below. Lots of text, but try to find the node that start the new branch. Notice the parent *config* is not the previous entry in the stack, but is the entry from state[-3]."
   ]
  },
  {
   "cell_type": "code",
   "execution_count": 35,
   "id": "07d25697-fcf0-4a26-9485-3e195b0af225",
   "metadata": {
    "height": 65
   },
   "outputs": [
    {
     "name": "stdout",
     "output_type": "stream",
     "text": [
      "StateSnapshot(values={'lnode': 'node_1', 'scratch': 'hi', 'count': 3}, next=(), config={'configurable': {'thread_id': '1', 'checkpoint_ns': '', 'checkpoint_id': '1ef5685b-391a-6d5b-8003-faeff035c4a8'}}, metadata={'source': 'loop', 'writes': {'Node1': {'lnode': 'node_1', 'count': 1}}, 'step': 3}, created_at='2024-08-09T19:29:31.508258+00:00', parent_config={'configurable': {'thread_id': '1', 'checkpoint_ns': '', 'checkpoint_id': '1ef5685b-38f3-6b3f-8002-4b67296cab09'}}) \n",
      "\n",
      "StateSnapshot(values={'lnode': 'node_2', 'scratch': 'hi', 'count': 2}, next=('Node1',), config={'configurable': {'thread_id': '1', 'checkpoint_ns': '', 'checkpoint_id': '1ef5685b-38f3-6b3f-8002-4b67296cab09'}}, metadata={'source': 'loop', 'writes': {'Node2': {'lnode': 'node_2', 'count': 1}}, 'step': 2}, created_at='2024-08-09T19:29:31.492230+00:00', parent_config={'configurable': {'thread_id': '1', 'checkpoint_ns': '', 'checkpoint_id': '1ef567f5-1aef-6120-8001-b5cef574c7ed'}}) \n",
      "\n",
      "StateSnapshot(values={'lnode': 'node_1', 'scratch': 'hi', 'count': 3}, next=(), config={'configurable': {'thread_id': '1', 'checkpoint_ns': '', 'checkpoint_id': '1ef567f5-1b0f-6130-8003-5df4bab33a3f'}}, metadata={'source': 'loop', 'writes': {'Node1': {'lnode': 'node_1', 'count': 1}}, 'step': 3}, created_at='2024-08-09T18:43:50.316062+00:00', parent_config={'configurable': {'thread_id': '1', 'checkpoint_ns': '', 'checkpoint_id': '1ef567f5-1afb-6991-8002-0e8c8717499f'}}) \n",
      "\n",
      "StateSnapshot(values={'lnode': 'node_2', 'scratch': 'hi', 'count': 2}, next=('Node1',), config={'configurable': {'thread_id': '1', 'checkpoint_ns': '', 'checkpoint_id': '1ef567f5-1afb-6991-8002-0e8c8717499f'}}, metadata={'source': 'loop', 'writes': {'Node2': {'lnode': 'node_2', 'count': 1}}, 'step': 2}, created_at='2024-08-09T18:43:50.308084+00:00', parent_config={'configurable': {'thread_id': '1', 'checkpoint_ns': '', 'checkpoint_id': '1ef567f5-1aef-6120-8001-b5cef574c7ed'}}) \n",
      "\n",
      "StateSnapshot(values={'lnode': 'node_1', 'scratch': 'hi', 'count': 1}, next=('Node2',), config={'configurable': {'thread_id': '1', 'checkpoint_ns': '', 'checkpoint_id': '1ef567f5-1aef-6120-8001-b5cef574c7ed'}}, metadata={'source': 'loop', 'writes': {'Node1': {'lnode': 'node_1', 'count': 1}}, 'step': 1}, created_at='2024-08-09T18:43:50.302953+00:00', parent_config={'configurable': {'thread_id': '1', 'checkpoint_ns': '', 'checkpoint_id': '1ef567f5-1aad-6660-8000-ad5e9b091704'}}) \n",
      "\n",
      "StateSnapshot(values={'scratch': 'hi', 'count': 0}, next=('Node1',), config={'configurable': {'thread_id': '1', 'checkpoint_ns': '', 'checkpoint_id': '1ef567f5-1aad-6660-8000-ad5e9b091704'}}, metadata={'source': 'loop', 'writes': None, 'step': 0}, created_at='2024-08-09T18:43:50.276054+00:00', parent_config={'configurable': {'thread_id': '1', 'checkpoint_ns': '', 'checkpoint_id': '1ef567f5-1a7c-6bef-bfff-259abab33c20'}}) \n",
      "\n",
      "StateSnapshot(values={'count': 0}, next=('__start__',), config={'configurable': {'thread_id': '1', 'checkpoint_ns': '', 'checkpoint_id': '1ef567f5-1a7c-6bef-bfff-259abab33c20'}}, metadata={'source': 'input', 'writes': {'count': 0, 'scratch': 'hi'}, 'step': -1}, created_at='2024-08-09T18:43:50.256126+00:00', parent_config=None) \n",
      "\n"
     ]
    }
   ],
   "source": [
    "thread = {\"configurable\": {\"thread_id\": str(1)}}\n",
    "for state in graph.get_state_history(thread):\n",
    "    print(state,\"\\n\")"
   ]
  },
  {
   "cell_type": "markdown",
   "id": "d4653f91-761c-4185-8ca2-83de758308c7",
   "metadata": {},
   "source": [
    "### Modify State\n",
    "Let's start by starting a fresh thread and running to clean out history."
   ]
  },
  {
   "cell_type": "code",
   "execution_count": 36,
   "id": "0eaf346c-ce22-4b6a-b18f-d200dfd991de",
   "metadata": {
    "height": 48
   },
   "outputs": [
    {
     "name": "stdout",
     "output_type": "stream",
     "text": [
      "node1, count:0\n",
      "node2, count:1\n",
      "node1, count:2\n"
     ]
    },
    {
     "data": {
      "text/plain": [
       "{'lnode': 'node_1', 'scratch': 'hi', 'count': 3}"
      ]
     },
     "execution_count": 36,
     "metadata": {},
     "output_type": "execute_result"
    }
   ],
   "source": [
    "thread2 = {\"configurable\": {\"thread_id\": str(2)}}\n",
    "graph.invoke({\"count\":0, \"scratch\":\"hi\"},thread2)"
   ]
  },
  {
   "cell_type": "code",
   "execution_count": 37,
   "id": "90fc1797-25e6-4931-b173-2e520b71c372",
   "metadata": {
    "height": 65
   },
   "outputs": [
    {
     "data": {
      "image/png": "[encoded data removed]",
      "text/plain": [
       "<IPython.core.display.Image object>"
      ]
     },
     "execution_count": 37,
     "metadata": {},
     "output_type": "execute_result"
    }
   ],
   "source": [
    "from IPython.display import Image\n",
    "\n",
    "Image(graph.get_graph().draw_png())"
   ]
  },
  {
   "cell_type": "code",
   "execution_count": 38,
   "id": "4ede9215-3133-4ad9-8dd5-6a8288ebe055",
   "metadata": {
    "height": 82
   },
   "outputs": [
    {
     "name": "stdout",
     "output_type": "stream",
     "text": [
      "{'configurable': {'thread_id': '2', 'checkpoint_ns': '', 'checkpoint_id': '1ef56872-1479-6f2a-8003-57688da64065'}} 3\n",
      "{'configurable': {'thread_id': '2', 'checkpoint_ns': '', 'checkpoint_id': '1ef56872-1467-6678-8002-6910a6d028cd'}} 2\n",
      "{'configurable': {'thread_id': '2', 'checkpoint_ns': '', 'checkpoint_id': '1ef56872-1449-656d-8001-21227efd9018'}} 1\n",
      "{'configurable': {'thread_id': '2', 'checkpoint_ns': '', 'checkpoint_id': '1ef56872-142c-65a2-8000-d6859c19556e'}} 0\n",
      "{'configurable': {'thread_id': '2', 'checkpoint_ns': '', 'checkpoint_id': '1ef56872-13ee-6817-bfff-b2bdce28b267'}} 0\n"
     ]
    }
   ],
   "source": [
    "states2 = []\n",
    "for state in graph.get_state_history(thread2):\n",
    "    states2.append(state.config)\n",
    "    print(state.config, state.values['count'])   "
   ]
  },
  {
   "cell_type": "markdown",
   "id": "23ab2c5f-cb1d-4851-8925-ce0af1f12a40",
   "metadata": {},
   "source": [
    "Start by grabbing a state."
   ]
  },
  {
   "cell_type": "code",
   "execution_count": 39,
   "id": "65313f6a-c7a9-49e3-aab2-0eb905e74a91",
   "metadata": {
    "height": 48
   },
   "outputs": [
    {
     "data": {
      "text/plain": [
       "StateSnapshot(values={'lnode': 'node_1', 'scratch': 'hi', 'count': 1}, next=('Node2',), config={'configurable': {'thread_id': '2', 'checkpoint_ns': '', 'checkpoint_id': '1ef56872-1449-656d-8001-21227efd9018'}}, metadata={'source': 'loop', 'writes': {'Node1': {'lnode': 'node_1', 'count': 1}}, 'step': 1}, created_at='2024-08-09T19:39:45.049124+00:00', parent_config={'configurable': {'thread_id': '2', 'checkpoint_ns': '', 'checkpoint_id': '1ef56872-142c-65a2-8000-d6859c19556e'}})"
      ]
     },
     "execution_count": 39,
     "metadata": {},
     "output_type": "execute_result"
    }
   ],
   "source": [
    "save_state = graph.get_state(states2[-3])\n",
    "save_state"
   ]
  },
  {
   "cell_type": "markdown",
   "id": "c81b354b-8c2d-4150-9150-ac9d8486af02",
   "metadata": {},
   "source": [
    "Now modify the values. One subtle item to note: Recall when agent state was defined, `count` used `operator.add` to indicate that values are *added* to the current value. Here, `-3` will be added to the current count value rather than replace it."
   ]
  },
  {
   "cell_type": "code",
   "execution_count": 40,
   "id": "dae6527b-912f-4f86-a07b-1fae684aaa77",
   "metadata": {
    "height": 65
   },
   "outputs": [
    {
     "data": {
      "text/plain": [
       "StateSnapshot(values={'lnode': 'node_1', 'scratch': 'hello', 'count': -3}, next=('Node2',), config={'configurable': {'thread_id': '2', 'checkpoint_ns': '', 'checkpoint_id': '1ef56872-1449-656d-8001-21227efd9018'}}, metadata={'source': 'loop', 'writes': {'Node1': {'lnode': 'node_1', 'count': 1}}, 'step': 1}, created_at='2024-08-09T19:39:45.049124+00:00', parent_config={'configurable': {'thread_id': '2', 'checkpoint_ns': '', 'checkpoint_id': '1ef56872-142c-65a2-8000-d6859c19556e'}})"
      ]
     },
     "execution_count": 40,
     "metadata": {},
     "output_type": "execute_result"
    }
   ],
   "source": [
    "save_state.values[\"count\"] = -3\n",
    "save_state.values[\"scratch\"] = \"hello\"\n",
    "save_state"
   ]
  },
  {
   "cell_type": "markdown",
   "id": "904bb1eb-2e39-472f-ae56-d8e95e2f1ab6",
   "metadata": {},
   "source": [
    "Now update the state. This creates a new entry at the *top*, or *latest* entry in memory. This will become the current state."
   ]
  },
  {
   "cell_type": "code",
   "execution_count": 41,
   "id": "bcd78670-b119-45fa-934b-2ce2d477b4c2",
   "metadata": {
    "height": 31
   },
   "outputs": [
    {
     "data": {
      "text/plain": [
       "{'configurable': {'thread_id': '2',\n",
       "  'checkpoint_ns': '',\n",
       "  'checkpoint_id': '1ef56877-2381-66c3-8004-8414a32d04b7'}}"
      ]
     },
     "execution_count": 41,
     "metadata": {},
     "output_type": "execute_result"
    }
   ],
   "source": [
    "graph.update_state(thread2,save_state.values)"
   ]
  },
  {
   "cell_type": "markdown",
   "id": "1bb3beed-1c44-4364-bde9-b29ea5e8ca30",
   "metadata": {},
   "source": [
    "Current state is at the top. You can match the `thread_ts`.\n",
    "Notice the `parent_config`, `thread_ts` of the new node - it is the previous node."
   ]
  },
  {
   "cell_type": "code",
   "execution_count": 42,
   "id": "231c7011-afe4-44bf-9e19-16220004912f",
   "metadata": {
    "height": 82
   },
   "outputs": [
    {
     "name": "stdout",
     "output_type": "stream",
     "text": [
      "StateSnapshot(values={'lnode': 'node_1', 'scratch': 'hello', 'count': 0}, next=('Node2',), config={'configurable': {'thread_id': '2', 'checkpoint_ns': '', 'checkpoint_id': '1ef56877-2381-66c3-8004-8414a32d04b7'}}, metadata={'source': 'update', 'step': 4, 'writes': {'Node1': {'lnode': 'node_1', 'scratch': 'hello', 'count': -3}}}, created_at='2024-08-09T19:42:00.862688+00:00', parent_config={'configurable': {'thread_id': '2', 'checkpoint_ns': '', 'checkpoint_id': '1ef56872-1479-6f2a-8003-57688da64065'}}) \n",
      "\n",
      "StateSnapshot(values={'lnode': 'node_1', 'scratch': 'hi', 'count': 3}, next=(), config={'configurable': {'thread_id': '2', 'checkpoint_ns': '', 'checkpoint_id': '1ef56872-1479-6f2a-8003-57688da64065'}}, metadata={'source': 'loop', 'writes': {'Node1': {'lnode': 'node_1', 'count': 1}}, 'step': 3}, created_at='2024-08-09T19:39:45.069034+00:00', parent_config={'configurable': {'thread_id': '2', 'checkpoint_ns': '', 'checkpoint_id': '1ef56872-1467-6678-8002-6910a6d028cd'}}) \n",
      "\n",
      "StateSnapshot(values={'lnode': 'node_2', 'scratch': 'hi', 'count': 2}, next=('Node1',), config={'configurable': {'thread_id': '2', 'checkpoint_ns': '', 'checkpoint_id': '1ef56872-1467-6678-8002-6910a6d028cd'}}, metadata={'source': 'loop', 'writes': {'Node2': {'lnode': 'node_2', 'count': 1}}, 'step': 2}, created_at='2024-08-09T19:39:45.061439+00:00', parent_config={'configurable': {'thread_id': '2', 'checkpoint_ns': '', 'checkpoint_id': '1ef56872-1449-656d-8001-21227efd9018'}}) \n",
      "\n"
     ]
    }
   ],
   "source": [
    "for i, state in enumerate(graph.get_state_history(thread2)):\n",
    "    if i >= 3:  #print latest 3\n",
    "        break\n",
    "    print(state, '\\n')"
   ]
  },
  {
   "cell_type": "markdown",
   "id": "62d34cd8-99b6-4224-b345-fe8475f2a602",
   "metadata": {},
   "source": [
    "### Try again with `as_node`\n",
    "When writing using `update_state()`, you want to define to the graph logic which node should be assumed as the writer. What this does is allow th graph logic to find the node on the graph. After writing the values, the `next()` value is computed by travesing the graph using the new state. In this case, the state we have was written by `Node1`. The graph can then compute the next state as being `Node2`. Note that in some graphs, this may involve going through conditional edges!  Let's try this out."
   ]
  },
  {
   "cell_type": "code",
   "execution_count": 43,
   "id": "7bfda2f6-5887-40fa-a733-a4357ad857d8",
   "metadata": {
    "height": 31
   },
   "outputs": [
    {
     "data": {
      "text/plain": [
       "{'configurable': {'thread_id': '2',\n",
       "  'checkpoint_ns': '',\n",
       "  'checkpoint_id': '1ef56882-6af4-6ad1-8005-b6156f8cc7d4'}}"
      ]
     },
     "execution_count": 43,
     "metadata": {},
     "output_type": "execute_result"
    }
   ],
   "source": [
    "graph.update_state(thread2,save_state.values, as_node=\"Node1\")"
   ]
  },
  {
   "cell_type": "code",
   "execution_count": 44,
   "id": "0788ac0f-5f64-49b2-b335-3094bbb19143",
   "metadata": {
    "height": 82
   },
   "outputs": [
    {
     "name": "stdout",
     "output_type": "stream",
     "text": [
      "StateSnapshot(values={'lnode': 'node_1', 'scratch': 'hello', 'count': -3}, next=('Node2',), config={'configurable': {'thread_id': '2', 'checkpoint_ns': '', 'checkpoint_id': '1ef56882-6af4-6ad1-8005-b6156f8cc7d4'}}, metadata={'source': 'update', 'step': 5, 'writes': {'Node1': {'lnode': 'node_1', 'scratch': 'hello', 'count': -3}}}, created_at='2024-08-09T19:47:03.633787+00:00', parent_config={'configurable': {'thread_id': '2', 'checkpoint_ns': '', 'checkpoint_id': '1ef56877-2381-66c3-8004-8414a32d04b7'}}) \n",
      "\n",
      "StateSnapshot(values={'lnode': 'node_1', 'scratch': 'hello', 'count': 0}, next=('Node2',), config={'configurable': {'thread_id': '2', 'checkpoint_ns': '', 'checkpoint_id': '1ef56877-2381-66c3-8004-8414a32d04b7'}}, metadata={'source': 'update', 'step': 4, 'writes': {'Node1': {'lnode': 'node_1', 'scratch': 'hello', 'count': -3}}}, created_at='2024-08-09T19:42:00.862688+00:00', parent_config={'configurable': {'thread_id': '2', 'checkpoint_ns': '', 'checkpoint_id': '1ef56872-1479-6f2a-8003-57688da64065'}}) \n",
      "\n",
      "StateSnapshot(values={'lnode': 'node_1', 'scratch': 'hi', 'count': 3}, next=(), config={'configurable': {'thread_id': '2', 'checkpoint_ns': '', 'checkpoint_id': '1ef56872-1479-6f2a-8003-57688da64065'}}, metadata={'source': 'loop', 'writes': {'Node1': {'lnode': 'node_1', 'count': 1}}, 'step': 3}, created_at='2024-08-09T19:39:45.069034+00:00', parent_config={'configurable': {'thread_id': '2', 'checkpoint_ns': '', 'checkpoint_id': '1ef56872-1467-6678-8002-6910a6d028cd'}}) \n",
      "\n"
     ]
    }
   ],
   "source": [
    "for i, state in enumerate(graph.get_state_history(thread2)):\n",
    "    if i >= 3:  #print latest 3\n",
    "        break\n",
    "    print(state, '\\n')"
   ]
  },
  {
   "cell_type": "markdown",
   "id": "18a8f52e-d1a6-46a0-a519-6fda0cb91624",
   "metadata": {},
   "source": [
    "`invoke` will run from the current state if not given a particular `thread_ts`. This is now the entry that was just added."
   ]
  },
  {
   "cell_type": "code",
   "execution_count": 45,
   "id": "9650d355-07c1-4a7d-a21d-4231673a7ee9",
   "metadata": {
    "height": 31
   },
   "outputs": [
    {
     "name": "stdout",
     "output_type": "stream",
     "text": [
      "node2, count:-3\n",
      "node1, count:-2\n",
      "node2, count:-1\n",
      "node1, count:0\n",
      "node2, count:1\n",
      "node1, count:2\n"
     ]
    },
    {
     "data": {
      "text/plain": [
       "{'lnode': 'node_1', 'scratch': 'hello', 'count': 3}"
      ]
     },
     "execution_count": 45,
     "metadata": {},
     "output_type": "execute_result"
    }
   ],
   "source": [
    "graph.invoke(None,thread2)"
   ]
  },
  {
   "cell_type": "markdown",
   "id": "c59d3069-8fe7-4a05-9bfd-8e3a2e4590ad",
   "metadata": {},
   "source": [
    "Print out the state history, notice the `scratch` value change on the latest entries."
   ]
  },
  {
   "cell_type": "code",
   "execution_count": 46,
   "id": "35088704-2b18-4d44-ba0e-dccbfde6ed9e",
   "metadata": {
    "height": 48
   },
   "outputs": [
    {
     "name": "stdout",
     "output_type": "stream",
     "text": [
      "StateSnapshot(values={'lnode': 'node_1', 'scratch': 'hello', 'count': 3}, next=(), config={'configurable': {'thread_id': '2', 'checkpoint_ns': '', 'checkpoint_id': '1ef5688c-5b54-6293-800b-d7bb44ac71af'}}, metadata={'source': 'loop', 'writes': {'Node1': {'lnode': 'node_1', 'count': 1}}, 'step': 11}, created_at='2024-08-09T19:51:30.430632+00:00', parent_config={'configurable': {'thread_id': '2', 'checkpoint_ns': '', 'checkpoint_id': '1ef5688c-5ac3-6a37-800a-fd2de0046716'}}) \n",
      "\n",
      "StateSnapshot(values={'lnode': 'node_2', 'scratch': 'hello', 'count': 2}, next=('Node1',), config={'configurable': {'thread_id': '2', 'checkpoint_ns': '', 'checkpoint_id': '1ef5688c-5ac3-6a37-800a-fd2de0046716'}}, metadata={'source': 'loop', 'writes': {'Node2': {'lnode': 'node_2', 'count': 1}}, 'step': 10}, created_at='2024-08-09T19:51:30.371435+00:00', parent_config={'configurable': {'thread_id': '2', 'checkpoint_ns': '', 'checkpoint_id': '1ef5688c-5a38-6d6f-8009-c2f6e20b6275'}}) \n",
      "\n",
      "StateSnapshot(values={'lnode': 'node_1', 'scratch': 'hello', 'count': 1}, next=('Node2',), config={'configurable': {'thread_id': '2', 'checkpoint_ns': '', 'checkpoint_id': '1ef5688c-5a38-6d6f-8009-c2f6e20b6275'}}, metadata={'source': 'loop', 'writes': {'Node1': {'lnode': 'node_1', 'count': 1}}, 'step': 9}, created_at='2024-08-09T19:51:30.314583+00:00', parent_config={'configurable': {'thread_id': '2', 'checkpoint_ns': '', 'checkpoint_id': '1ef5688c-5a0c-6c5a-8008-0c973e0cc5c4'}}) \n",
      "\n",
      "StateSnapshot(values={'lnode': 'node_2', 'scratch': 'hello', 'count': 0}, next=('Node1',), config={'configurable': {'thread_id': '2', 'checkpoint_ns': '', 'checkpoint_id': '1ef5688c-5a0c-6c5a-8008-0c973e0cc5c4'}}, metadata={'source': 'loop', 'writes': {'Node2': {'lnode': 'node_2', 'count': 1}}, 'step': 8}, created_at='2024-08-09T19:51:30.296533+00:00', parent_config={'configurable': {'thread_id': '2', 'checkpoint_ns': '', 'checkpoint_id': '1ef5688c-59fc-6b19-8007-74ef8a175690'}}) \n",
      "\n",
      "StateSnapshot(values={'lnode': 'node_1', 'scratch': 'hello', 'count': -1}, next=('Node2',), config={'configurable': {'thread_id': '2', 'checkpoint_ns': '', 'checkpoint_id': '1ef5688c-59fc-6b19-8007-74ef8a175690'}}, metadata={'source': 'loop', 'writes': {'Node1': {'lnode': 'node_1', 'count': 1}}, 'step': 7}, created_at='2024-08-09T19:51:30.289948+00:00', parent_config={'configurable': {'thread_id': '2', 'checkpoint_ns': '', 'checkpoint_id': '1ef5688c-59de-6205-8006-d196c324798d'}}) \n",
      "\n",
      "StateSnapshot(values={'lnode': 'node_2', 'scratch': 'hello', 'count': -2}, next=('Node1',), config={'configurable': {'thread_id': '2', 'checkpoint_ns': '', 'checkpoint_id': '1ef5688c-59de-6205-8006-d196c324798d'}}, metadata={'source': 'loop', 'writes': {'Node2': {'lnode': 'node_2', 'count': 1}}, 'step': 6}, created_at='2024-08-09T19:51:30.276429+00:00', parent_config={'configurable': {'thread_id': '2', 'checkpoint_ns': '', 'checkpoint_id': '1ef56882-6af4-6ad1-8005-b6156f8cc7d4'}}) \n",
      "\n",
      "StateSnapshot(values={'lnode': 'node_1', 'scratch': 'hello', 'count': -3}, next=('Node2',), config={'configurable': {'thread_id': '2', 'checkpoint_ns': '', 'checkpoint_id': '1ef56882-6af4-6ad1-8005-b6156f8cc7d4'}}, metadata={'source': 'update', 'step': 5, 'writes': {'Node1': {'lnode': 'node_1', 'scratch': 'hello', 'count': -3}}}, created_at='2024-08-09T19:47:03.633787+00:00', parent_config={'configurable': {'thread_id': '2', 'checkpoint_ns': '', 'checkpoint_id': '1ef56877-2381-66c3-8004-8414a32d04b7'}}) \n",
      "\n",
      "StateSnapshot(values={'lnode': 'node_1', 'scratch': 'hello', 'count': 0}, next=('Node2',), config={'configurable': {'thread_id': '2', 'checkpoint_ns': '', 'checkpoint_id': '1ef56877-2381-66c3-8004-8414a32d04b7'}}, metadata={'source': 'update', 'step': 4, 'writes': {'Node1': {'lnode': 'node_1', 'scratch': 'hello', 'count': -3}}}, created_at='2024-08-09T19:42:00.862688+00:00', parent_config={'configurable': {'thread_id': '2', 'checkpoint_ns': '', 'checkpoint_id': '1ef56872-1479-6f2a-8003-57688da64065'}}) \n",
      "\n",
      "StateSnapshot(values={'lnode': 'node_1', 'scratch': 'hi', 'count': 3}, next=(), config={'configurable': {'thread_id': '2', 'checkpoint_ns': '', 'checkpoint_id': '1ef56872-1479-6f2a-8003-57688da64065'}}, metadata={'source': 'loop', 'writes': {'Node1': {'lnode': 'node_1', 'count': 1}}, 'step': 3}, created_at='2024-08-09T19:39:45.069034+00:00', parent_config={'configurable': {'thread_id': '2', 'checkpoint_ns': '', 'checkpoint_id': '1ef56872-1467-6678-8002-6910a6d028cd'}}) \n",
      "\n",
      "StateSnapshot(values={'lnode': 'node_2', 'scratch': 'hi', 'count': 2}, next=('Node1',), config={'configurable': {'thread_id': '2', 'checkpoint_ns': '', 'checkpoint_id': '1ef56872-1467-6678-8002-6910a6d028cd'}}, metadata={'source': 'loop', 'writes': {'Node2': {'lnode': 'node_2', 'count': 1}}, 'step': 2}, created_at='2024-08-09T19:39:45.061439+00:00', parent_config={'configurable': {'thread_id': '2', 'checkpoint_ns': '', 'checkpoint_id': '1ef56872-1449-656d-8001-21227efd9018'}}) \n",
      "\n",
      "StateSnapshot(values={'lnode': 'node_1', 'scratch': 'hi', 'count': 1}, next=('Node2',), config={'configurable': {'thread_id': '2', 'checkpoint_ns': '', 'checkpoint_id': '1ef56872-1449-656d-8001-21227efd9018'}}, metadata={'source': 'loop', 'writes': {'Node1': {'lnode': 'node_1', 'count': 1}}, 'step': 1}, created_at='2024-08-09T19:39:45.049124+00:00', parent_config={'configurable': {'thread_id': '2', 'checkpoint_ns': '', 'checkpoint_id': '1ef56872-142c-65a2-8000-d6859c19556e'}}) \n",
      "\n",
      "StateSnapshot(values={'scratch': 'hi', 'count': 0}, next=('Node1',), config={'configurable': {'thread_id': '2', 'checkpoint_ns': '', 'checkpoint_id': '1ef56872-142c-65a2-8000-d6859c19556e'}}, metadata={'source': 'loop', 'writes': None, 'step': 0}, created_at='2024-08-09T19:39:45.037251+00:00', parent_config={'configurable': {'thread_id': '2', 'checkpoint_ns': '', 'checkpoint_id': '1ef56872-13ee-6817-bfff-b2bdce28b267'}}) \n",
      "\n",
      "StateSnapshot(values={'count': 0}, next=('__start__',), config={'configurable': {'thread_id': '2', 'checkpoint_ns': '', 'checkpoint_id': '1ef56872-13ee-6817-bfff-b2bdce28b267'}}, metadata={'source': 'input', 'writes': {'count': 0, 'scratch': 'hi'}, 'step': -1}, created_at='2024-08-09T19:39:45.011919+00:00', parent_config=None) \n",
      "\n"
     ]
    }
   ],
   "source": [
    "for state in graph.get_state_history(thread2):\n",
    "    print(state,\"\\n\")"
   ]
  },
  {
   "cell_type": "markdown",
   "id": "a5ea1bba-cf12-4493-948b-08b300054742",
   "metadata": {},
   "source": [
    "Continue to experiment!"
   ]
  },
  {
   "cell_type": "code",
   "execution_count": null,
   "id": "393f7f1f-68b4-4462-bfa5-b6472ef1304a",
   "metadata": {
    "height": 31
   },
   "outputs": [],
   "source": []
  },
  {
   "cell_type": "code",
   "execution_count": null,
   "id": "43ac0aa9-baa7-4b58-889d-2118cc00c6b5",
   "metadata": {
    "height": 31
   },
   "outputs": [],
   "source": []
  },
  {
   "cell_type": "code",
   "execution_count": null,
   "id": "ed6098b9-e2a9-4767-8cb5-346db835c8d2",
   "metadata": {
    "height": 31
   },
   "outputs": [],
   "source": []
  },
  {
   "cell_type": "code",
   "execution_count": null,
   "id": "2d23cf2a-a179-44dc-9ae3-2eddda4b67b4",
   "metadata": {
    "height": 31
   },
   "outputs": [],
   "source": []
  },
  {
   "cell_type": "code",
   "execution_count": null,
   "id": "14a6005b-0221-4f5e-9be0-0580c1d03126",
   "metadata": {
    "height": 31
   },
   "outputs": [],
   "source": []
  },
  {
   "cell_type": "code",
   "execution_count": null,
   "id": "41c1ec12-f1c8-41ae-bb3e-5f28997b9b99",
   "metadata": {
    "height": 31
   },
   "outputs": [],
   "source": []
  },
  {
   "cell_type": "code",
   "execution_count": null,
   "id": "5c8c07d7-be17-4c17-82c5-6fe1db028b8b",
   "metadata": {
    "height": 31
   },
   "outputs": [],
   "source": []
  },
  {
   "cell_type": "code",
   "execution_count": null,
   "id": "04592c8e-1cfe-4b26-93b5-caf1ed1e7d24",
   "metadata": {
    "height": 31
   },
   "outputs": [],
   "source": []
  },
  {
   "cell_type": "code",
   "execution_count": null,
   "id": "6181c4a9-0e71-4f67-b71f-18a225e37202",
   "metadata": {
    "height": 31
   },
   "outputs": [],
   "source": []
  },
  {
   "cell_type": "code",
   "execution_count": null,
   "id": "e1c478a9-7bfe-49e2-8a7d-1536271f45a6",
   "metadata": {
    "height": 31
   },
   "outputs": [],
   "source": []
  },
  {
   "cell_type": "code",
   "execution_count": null,
   "id": "0a6d6771-3fad-4f37-9b32-45b36ad85c59",
   "metadata": {
    "height": 31
   },
   "outputs": [],
   "source": []
  },
  {
   "cell_type": "code",
   "execution_count": null,
   "id": "a3629eb3-655d-467a-b413-63f547c2de08",
   "metadata": {
    "height": 31
   },
   "outputs": [],
   "source": []
  },
  {
   "cell_type": "code",
   "execution_count": null,
   "id": "f772f251-2b61-4d10-97c5-61cef9207a76",
   "metadata": {
    "height": 31
   },
   "outputs": [],
   "source": []
  },
  {
   "cell_type": "code",
   "execution_count": null,
   "id": "0de92979-7ac5-4a7c-91c1-10806b7d529c",
   "metadata": {
    "height": 31
   },
   "outputs": [],
   "source": []
  },
  {
   "cell_type": "code",
   "execution_count": null,
   "id": "479c4325-f625-4bbf-9d74-cc58f10763f2",
   "metadata": {
    "height": 31
   },
   "outputs": [],
   "source": []
  },
  {
   "cell_type": "code",
   "execution_count": null,
   "id": "c4070be7-72da-42f9-a25d-8a6c628788b8",
   "metadata": {
    "height": 31
   },
   "outputs": [],
   "source": []
  },
  {
   "cell_type": "code",
   "execution_count": null,
   "id": "9289efbe-7033-4f32-8482-2039c5f9db90",
   "metadata": {
    "height": 31
   },
   "outputs": [],
   "source": []
  },
  {
   "cell_type": "code",
   "execution_count": null,
   "id": "25e480bb-22ab-4acb-a42c-71da3d04a5b1",
   "metadata": {
    "height": 31
   },
   "outputs": [],
   "source": []
  },
  {
   "cell_type": "code",
   "execution_count": null,
   "id": "90dea35c-7483-4b3d-b5e3-76eb3a0fe536",
   "metadata": {
    "height": 31
   },
   "outputs": [],
   "source": []
  },
  {
   "cell_type": "code",
   "execution_count": null,
   "id": "e9ac5730-a9d5-4ea4-8546-ebcb265cf1da",
   "metadata": {
    "height": 31
   },
   "outputs": [],
   "source": []
  },
  {
   "cell_type": "code",
   "execution_count": null,
   "id": "96e1f28b-46d8-4bcd-b2e4-730376ee7ccf",
   "metadata": {
    "height": 31
   },
   "outputs": [],
   "source": []
  },
  {
   "cell_type": "code",
   "execution_count": null,
   "id": "22ac7020-b4f4-4bd2-a875-ccee93f83d83",
   "metadata": {
    "height": 31
   },
   "outputs": [],
   "source": []
  },
  {
   "cell_type": "code",
   "execution_count": null,
   "id": "61f79eb9-d1c9-44b0-9efd-a8f9b380332a",
   "metadata": {
    "height": 31
   },
   "outputs": [],
   "source": []
  },
  {
   "cell_type": "code",
   "execution_count": null,
   "id": "ce509206-bde1-43e4-a88f-8a565539d357",
   "metadata": {
    "height": 31
   },
   "outputs": [],
   "source": []
  },
  {
   "cell_type": "code",
   "execution_count": null,
   "id": "bdba1590-9e7b-4c0f-9492-81a07d286c55",
   "metadata": {
    "height": 31
   },
   "outputs": [],
   "source": []
  },
  {
   "cell_type": "code",
   "execution_count": null,
   "id": "aa8fe4a8-5372-479d-b248-af7a295c86c1",
   "metadata": {
    "height": 31
   },
   "outputs": [],
   "source": []
  },
  {
   "cell_type": "code",
   "execution_count": null,
   "id": "7514720a-14bc-4552-ade5-fa03f86f4c73",
   "metadata": {
    "height": 31
   },
   "outputs": [],
   "source": []
  }
 ],
 "metadata": {
  "kernelspec": {
   "display_name": "Python 3 (ipykernel)",
   "language": "python",
   "name": "python3"
  },
  "language_info": {
   "codemirror_mode": {
    "name": "ipython",
    "version": 3
   },
   "file_extension": ".py",
   "mimetype": "text/x-python",
   "name": "python",
   "nbconvert_exporter": "python",
   "pygments_lexer": "ipython3",
   "version": "3.12.3"
  }
 },
 "nbformat": 4,
 "nbformat_minor": 5
}
