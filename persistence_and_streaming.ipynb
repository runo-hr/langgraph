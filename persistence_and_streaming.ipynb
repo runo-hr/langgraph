{
 "cells": [
  {
   "cell_type": "markdown",
   "id": "b5789bc3-b1ae-42c7-94a8-2ef4f89946fc",
   "metadata": {},
   "source": [
    "# Lesson 4: Persistence and Streaming"
   ]
  },
  {
   "cell_type": "code",
   "execution_count": 1,
   "id": "f5762271-8736-4e94-9444-8c92bd0e8074",
   "metadata": {
    "height": 64
   },
   "outputs": [],
   "source": [
    "from dotenv import load_dotenv\n",
    "\n",
    "_ = load_dotenv()"
   ]
  },
  {
   "cell_type": "code",
   "execution_count": 2,
   "id": "d0168aee-bce9-4d60-b827-f86a88187e31",
   "metadata": {
    "height": 115
   },
   "outputs": [],
   "source": [
    "from langgraph.graph import StateGraph, END\n",
    "from typing import TypedDict, Annotated\n",
    "import operator\n",
    "from langchain_core.messages import AnyMessage, SystemMessage, HumanMessage, ToolMessage\n",
    "from langchain_openai import ChatOpenAI\n",
    "from langchain_community.tools.tavily_search import TavilySearchResults"
   ]
  },
  {
   "cell_type": "code",
   "execution_count": 3,
   "id": "da06a64f-a2d5-4a66-8090-9ada0930c684",
   "metadata": {
    "height": 30
   },
   "outputs": [],
   "source": [
    "tool = TavilySearchResults(max_results=2)"
   ]
  },
  {
   "cell_type": "markdown",
   "id": "cc64804c",
   "metadata": {},
   "source": [
    "![breakdown](\\images\\graphs.png)"
   ]
  },
  {
   "cell_type": "code",
   "execution_count": 4,
   "id": "2589c5b6-6cc2-4594-9a17-dccdcf676054",
   "metadata": {
    "height": 47
   },
   "outputs": [],
   "source": [
    "class AgentState(TypedDict):\n",
    "    \"\"\"\n",
    "    AgentState is a specialized dictionary that stores the state of the agent.\n",
    "    \n",
    "    Attributes:\n",
    "        messages: A list of AnyMessage objects. This list is annotated with\n",
    "                  operator.add to ensure that new messages are appended to\n",
    "                  the existing list rather than replacing it.\n",
    "    \"\"\"\n",
    "    messages: Annotated[list[AnyMessage], operator.add]"
   ]
  },
  {
   "cell_type": "code",
   "execution_count": 5,
   "id": "9c033522-d2fc-41ac-8e3c-5e35872bf88d",
   "metadata": {
    "height": 64
   },
   "outputs": [],
   "source": [
    "from langgraph.checkpoint.sqlite import SqliteSaver\n",
    "\n",
    "memory = SqliteSaver.from_conn_string(\":memory:\")"
   ]
  },
  {
   "cell_type": "code",
   "execution_count": 6,
   "id": "a2ba84ec-c172-4de7-ac55-e3158a531b23",
   "metadata": {
    "height": 574
   },
   "outputs": [],
   "source": [
    "class Agent:\n",
    "    \"\"\"\n",
    "    The Agent class manages the interaction between a language model and various tools\n",
    "    within a state machine framework. It is responsible for maintaining the state of\n",
    "    messages, invoking the language model, and executing tool actions as required.\n",
    "\n",
    "    Attributes:\n",
    "        system (str): An optional system prompt to initialize the conversation.\n",
    "        graph (StateGraph): The state machine that manages the flow of messages and actions.\n",
    "        tools (dict): A dictionary of tools available to the agent, keyed by their names.\n",
    "        model (ChatOpenAI): The language model instance that the agent uses for generating responses.\n",
    "\n",
    "    Methods:\n",
    "        exists_action(state: AgentState) -> bool:\n",
    "            Checks if there are any tool calls in the latest message in the state.\n",
    "\n",
    "        call_openai(state: AgentState) -> dict:\n",
    "            Invokes the language model with the current list of messages, optionally\n",
    "            prepending a system message if provided.\n",
    "\n",
    "        take_action(state: AgentState) -> dict:\n",
    "            Executes the tool calls specified in the latest message, and returns the results\n",
    "            as new messages.\n",
    "    \"\"\"\n",
    "\n",
    "    def __init__(self, model, tools, checkpointer, system=\"\"):\n",
    "        self.system = system\n",
    "        graph = StateGraph(AgentState)\n",
    "        graph.add_node(\"llm\", self.call_openai)\n",
    "        graph.add_node(\"action\", self.take_action)\n",
    "        graph.add_conditional_edges(\"llm\", self.exists_action, {True: \"action\", False: END})\n",
    "        graph.add_edge(\"action\", \"llm\")\n",
    "        graph.set_entry_point(\"llm\")\n",
    "        self.graph = graph.compile(checkpointer=checkpointer)\n",
    "        self.tools = {t.name: t for t in tools}\n",
    "        self.model = model.bind_tools(tools)\n",
    "\n",
    "    def call_openai(self, state: AgentState):\n",
    "        messages = state['messages']\n",
    "        if self.system:\n",
    "            messages = [SystemMessage(content=self.system)] + messages\n",
    "        message = self.model.invoke(messages)\n",
    "        return {'messages': [message]}\n",
    "\n",
    "    def exists_action(self, state: AgentState):\n",
    "        result = state['messages'][-1]\n",
    "        return len(result.tool_calls) > 0\n",
    "\n",
    "    def take_action(self, state: AgentState):\n",
    "        tool_calls = state['messages'][-1].tool_calls\n",
    "        results = []\n",
    "        print(f\"number of tool calls: {len(tool_calls)} \\n\")\n",
    "        \n",
    "        print(f\"tool calls: {tool_calls} \\n\")\n",
    "        for t in tool_calls:\n",
    "            print(f\"Calling: {t} \\n\")\n",
    "            if not t['name'] in self.tools:      # check for bad tool name from LLM\n",
    "                print(\"\\n ....bad tool name....\")\n",
    "                result = \"bad tool name, retry\"  # instruct LLM to retry if bad\n",
    "            else:\n",
    "                result = self.tools[t['name']].invoke(t['args'])\n",
    "                print(f\"result: {result} \\n\")\n",
    "            results.append(ToolMessage(tool_call_id=t['id'], name=t['name'], content=str(result)))\n",
    "        \n",
    "        print(f\"all results: {results} \\n\")\n",
    "        print(\"Back to the model! \\n\")\n",
    "        return {'messages': results}"
   ]
  },
  {
   "cell_type": "code",
   "execution_count": 7,
   "id": "876d5092-b8ef-4e38-b4d7-0e80c609bf7a",
   "metadata": {
    "height": 132
   },
   "outputs": [],
   "source": [
    "prompt = \"\"\"You are a smart research assistant. Use the search engine to look up information. \\\n",
    "You are allowed to make multiple calls (either together or in sequence). \\\n",
    "Only look up information when you are sure of what you want. \\\n",
    "If you need to look up some information before asking a follow up question, you are allowed to do that!\n",
    "\"\"\"\n",
    "model = ChatOpenAI(model=\"gpt-4o\")\n",
    "abot = Agent(model, [tool], system=prompt, checkpointer=memory)"
   ]
  },
  {
   "cell_type": "code",
   "execution_count": 8,
   "id": "10084a02-2928-4945-9f7c-ad3f5b33caf7",
   "metadata": {
    "height": 30
   },
   "outputs": [],
   "source": [
    "messages = [HumanMessage(content=\"What is the weather in sf?\")]"
   ]
  },
  {
   "cell_type": "code",
   "execution_count": 9,
   "id": "714d1205-f8fc-4912-b148-2a45da99219c",
   "metadata": {
    "height": 30
   },
   "outputs": [],
   "source": [
    "thread = {\"configurable\": {\"thread_id\": \"1\"}}"
   ]
  },
  {
   "cell_type": "code",
   "execution_count": 10,
   "id": "83588e70-254f-4f83-a510-c8ae81e729b0",
   "metadata": {
    "height": 64
   },
   "outputs": [
    {
     "name": "stdout",
     "output_type": "stream",
     "text": [
      "event: {'llm': {'messages': [AIMessage(content='', additional_kwargs={'tool_calls': [{'id': 'call_WwXejdcRhhG11vqH0Jp67r9i', 'function': {'arguments': '{\"query\":\"current weather in San Francisco\"}', 'name': 'tavily_search_results_json'}, 'type': 'function'}]}, response_metadata={'token_usage': {'completion_tokens': 22, 'prompt_tokens': 151, 'total_tokens': 173}, 'model_name': 'gpt-4o', 'system_fingerprint': 'fp_3aa7262c27', 'finish_reason': 'tool_calls', 'logprobs': None}, id='run-37395d61-3018-496d-ba85-ee65b88f555b-0', tool_calls=[{'name': 'tavily_search_results_json', 'args': {'query': 'current weather in San Francisco'}, 'id': 'call_WwXejdcRhhG11vqH0Jp67r9i'}])]}} \n",
      "\n",
      "event value: {'messages': [AIMessage(content='', additional_kwargs={'tool_calls': [{'id': 'call_WwXejdcRhhG11vqH0Jp67r9i', 'function': {'arguments': '{\"query\":\"current weather in San Francisco\"}', 'name': 'tavily_search_results_json'}, 'type': 'function'}]}, response_metadata={'token_usage': {'completion_tokens': 22, 'prompt_tokens': 151, 'total_tokens': 173}, 'model_name': 'gpt-4o', 'system_fingerprint': 'fp_3aa7262c27', 'finish_reason': 'tool_calls', 'logprobs': None}, id='run-37395d61-3018-496d-ba85-ee65b88f555b-0', tool_calls=[{'name': 'tavily_search_results_json', 'args': {'query': 'current weather in San Francisco'}, 'id': 'call_WwXejdcRhhG11vqH0Jp67r9i'}])]} \n",
      "\n",
      "event value messages: [AIMessage(content='', additional_kwargs={'tool_calls': [{'id': 'call_WwXejdcRhhG11vqH0Jp67r9i', 'function': {'arguments': '{\"query\":\"current weather in San Francisco\"}', 'name': 'tavily_search_results_json'}, 'type': 'function'}]}, response_metadata={'token_usage': {'completion_tokens': 22, 'prompt_tokens': 151, 'total_tokens': 173}, 'model_name': 'gpt-4o', 'system_fingerprint': 'fp_3aa7262c27', 'finish_reason': 'tool_calls', 'logprobs': None}, id='run-37395d61-3018-496d-ba85-ee65b88f555b-0', tool_calls=[{'name': 'tavily_search_results_json', 'args': {'query': 'current weather in San Francisco'}, 'id': 'call_WwXejdcRhhG11vqH0Jp67r9i'}])] \n",
      "\n",
      "number of tool calls: 1 \n",
      "\n",
      "tool calls: [{'name': 'tavily_search_results_json', 'args': {'query': 'current weather in San Francisco'}, 'id': 'call_WwXejdcRhhG11vqH0Jp67r9i'}] \n",
      "\n",
      "Calling: {'name': 'tavily_search_results_json', 'args': {'query': 'current weather in San Francisco'}, 'id': 'call_WwXejdcRhhG11vqH0Jp67r9i'} \n",
      "\n",
      "result: [{'url': 'https://www.weatherapi.com/', 'content': \"{'location': {'name': 'San Francisco', 'region': 'California', 'country': 'United States of America', 'lat': 37.78, 'lon': -122.42, 'tz_id': 'America/Los_Angeles', 'localtime_epoch': 1722943049, 'localtime': '2024-08-06 04:17'}, 'current': {'last_updated_epoch': 1722942900, 'last_updated': '2024-08-06 04:15', 'temp_c': 12.6, 'temp_f': 54.8, 'is_day': 0, 'condition': {'text': 'Partly Cloudy', 'icon': '//cdn.weatherapi.com/weather/64x64/night/116.png', 'code': 1003}, 'wind_mph': 5.1, 'wind_kph': 8.3, 'wind_degree': 222, 'wind_dir': 'SW', 'pressure_mb': 1015.0, 'pressure_in': 29.96, 'precip_mm': 0.0, 'precip_in': 0.0, 'humidity': 91, 'cloud': 37, 'feelslike_c': 12.1, 'feelslike_f': 53.7, 'windchill_c': 12.1, 'windchill_f': 53.7, 'heatindex_c': 12.6, 'heatindex_f': 54.8, 'dewpoint_c': 11.3, 'dewpoint_f': 52.3, 'vis_km': 10.0, 'vis_miles': 6.0, 'uv': 1.0, 'gust_mph': 8.3, 'gust_kph': 13.4}}\"}, {'url': 'https://www.wunderground.com/hourly/us/ca/san-francisco/date/2024-6-30', 'content': 'Current Weather for Popular Cities . San Francisco, CA 58 ° F Fair; Manhattan, NY warning 73 ° F Clear; Schiller Park, IL (60176) warning 76 ° F Mostly Cloudy; Boston, MA 65 ° F Cloudy ...'}] \n",
      "\n",
      "all results: [ToolMessage(content='[{\\'url\\': \\'https://www.weatherapi.com/\\', \\'content\\': \"{\\'location\\': {\\'name\\': \\'San Francisco\\', \\'region\\': \\'California\\', \\'country\\': \\'United States of America\\', \\'lat\\': 37.78, \\'lon\\': -122.42, \\'tz_id\\': \\'America/Los_Angeles\\', \\'localtime_epoch\\': 1722943049, \\'localtime\\': \\'2024-08-06 04:17\\'}, \\'current\\': {\\'last_updated_epoch\\': 1722942900, \\'last_updated\\': \\'2024-08-06 04:15\\', \\'temp_c\\': 12.6, \\'temp_f\\': 54.8, \\'is_day\\': 0, \\'condition\\': {\\'text\\': \\'Partly Cloudy\\', \\'icon\\': \\'//cdn.weatherapi.com/weather/64x64/night/116.png\\', \\'code\\': 1003}, \\'wind_mph\\': 5.1, \\'wind_kph\\': 8.3, \\'wind_degree\\': 222, \\'wind_dir\\': \\'SW\\', \\'pressure_mb\\': 1015.0, \\'pressure_in\\': 29.96, \\'precip_mm\\': 0.0, \\'precip_in\\': 0.0, \\'humidity\\': 91, \\'cloud\\': 37, \\'feelslike_c\\': 12.1, \\'feelslike_f\\': 53.7, \\'windchill_c\\': 12.1, \\'windchill_f\\': 53.7, \\'heatindex_c\\': 12.6, \\'heatindex_f\\': 54.8, \\'dewpoint_c\\': 11.3, \\'dewpoint_f\\': 52.3, \\'vis_km\\': 10.0, \\'vis_miles\\': 6.0, \\'uv\\': 1.0, \\'gust_mph\\': 8.3, \\'gust_kph\\': 13.4}}\"}, {\\'url\\': \\'https://www.wunderground.com/hourly/us/ca/san-francisco/date/2024-6-30\\', \\'content\\': \\'Current Weather for Popular Cities . San Francisco, CA 58 ° F Fair; Manhattan, NY warning 73 ° F Clear; Schiller Park, IL (60176) warning 76 ° F Mostly Cloudy; Boston, MA 65 ° F Cloudy ...\\'}]', name='tavily_search_results_json', tool_call_id='call_WwXejdcRhhG11vqH0Jp67r9i')] \n",
      "\n",
      "Back to the model! \n",
      "\n",
      "event: {'action': {'messages': [ToolMessage(content='[{\\'url\\': \\'https://www.weatherapi.com/\\', \\'content\\': \"{\\'location\\': {\\'name\\': \\'San Francisco\\', \\'region\\': \\'California\\', \\'country\\': \\'United States of America\\', \\'lat\\': 37.78, \\'lon\\': -122.42, \\'tz_id\\': \\'America/Los_Angeles\\', \\'localtime_epoch\\': 1722943049, \\'localtime\\': \\'2024-08-06 04:17\\'}, \\'current\\': {\\'last_updated_epoch\\': 1722942900, \\'last_updated\\': \\'2024-08-06 04:15\\', \\'temp_c\\': 12.6, \\'temp_f\\': 54.8, \\'is_day\\': 0, \\'condition\\': {\\'text\\': \\'Partly Cloudy\\', \\'icon\\': \\'//cdn.weatherapi.com/weather/64x64/night/116.png\\', \\'code\\': 1003}, \\'wind_mph\\': 5.1, \\'wind_kph\\': 8.3, \\'wind_degree\\': 222, \\'wind_dir\\': \\'SW\\', \\'pressure_mb\\': 1015.0, \\'pressure_in\\': 29.96, \\'precip_mm\\': 0.0, \\'precip_in\\': 0.0, \\'humidity\\': 91, \\'cloud\\': 37, \\'feelslike_c\\': 12.1, \\'feelslike_f\\': 53.7, \\'windchill_c\\': 12.1, \\'windchill_f\\': 53.7, \\'heatindex_c\\': 12.6, \\'heatindex_f\\': 54.8, \\'dewpoint_c\\': 11.3, \\'dewpoint_f\\': 52.3, \\'vis_km\\': 10.0, \\'vis_miles\\': 6.0, \\'uv\\': 1.0, \\'gust_mph\\': 8.3, \\'gust_kph\\': 13.4}}\"}, {\\'url\\': \\'https://www.wunderground.com/hourly/us/ca/san-francisco/date/2024-6-30\\', \\'content\\': \\'Current Weather for Popular Cities . San Francisco, CA 58 ° F Fair; Manhattan, NY warning 73 ° F Clear; Schiller Park, IL (60176) warning 76 ° F Mostly Cloudy; Boston, MA 65 ° F Cloudy ...\\'}]', name='tavily_search_results_json', tool_call_id='call_WwXejdcRhhG11vqH0Jp67r9i')]}} \n",
      "\n",
      "event value: {'messages': [ToolMessage(content='[{\\'url\\': \\'https://www.weatherapi.com/\\', \\'content\\': \"{\\'location\\': {\\'name\\': \\'San Francisco\\', \\'region\\': \\'California\\', \\'country\\': \\'United States of America\\', \\'lat\\': 37.78, \\'lon\\': -122.42, \\'tz_id\\': \\'America/Los_Angeles\\', \\'localtime_epoch\\': 1722943049, \\'localtime\\': \\'2024-08-06 04:17\\'}, \\'current\\': {\\'last_updated_epoch\\': 1722942900, \\'last_updated\\': \\'2024-08-06 04:15\\', \\'temp_c\\': 12.6, \\'temp_f\\': 54.8, \\'is_day\\': 0, \\'condition\\': {\\'text\\': \\'Partly Cloudy\\', \\'icon\\': \\'//cdn.weatherapi.com/weather/64x64/night/116.png\\', \\'code\\': 1003}, \\'wind_mph\\': 5.1, \\'wind_kph\\': 8.3, \\'wind_degree\\': 222, \\'wind_dir\\': \\'SW\\', \\'pressure_mb\\': 1015.0, \\'pressure_in\\': 29.96, \\'precip_mm\\': 0.0, \\'precip_in\\': 0.0, \\'humidity\\': 91, \\'cloud\\': 37, \\'feelslike_c\\': 12.1, \\'feelslike_f\\': 53.7, \\'windchill_c\\': 12.1, \\'windchill_f\\': 53.7, \\'heatindex_c\\': 12.6, \\'heatindex_f\\': 54.8, \\'dewpoint_c\\': 11.3, \\'dewpoint_f\\': 52.3, \\'vis_km\\': 10.0, \\'vis_miles\\': 6.0, \\'uv\\': 1.0, \\'gust_mph\\': 8.3, \\'gust_kph\\': 13.4}}\"}, {\\'url\\': \\'https://www.wunderground.com/hourly/us/ca/san-francisco/date/2024-6-30\\', \\'content\\': \\'Current Weather for Popular Cities . San Francisco, CA 58 ° F Fair; Manhattan, NY warning 73 ° F Clear; Schiller Park, IL (60176) warning 76 ° F Mostly Cloudy; Boston, MA 65 ° F Cloudy ...\\'}]', name='tavily_search_results_json', tool_call_id='call_WwXejdcRhhG11vqH0Jp67r9i')]} \n",
      "\n",
      "event value messages: [ToolMessage(content='[{\\'url\\': \\'https://www.weatherapi.com/\\', \\'content\\': \"{\\'location\\': {\\'name\\': \\'San Francisco\\', \\'region\\': \\'California\\', \\'country\\': \\'United States of America\\', \\'lat\\': 37.78, \\'lon\\': -122.42, \\'tz_id\\': \\'America/Los_Angeles\\', \\'localtime_epoch\\': 1722943049, \\'localtime\\': \\'2024-08-06 04:17\\'}, \\'current\\': {\\'last_updated_epoch\\': 1722942900, \\'last_updated\\': \\'2024-08-06 04:15\\', \\'temp_c\\': 12.6, \\'temp_f\\': 54.8, \\'is_day\\': 0, \\'condition\\': {\\'text\\': \\'Partly Cloudy\\', \\'icon\\': \\'//cdn.weatherapi.com/weather/64x64/night/116.png\\', \\'code\\': 1003}, \\'wind_mph\\': 5.1, \\'wind_kph\\': 8.3, \\'wind_degree\\': 222, \\'wind_dir\\': \\'SW\\', \\'pressure_mb\\': 1015.0, \\'pressure_in\\': 29.96, \\'precip_mm\\': 0.0, \\'precip_in\\': 0.0, \\'humidity\\': 91, \\'cloud\\': 37, \\'feelslike_c\\': 12.1, \\'feelslike_f\\': 53.7, \\'windchill_c\\': 12.1, \\'windchill_f\\': 53.7, \\'heatindex_c\\': 12.6, \\'heatindex_f\\': 54.8, \\'dewpoint_c\\': 11.3, \\'dewpoint_f\\': 52.3, \\'vis_km\\': 10.0, \\'vis_miles\\': 6.0, \\'uv\\': 1.0, \\'gust_mph\\': 8.3, \\'gust_kph\\': 13.4}}\"}, {\\'url\\': \\'https://www.wunderground.com/hourly/us/ca/san-francisco/date/2024-6-30\\', \\'content\\': \\'Current Weather for Popular Cities . San Francisco, CA 58 ° F Fair; Manhattan, NY warning 73 ° F Clear; Schiller Park, IL (60176) warning 76 ° F Mostly Cloudy; Boston, MA 65 ° F Cloudy ...\\'}]', name='tavily_search_results_json', tool_call_id='call_WwXejdcRhhG11vqH0Jp67r9i')] \n",
      "\n"
     ]
    },
    {
     "name": "stdout",
     "output_type": "stream",
     "text": [
      "event: {'llm': {'messages': [AIMessage(content='The current weather in San Francisco is partly cloudy with a temperature of 12.6°C (54.8°F). The wind is coming from the southwest at 5.1 mph (8.3 kph), and the humidity level is at 91%. Visibility is 10 km (6 miles), and the UV index is 1.', response_metadata={'token_usage': {'completion_tokens': 71, 'prompt_tokens': 680, 'total_tokens': 751}, 'model_name': 'gpt-4o', 'system_fingerprint': 'fp_3aa7262c27', 'finish_reason': 'stop', 'logprobs': None}, id='run-1fed1979-f53a-4c5c-9a4e-7da7979aee8d-0')]}} \n",
      "\n",
      "event value: {'messages': [AIMessage(content='The current weather in San Francisco is partly cloudy with a temperature of 12.6°C (54.8°F). The wind is coming from the southwest at 5.1 mph (8.3 kph), and the humidity level is at 91%. Visibility is 10 km (6 miles), and the UV index is 1.', response_metadata={'token_usage': {'completion_tokens': 71, 'prompt_tokens': 680, 'total_tokens': 751}, 'model_name': 'gpt-4o', 'system_fingerprint': 'fp_3aa7262c27', 'finish_reason': 'stop', 'logprobs': None}, id='run-1fed1979-f53a-4c5c-9a4e-7da7979aee8d-0')]} \n",
      "\n",
      "event value messages: [AIMessage(content='The current weather in San Francisco is partly cloudy with a temperature of 12.6°C (54.8°F). The wind is coming from the southwest at 5.1 mph (8.3 kph), and the humidity level is at 91%. Visibility is 10 km (6 miles), and the UV index is 1.', response_metadata={'token_usage': {'completion_tokens': 71, 'prompt_tokens': 680, 'total_tokens': 751}, 'model_name': 'gpt-4o', 'system_fingerprint': 'fp_3aa7262c27', 'finish_reason': 'stop', 'logprobs': None}, id='run-1fed1979-f53a-4c5c-9a4e-7da7979aee8d-0')] \n",
      "\n"
     ]
    }
   ],
   "source": [
    "for event in abot.graph.stream({\"messages\": messages}, thread):\n",
    "    print(f\"event: {event} \\n\")\n",
    "    for v in event.values():\n",
    "        print(f\"event value: {v} \\n\")\n",
    "        print(f\"event value messages: {v['messages']} \\n\")"
   ]
  },
  {
   "cell_type": "code",
   "execution_count": 11,
   "id": "6cb3ef4c-58b3-401b-b104-0d51e553d982",
   "metadata": {
    "height": 98
   },
   "outputs": [
    {
     "name": "stdout",
     "output_type": "stream",
     "text": [
      "event: {'llm': {'messages': [AIMessage(content='', additional_kwargs={'tool_calls': [{'id': 'call_XCiKxguJowjgLTa4fMQz2Wow', 'function': {'arguments': '{\"query\":\"current weather in Los Angeles\"}', 'name': 'tavily_search_results_json'}, 'type': 'function'}]}, response_metadata={'token_usage': {'completion_tokens': 22, 'prompt_tokens': 763, 'total_tokens': 785}, 'model_name': 'gpt-4o', 'system_fingerprint': 'fp_3aa7262c27', 'finish_reason': 'tool_calls', 'logprobs': None}, id='run-fe4f8e8c-5fbc-4c72-9a4b-d46b16e12ad1-0', tool_calls=[{'name': 'tavily_search_results_json', 'args': {'query': 'current weather in Los Angeles'}, 'id': 'call_XCiKxguJowjgLTa4fMQz2Wow'}])]}} \n",
      "\n",
      "event value: {'messages': [AIMessage(content='', additional_kwargs={'tool_calls': [{'id': 'call_XCiKxguJowjgLTa4fMQz2Wow', 'function': {'arguments': '{\"query\":\"current weather in Los Angeles\"}', 'name': 'tavily_search_results_json'}, 'type': 'function'}]}, response_metadata={'token_usage': {'completion_tokens': 22, 'prompt_tokens': 763, 'total_tokens': 785}, 'model_name': 'gpt-4o', 'system_fingerprint': 'fp_3aa7262c27', 'finish_reason': 'tool_calls', 'logprobs': None}, id='run-fe4f8e8c-5fbc-4c72-9a4b-d46b16e12ad1-0', tool_calls=[{'name': 'tavily_search_results_json', 'args': {'query': 'current weather in Los Angeles'}, 'id': 'call_XCiKxguJowjgLTa4fMQz2Wow'}])]} \n",
      "\n",
      "number of tool calls: 1 \n",
      "\n",
      "tool calls: [{'name': 'tavily_search_results_json', 'args': {'query': 'current weather in Los Angeles'}, 'id': 'call_XCiKxguJowjgLTa4fMQz2Wow'}] \n",
      "\n",
      "Calling: {'name': 'tavily_search_results_json', 'args': {'query': 'current weather in Los Angeles'}, 'id': 'call_XCiKxguJowjgLTa4fMQz2Wow'} \n",
      "\n",
      "result: [{'url': 'https://www.weatherapi.com/', 'content': \"{'location': {'name': 'Los Angeles', 'region': 'California', 'country': 'United States of America', 'lat': 34.05, 'lon': -118.24, 'tz_id': 'America/Los_Angeles', 'localtime_epoch': 1722943454, 'localtime': '2024-08-06 04:24'}, 'current': {'last_updated_epoch': 1722942900, 'last_updated': '2024-08-06 04:15', 'temp_c': 24.4, 'temp_f': 75.9, 'is_day': 0, 'condition': {'text': 'Clear', 'icon': '//cdn.weatherapi.com/weather/64x64/night/113.png', 'code': 1000}, 'wind_mph': 2.9, 'wind_kph': 4.7, 'wind_degree': 182, 'wind_dir': 'S', 'pressure_mb': 1012.0, 'pressure_in': 29.88, 'precip_mm': 0.0, 'precip_in': 0.0, 'humidity': 54, 'cloud': 6, 'feelslike_c': 25.6, 'feelslike_f': 78.1, 'windchill_c': 24.4, 'windchill_f': 75.9, 'heatindex_c': 25.6, 'heatindex_f': 78.1, 'dewpoint_c': 14.7, 'dewpoint_f': 58.5, 'vis_km': 10.0, 'vis_miles': 6.0, 'uv': 1.0, 'gust_mph': 4.4, 'gust_kph': 7.1}}\"}, {'url': 'https://www.ventusky.com/35.850;-119.420', 'content': 'Location ☀ Weather forecast for 10 days, information from meteorological stations, webcams, sunrise and sunset, wind and precipitation maps for this place ... America/Los_Angeles (UTC-7) / Current time: 00:16 2024/08/06 . Current Weather ; Forecast ; Sun and Moon ... (23:55 2024/08/05) Weather for the next 24 hours . 01:00 02:00 03:00 04:00 ...'}] \n",
      "\n",
      "all results: [ToolMessage(content='[{\\'url\\': \\'https://www.weatherapi.com/\\', \\'content\\': \"{\\'location\\': {\\'name\\': \\'Los Angeles\\', \\'region\\': \\'California\\', \\'country\\': \\'United States of America\\', \\'lat\\': 34.05, \\'lon\\': -118.24, \\'tz_id\\': \\'America/Los_Angeles\\', \\'localtime_epoch\\': 1722943454, \\'localtime\\': \\'2024-08-06 04:24\\'}, \\'current\\': {\\'last_updated_epoch\\': 1722942900, \\'last_updated\\': \\'2024-08-06 04:15\\', \\'temp_c\\': 24.4, \\'temp_f\\': 75.9, \\'is_day\\': 0, \\'condition\\': {\\'text\\': \\'Clear\\', \\'icon\\': \\'//cdn.weatherapi.com/weather/64x64/night/113.png\\', \\'code\\': 1000}, \\'wind_mph\\': 2.9, \\'wind_kph\\': 4.7, \\'wind_degree\\': 182, \\'wind_dir\\': \\'S\\', \\'pressure_mb\\': 1012.0, \\'pressure_in\\': 29.88, \\'precip_mm\\': 0.0, \\'precip_in\\': 0.0, \\'humidity\\': 54, \\'cloud\\': 6, \\'feelslike_c\\': 25.6, \\'feelslike_f\\': 78.1, \\'windchill_c\\': 24.4, \\'windchill_f\\': 75.9, \\'heatindex_c\\': 25.6, \\'heatindex_f\\': 78.1, \\'dewpoint_c\\': 14.7, \\'dewpoint_f\\': 58.5, \\'vis_km\\': 10.0, \\'vis_miles\\': 6.0, \\'uv\\': 1.0, \\'gust_mph\\': 4.4, \\'gust_kph\\': 7.1}}\"}, {\\'url\\': \\'https://www.ventusky.com/35.850;-119.420\\', \\'content\\': \\'Location ☀ Weather forecast for 10 days, information from meteorological stations, webcams, sunrise and sunset, wind and precipitation maps for this place ... America/Los_Angeles (UTC-7) / Current time: 00:16 2024/08/06 . Current Weather ; Forecast ; Sun and Moon ... (23:55 2024/08/05) Weather for the next 24 hours . 01:00 02:00 03:00 04:00 ...\\'}]', name='tavily_search_results_json', tool_call_id='call_XCiKxguJowjgLTa4fMQz2Wow')] \n",
      "\n",
      "Back to the model! \n",
      "\n",
      "event: {'action': {'messages': [ToolMessage(content='[{\\'url\\': \\'https://www.weatherapi.com/\\', \\'content\\': \"{\\'location\\': {\\'name\\': \\'Los Angeles\\', \\'region\\': \\'California\\', \\'country\\': \\'United States of America\\', \\'lat\\': 34.05, \\'lon\\': -118.24, \\'tz_id\\': \\'America/Los_Angeles\\', \\'localtime_epoch\\': 1722943454, \\'localtime\\': \\'2024-08-06 04:24\\'}, \\'current\\': {\\'last_updated_epoch\\': 1722942900, \\'last_updated\\': \\'2024-08-06 04:15\\', \\'temp_c\\': 24.4, \\'temp_f\\': 75.9, \\'is_day\\': 0, \\'condition\\': {\\'text\\': \\'Clear\\', \\'icon\\': \\'//cdn.weatherapi.com/weather/64x64/night/113.png\\', \\'code\\': 1000}, \\'wind_mph\\': 2.9, \\'wind_kph\\': 4.7, \\'wind_degree\\': 182, \\'wind_dir\\': \\'S\\', \\'pressure_mb\\': 1012.0, \\'pressure_in\\': 29.88, \\'precip_mm\\': 0.0, \\'precip_in\\': 0.0, \\'humidity\\': 54, \\'cloud\\': 6, \\'feelslike_c\\': 25.6, \\'feelslike_f\\': 78.1, \\'windchill_c\\': 24.4, \\'windchill_f\\': 75.9, \\'heatindex_c\\': 25.6, \\'heatindex_f\\': 78.1, \\'dewpoint_c\\': 14.7, \\'dewpoint_f\\': 58.5, \\'vis_km\\': 10.0, \\'vis_miles\\': 6.0, \\'uv\\': 1.0, \\'gust_mph\\': 4.4, \\'gust_kph\\': 7.1}}\"}, {\\'url\\': \\'https://www.ventusky.com/35.850;-119.420\\', \\'content\\': \\'Location ☀ Weather forecast for 10 days, information from meteorological stations, webcams, sunrise and sunset, wind and precipitation maps for this place ... America/Los_Angeles (UTC-7) / Current time: 00:16 2024/08/06 . Current Weather ; Forecast ; Sun and Moon ... (23:55 2024/08/05) Weather for the next 24 hours . 01:00 02:00 03:00 04:00 ...\\'}]', name='tavily_search_results_json', tool_call_id='call_XCiKxguJowjgLTa4fMQz2Wow')]}} \n",
      "\n",
      "event value: {'messages': [ToolMessage(content='[{\\'url\\': \\'https://www.weatherapi.com/\\', \\'content\\': \"{\\'location\\': {\\'name\\': \\'Los Angeles\\', \\'region\\': \\'California\\', \\'country\\': \\'United States of America\\', \\'lat\\': 34.05, \\'lon\\': -118.24, \\'tz_id\\': \\'America/Los_Angeles\\', \\'localtime_epoch\\': 1722943454, \\'localtime\\': \\'2024-08-06 04:24\\'}, \\'current\\': {\\'last_updated_epoch\\': 1722942900, \\'last_updated\\': \\'2024-08-06 04:15\\', \\'temp_c\\': 24.4, \\'temp_f\\': 75.9, \\'is_day\\': 0, \\'condition\\': {\\'text\\': \\'Clear\\', \\'icon\\': \\'//cdn.weatherapi.com/weather/64x64/night/113.png\\', \\'code\\': 1000}, \\'wind_mph\\': 2.9, \\'wind_kph\\': 4.7, \\'wind_degree\\': 182, \\'wind_dir\\': \\'S\\', \\'pressure_mb\\': 1012.0, \\'pressure_in\\': 29.88, \\'precip_mm\\': 0.0, \\'precip_in\\': 0.0, \\'humidity\\': 54, \\'cloud\\': 6, \\'feelslike_c\\': 25.6, \\'feelslike_f\\': 78.1, \\'windchill_c\\': 24.4, \\'windchill_f\\': 75.9, \\'heatindex_c\\': 25.6, \\'heatindex_f\\': 78.1, \\'dewpoint_c\\': 14.7, \\'dewpoint_f\\': 58.5, \\'vis_km\\': 10.0, \\'vis_miles\\': 6.0, \\'uv\\': 1.0, \\'gust_mph\\': 4.4, \\'gust_kph\\': 7.1}}\"}, {\\'url\\': \\'https://www.ventusky.com/35.850;-119.420\\', \\'content\\': \\'Location ☀ Weather forecast for 10 days, information from meteorological stations, webcams, sunrise and sunset, wind and precipitation maps for this place ... America/Los_Angeles (UTC-7) / Current time: 00:16 2024/08/06 . Current Weather ; Forecast ; Sun and Moon ... (23:55 2024/08/05) Weather for the next 24 hours . 01:00 02:00 03:00 04:00 ...\\'}]', name='tavily_search_results_json', tool_call_id='call_XCiKxguJowjgLTa4fMQz2Wow')]} \n",
      "\n",
      "event: {'llm': {'messages': [AIMessage(content='The current weather in Los Angeles is clear with a temperature of 24.4°C (75.9°F). The wind is coming from the south at 2.9 mph (4.7 kph), and the humidity level is at 54%. Visibility is 10 km (6 miles), and the UV index is 1.', response_metadata={'token_usage': {'completion_tokens': 70, 'prompt_tokens': 1328, 'total_tokens': 1398}, 'model_name': 'gpt-4o', 'system_fingerprint': 'fp_3aa7262c27', 'finish_reason': 'stop', 'logprobs': None}, id='run-9f55b62e-45ee-419e-bb1a-abde0d344750-0')]}} \n",
      "\n",
      "event value: {'messages': [AIMessage(content='The current weather in Los Angeles is clear with a temperature of 24.4°C (75.9°F). The wind is coming from the south at 2.9 mph (4.7 kph), and the humidity level is at 54%. Visibility is 10 km (6 miles), and the UV index is 1.', response_metadata={'token_usage': {'completion_tokens': 70, 'prompt_tokens': 1328, 'total_tokens': 1398}, 'model_name': 'gpt-4o', 'system_fingerprint': 'fp_3aa7262c27', 'finish_reason': 'stop', 'logprobs': None}, id='run-9f55b62e-45ee-419e-bb1a-abde0d344750-0')]} \n",
      "\n"
     ]
    }
   ],
   "source": [
    "messages = [HumanMessage(content=\"What about in la?\")]\n",
    "thread = {\"configurable\": {\"thread_id\": \"1\"}}\n",
    "for event in abot.graph.stream({\"messages\": messages}, thread):\n",
    "    print(f\"event: {event} \\n\")\n",
    "    for v in event.values():\n",
    "        print(f\"event value: {v} \\n\")"
   ]
  },
  {
   "cell_type": "code",
   "execution_count": 12,
   "id": "dc3293b7-a50c-43c8-a022-8975e1e444b8",
   "metadata": {
    "height": 98
   },
   "outputs": [
    {
     "name": "stdout",
     "output_type": "stream",
     "text": [
      "event: {'llm': {'messages': [AIMessage(content='Los Angeles is warmer than San Francisco. The current temperature in Los Angeles is 24.4°C (75.9°F), while in San Francisco it is 12.6°C (54.8°F).', response_metadata={'token_usage': {'completion_tokens': 44, 'prompt_tokens': 1410, 'total_tokens': 1454}, 'model_name': 'gpt-4o', 'system_fingerprint': 'fp_3aa7262c27', 'finish_reason': 'stop', 'logprobs': None}, id='run-34569696-c618-4634-95f6-76e8b34262b7-0')]}} \n",
      "\n",
      "event value: {'messages': [AIMessage(content='Los Angeles is warmer than San Francisco. The current temperature in Los Angeles is 24.4°C (75.9°F), while in San Francisco it is 12.6°C (54.8°F).', response_metadata={'token_usage': {'completion_tokens': 44, 'prompt_tokens': 1410, 'total_tokens': 1454}, 'model_name': 'gpt-4o', 'system_fingerprint': 'fp_3aa7262c27', 'finish_reason': 'stop', 'logprobs': None}, id='run-34569696-c618-4634-95f6-76e8b34262b7-0')]} \n",
      "\n"
     ]
    }
   ],
   "source": [
    "messages = [HumanMessage(content=\"Which one is warmer?\")]\n",
    "thread = {\"configurable\": {\"thread_id\": \"1\"}}\n",
    "for event in abot.graph.stream({\"messages\": messages}, thread):\n",
    "    print(f\"event: {event} \\n\")\n",
    "    for v in event.values():\n",
    "        print(f\"event value: {v} \\n\")"
   ]
  },
  {
   "cell_type": "markdown",
   "id": "2f1bf633",
   "metadata": {
    "height": 31
   },
   "source": [
    "Note: If you change the thread_id, the agent has no context of previous conversations in that thread.  \n",
    "Threads allow you to have multiple conversations with the agent"
   ]
  },
  {
   "cell_type": "code",
   "execution_count": 13,
   "id": "0722c3d4-4cbf-43bf-81b0-50f634c4ce61",
   "metadata": {
    "height": 98
   },
   "outputs": [
    {
     "name": "stdout",
     "output_type": "stream",
     "text": [
      "{'messages': [AIMessage(content='Could you please specify the two locations or items you are comparing in terms of warmth?', response_metadata={'token_usage': {'completion_tokens': 18, 'prompt_tokens': 149, 'total_tokens': 167}, 'model_name': 'gpt-4o', 'system_fingerprint': 'fp_3aa7262c27', 'finish_reason': 'stop', 'logprobs': None}, id='run-bd36ff65-8738-4e83-ac42-21c22676a79e-0')]}\n"
     ]
    }
   ],
   "source": [
    "messages = [HumanMessage(content=\"Which one is warmer?\")]\n",
    "thread = {\"configurable\": {\"thread_id\": \"2\"}}\n",
    "for event in abot.graph.stream({\"messages\": messages}, thread):\n",
    "    for v in event.values():\n",
    "        print(v)"
   ]
  },
  {
   "cell_type": "markdown",
   "id": "ace59a36-3941-459e-b9d1-ac5a4a1ed3ae",
   "metadata": {},
   "source": [
    "## Streaming tokens"
   ]
  },
  {
   "cell_type": "code",
   "execution_count": 14,
   "id": "6b2f82fe-3ec4-4917-be51-9fb10d1317fa",
   "metadata": {
    "height": 81
   },
   "outputs": [],
   "source": [
    "from langgraph.checkpoint.aiosqlite import AsyncSqliteSaver\n",
    "\n",
    "memory = AsyncSqliteSaver.from_conn_string(\":memory:\")\n",
    "abot = Agent(model, [tool], system=prompt, checkpointer=memory)"
   ]
  },
  {
   "cell_type": "code",
   "execution_count": 15,
   "id": "ee0fe1c7-77e2-499c-a2f9-1f739bb6ddf0",
   "metadata": {
    "height": 200
   },
   "outputs": [
    {
     "name": "stderr",
     "output_type": "stream",
     "text": [
      "/usr/local/lib/python3.11/site-packages/langchain_core/_api/beta_decorator.py:87: LangChainBetaWarning: This API is in beta and may change in the future.\n",
      "  warn_beta(\n"
     ]
    },
    {
     "name": "stdout",
     "output_type": "stream",
     "text": [
      "number of tool calls: 1 \n",
      "\n",
      "tool calls: [{'name': 'tavily_search_results_json', 'args': {'query': 'current weather in San Francisco'}, 'id': 'call_E2sI0Nw5b8ZfTOIp0QVkXHgS'}] \n",
      "\n",
      "Calling: {'name': 'tavily_search_results_json', 'args': {'query': 'current weather in San Francisco'}, 'id': 'call_E2sI0Nw5b8ZfTOIp0QVkXHgS'} \n",
      "\n",
      "result: [{'url': 'https://www.weatherapi.com/', 'content': \"{'location': {'name': 'San Francisco', 'region': 'California', 'country': 'United States of America', 'lat': 37.78, 'lon': -122.42, 'tz_id': 'America/Los_Angeles', 'localtime_epoch': 1722943049, 'localtime': '2024-08-06 04:17'}, 'current': {'last_updated_epoch': 1722942900, 'last_updated': '2024-08-06 04:15', 'temp_c': 12.6, 'temp_f': 54.8, 'is_day': 0, 'condition': {'text': 'Partly Cloudy', 'icon': '//cdn.weatherapi.com/weather/64x64/night/116.png', 'code': 1003}, 'wind_mph': 5.1, 'wind_kph': 8.3, 'wind_degree': 222, 'wind_dir': 'SW', 'pressure_mb': 1015.0, 'pressure_in': 29.96, 'precip_mm': 0.0, 'precip_in': 0.0, 'humidity': 91, 'cloud': 37, 'feelslike_c': 12.1, 'feelslike_f': 53.7, 'windchill_c': 12.1, 'windchill_f': 53.7, 'heatindex_c': 12.6, 'heatindex_f': 54.8, 'dewpoint_c': 11.3, 'dewpoint_f': 52.3, 'vis_km': 10.0, 'vis_miles': 6.0, 'uv': 1.0, 'gust_mph': 8.3, 'gust_kph': 13.4}}\"}, {'url': 'https://www.weathertab.com/en/c/e/08/united-states/california/san-francisco/', 'content': 'Explore comprehensive August 2024 weather forecasts for San Francisco, including daily high and low temperatures, precipitation risks, and monthly temperature trends. Featuring detailed day-by-day forecasts, dynamic graphs of daily rain probabilities, and temperature trends to help you plan ahead. ... 4 64°F 53°F 18°C 12°C 06% 5 63°F 53°F ...'}] \n",
      "\n",
      "all results: [ToolMessage(content='[{\\'url\\': \\'https://www.weatherapi.com/\\', \\'content\\': \"{\\'location\\': {\\'name\\': \\'San Francisco\\', \\'region\\': \\'California\\', \\'country\\': \\'United States of America\\', \\'lat\\': 37.78, \\'lon\\': -122.42, \\'tz_id\\': \\'America/Los_Angeles\\', \\'localtime_epoch\\': 1722943049, \\'localtime\\': \\'2024-08-06 04:17\\'}, \\'current\\': {\\'last_updated_epoch\\': 1722942900, \\'last_updated\\': \\'2024-08-06 04:15\\', \\'temp_c\\': 12.6, \\'temp_f\\': 54.8, \\'is_day\\': 0, \\'condition\\': {\\'text\\': \\'Partly Cloudy\\', \\'icon\\': \\'//cdn.weatherapi.com/weather/64x64/night/116.png\\', \\'code\\': 1003}, \\'wind_mph\\': 5.1, \\'wind_kph\\': 8.3, \\'wind_degree\\': 222, \\'wind_dir\\': \\'SW\\', \\'pressure_mb\\': 1015.0, \\'pressure_in\\': 29.96, \\'precip_mm\\': 0.0, \\'precip_in\\': 0.0, \\'humidity\\': 91, \\'cloud\\': 37, \\'feelslike_c\\': 12.1, \\'feelslike_f\\': 53.7, \\'windchill_c\\': 12.1, \\'windchill_f\\': 53.7, \\'heatindex_c\\': 12.6, \\'heatindex_f\\': 54.8, \\'dewpoint_c\\': 11.3, \\'dewpoint_f\\': 52.3, \\'vis_km\\': 10.0, \\'vis_miles\\': 6.0, \\'uv\\': 1.0, \\'gust_mph\\': 8.3, \\'gust_kph\\': 13.4}}\"}, {\\'url\\': \\'https://www.weathertab.com/en/c/e/08/united-states/california/san-francisco/\\', \\'content\\': \\'Explore comprehensive August 2024 weather forecasts for San Francisco, including daily high and low temperatures, precipitation risks, and monthly temperature trends. Featuring detailed day-by-day forecasts, dynamic graphs of daily rain probabilities, and temperature trends to help you plan ahead. ... 4 64°F 53°F 18°C 12°C 06% 5 63°F 53°F ...\\'}]', name='tavily_search_results_json', tool_call_id='call_E2sI0Nw5b8ZfTOIp0QVkXHgS')] \n",
      "\n",
      "Back to the model! \n",
      "\n",
      "As| of| the| latest| update|,| the| current| weather| in| San| Francisco| is| as| follows|:\n",
      "\n",
      "|-| **|Temperature|:**| |12|.|6|°C| (|54|.|8|°F|)\n",
      "|-| **|Condition|:**| Part|ly| Cloud|y|\n",
      "|-| **|Wind|:**| |5|.|1| mph| (|8|.|3| k|ph|)| from| the| southwest|\n",
      "|-| **|Humidity|:**| |91|%\n",
      "|-| **|Visibility|:**| |10| km| (|6| miles|)\n",
      "\n",
      "|It's| currently| nighttime| in| San| Francisco|.|"
     ]
    }
   ],
   "source": [
    "messages = [HumanMessage(content=\"What is the weather in SF?\")]\n",
    "thread = {\"configurable\": {\"thread_id\": \"4\"}}\n",
    "async for event in abot.graph.astream_events({\"messages\": messages}, thread, version=\"v1\"):\n",
    "    kind = event[\"event\"]\n",
    "    if kind == \"on_chat_model_stream\":\n",
    "        content = event[\"data\"][\"chunk\"].content\n",
    "        if content:\n",
    "            # Empty content in the context of OpenAI means\n",
    "            # that the model is asking for a tool to be invoked.\n",
    "            # So we only print non-empty content\n",
    "            print(content, end=\"|\")"
   ]
  },
  {
   "cell_type": "code",
   "execution_count": null,
   "id": "98f303b1-a4d0-408c-8cc0-515ff980717f",
   "metadata": {
    "height": 30
   },
   "outputs": [],
   "source": []
  }
 ],
 "metadata": {
  "kernelspec": {
   "display_name": "Python 3 (ipykernel)",
   "language": "python",
   "name": "python3"
  },
  "language_info": {
   "codemirror_mode": {
    "name": "ipython",
    "version": 3
   },
   "file_extension": ".py",
   "mimetype": "text/x-python",
   "name": "python",
   "nbconvert_exporter": "python",
   "pygments_lexer": "ipython3",
   "version": "3.11.9"
  }
 },
 "nbformat": 4,
 "nbformat_minor": 5
}
